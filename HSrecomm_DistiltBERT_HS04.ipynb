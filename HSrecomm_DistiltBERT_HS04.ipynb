{
 "cells": [
  {
   "cell_type": "markdown",
   "metadata": {},
   "source": [
    "# TT1 - MDM UBA - 2025\n",
    "\n",
    "**Tariff classification using NLP**\n",
    "\n",
    "By Santiago Tedoldi"
   ]
  },
  {
   "cell_type": "markdown",
   "metadata": {},
   "source": [
    "## Training a DistiltBERT for classification"
   ]
  },
  {
   "cell_type": "code",
   "execution_count": 2,
   "metadata": {},
   "outputs": [],
   "source": [
    "# Dependencies\n",
    "import os\n",
    "import pandas as pd\n",
    "import numpy as np\n",
    "import matplotlib.pyplot as plt\n",
    "import plotly.graph_objects as go\n",
    "from sklearn.decomposition import PCA\n",
    "\n"
   ]
  },
  {
   "cell_type": "markdown",
   "metadata": {},
   "source": [
    "### Raw dataset"
   ]
  },
  {
   "cell_type": "code",
   "execution_count": 3,
   "metadata": {},
   "outputs": [],
   "source": [
    "colspecs = [(0, 6), (6, None)]\n",
    "data_type = {'HS06': str}\n",
    "df = pd.read_fwf('data/raw_data_HScodes_desc.txt',\n",
    "                 colspecs=colspecs, header=None,\n",
    "                 names=['HS06', 'GOODS_DESCRIPTION'],\n",
    "                 dtype=data_type)"
   ]
  },
  {
   "cell_type": "markdown",
   "metadata": {},
   "source": [
    "### Quick EDA\n",
    "\n",
    "null and duplicated samples\n",
    "\n",
    "dropping duplicates\n",
    "\n",
    "analyzing tops and bottoms regarding frequencies"
   ]
  },
  {
   "cell_type": "code",
   "execution_count": 4,
   "metadata": {},
   "outputs": [
    {
     "name": "stdout",
     "output_type": "stream",
     "text": [
      "=== Quick EDA ===\n",
      "Nulls per column:\n",
      "HS06                 0\n",
      "GOODS_DESCRIPTION    0\n",
      "HS04                 0\n",
      "HS02                 0\n",
      "dtype: int64 \n",
      "\n",
      "Duplicate rows: 232220 \n",
      "\n",
      "## Samples per chapter (HS02)\n",
      "\n",
      "### Top 10\n",
      "|   HS02 |   count | rel_freq   | cum_freq   |\n",
      "|-------:|--------:|:-----------|:-----------|\n",
      "|     84 |   54901 | 20.5%      | 20.5%      |\n",
      "|     85 |   33571 | 12.54%     | 33.04%     |\n",
      "|     87 |   28476 | 10.63%     | 43.67%     |\n",
      "|     73 |   16173 | 6.04%      | 49.71%     |\n",
      "|     39 |   12218 | 4.56%      | 54.28%     |\n",
      "|     90 |   11611 | 4.34%      | 58.61%     |\n",
      "|     82 |    7972 | 2.98%      | 61.59%     |\n",
      "|     94 |    7921 | 2.96%      | 64.55%     |\n",
      "|     40 |    7526 | 2.81%      | 67.36%     |\n",
      "|     83 |    4285 | 1.6%       | 68.96%     | \n",
      "\n",
      "### Bottom 10\n",
      "|   HS02 |   count | rel_freq   | cum_freq   |\n",
      "|-------:|--------:|:-----------|:-----------|\n",
      "|     41 |      22 | 0.01%      | 99.96%     |\n",
      "|     81 |      19 | 0.01%      | 99.97%     |\n",
      "|     45 |      19 | 0.01%      | 99.97%     |\n",
      "|     05 |      15 | 0.01%      | 99.98%     |\n",
      "|     80 |      15 | 0.01%      | 99.98%     |\n",
      "|     50 |      11 | 0.0%       | 99.99%     |\n",
      "|     14 |      11 | 0.0%       | 99.99%     |\n",
      "|     78 |      10 | 0.0%       | 100.0%     |\n",
      "|     51 |       6 | 0.0%       | 100.0%     |\n",
      "|     43 |       5 | 0.0%       | 100.0%     | \n",
      "\n",
      "## Samples per heading (HS04)\n",
      "\n",
      "### Top 10\n",
      "|   HS04 |   count | rel_freq   | cum_freq   |\n",
      "|-------:|--------:|:-----------|:-----------|\n",
      "|   8708 |    8524 | 3.18%      | 3.18%      |\n",
      "|   8703 |    7341 | 2.74%      | 5.92%      |\n",
      "|   7318 |    5700 | 2.13%      | 8.05%      |\n",
      "|   8536 |    5487 | 2.05%      | 10.1%      |\n",
      "|   8482 |    4895 | 1.83%      | 11.93%     |\n",
      "|   8421 |    4593 | 1.72%      | 13.65%     |\n",
      "|   8431 |    3910 | 1.46%      | 15.11%     |\n",
      "|   8483 |    3819 | 1.43%      | 16.53%     |\n",
      "|   8481 |    3562 | 1.33%      | 17.86%     |\n",
      "|   8714 |    3485 | 1.3%       | 19.16%     | \n",
      "\n",
      "### Bottom 10\n",
      "|   HS04 |   count | rel_freq   | cum_freq   |\n",
      "|-------:|--------:|:-----------|:-----------|\n",
      "|   2613 |       1 | 0.0%       | 100.0%     |\n",
      "|   8106 |       1 | 0.0%       | 100.0%     |\n",
      "|   8105 |       1 | 0.0%       | 100.0%     |\n",
      "|   2702 |       1 | 0.0%       | 100.0%     |\n",
      "|   2305 |       1 | 0.0%       | 100.0%     |\n",
      "|   9702 |       1 | 0.0%       | 100.0%     |\n",
      "|   1505 |       1 | 0.0%       | 100.0%     |\n",
      "|   7402 |       1 | 0.0%       | 100.0%     |\n",
      "|   5308 |       1 | 0.0%       | 100.0%     |\n",
      "|   1007 |       1 | 0.0%       | 100.0%     | \n",
      "\n",
      "## Samples per subheading (HS06)\n",
      "\n",
      "### Top 10\n",
      "|   HS06 |   count | rel_freq   | cum_freq   |\n",
      "|-------:|--------:|:-----------|:-----------|\n",
      "| 870323 |    3869 | 1.44%      | 1.44%      |\n",
      "| 848280 |    2924 | 1.09%      | 2.54%      |\n",
      "| 871120 |    2779 | 1.04%      | 3.57%      |\n",
      "| 731815 |    2632 | 0.98%      | 4.56%      |\n",
      "| 870322 |    2247 | 0.84%      | 5.4%       |\n",
      "| 870899 |    2074 | 0.77%      | 6.17%      |\n",
      "| 950300 |    1988 | 0.74%      | 6.91%      |\n",
      "| 940540 |    1874 | 0.7%       | 7.61%      |\n",
      "| 848180 |    1857 | 0.69%      | 8.31%      |\n",
      "| 901890 |    1836 | 0.69%      | 8.99%      | \n",
      "\n",
      "### Bottom 10\n",
      "|   HS06 |   count | rel_freq   | cum_freq   |\n",
      "|-------:|--------:|:-----------|:-----------|\n",
      "| 950621 |       1 | 0.0%       | 100.0%     |\n",
      "| 030349 |       1 | 0.0%       | 100.0%     |\n",
      "| 380852 |       1 | 0.0%       | 100.0%     |\n",
      "| 110813 |       1 | 0.0%       | 100.0%     |\n",
      "| 030354 |       1 | 0.0%       | 100.0%     |\n",
      "| 030759 |       1 | 0.0%       | 100.0%     |\n",
      "| 230500 |       1 | 0.0%       | 100.0%     |\n",
      "| 030119 |       1 | 0.0%       | 100.0%     |\n",
      "| 380110 |       1 | 0.0%       | 100.0%     |\n",
      "| 283640 |       1 | 0.0%       | 100.0%     | \n",
      "\n"
     ]
    }
   ],
   "source": [
    "# Quick EDA\n",
    "print(\"=== Quick EDA ===\")\n",
    "\n",
    "# Add HS02 (chapter) and HS04 (heading)\n",
    "df['HS04'] = df['HS06'].str[:4]\n",
    "df['HS02'] = df['HS06'].str[:2]\n",
    "\n",
    "print(\"Nulls per column:\")\n",
    "print(df.isnull().sum(), \"\\n\")\n",
    "\n",
    "print(\"Duplicate rows:\", df.duplicated().sum(), \"\\n\")\n",
    "\n",
    "# Function to build and display freq tables\n",
    "def freq_table(col, name):\n",
    "    vc      = df[col].value_counts().rename('count')\n",
    "    rel     = df[col].value_counts(normalize=True).rename('rel_freq')\n",
    "    cum     = rel.cumsum().rename('cum_freq')\n",
    "    summary = pd.concat([vc, rel, cum], axis=1)\n",
    "    summary['rel_freq'] = (summary['rel_freq'] * 100).round(2).astype(str) + '%'\n",
    "    summary['cum_freq'] = (summary['cum_freq'] * 100).round(2).astype(str) + '%'\n",
    "\n",
    "    print(f\"## Samples per {name} ({col})\\n\")\n",
    "    print(\"### Top 10\")\n",
    "    print(summary.head(10).to_markdown(), \"\\n\")\n",
    "    print(\"### Bottom 10\")\n",
    "    print(summary.tail(10).to_markdown(), \"\\n\")\n",
    "\n",
    "# Dropping duplicates\n",
    "df.drop_duplicates(inplace=True)\n",
    "\n",
    "# Chapter-level (HS02)\n",
    "freq_table('HS02', 'chapter')\n",
    "\n",
    "# Heading-level (HS04)\n",
    "freq_table('HS04', 'heading')\n",
    "\n",
    "# Subheading-level (HS06)\n",
    "freq_table('HS06', 'subheading')"
   ]
  },
  {
   "cell_type": "code",
   "execution_count": 5,
   "metadata": {},
   "outputs": [
    {
     "data": {
      "text/html": [
       "<div>\n",
       "<style scoped>\n",
       "    .dataframe tbody tr th:only-of-type {\n",
       "        vertical-align: middle;\n",
       "    }\n",
       "\n",
       "    .dataframe tbody tr th {\n",
       "        vertical-align: top;\n",
       "    }\n",
       "\n",
       "    .dataframe thead th {\n",
       "        text-align: right;\n",
       "    }\n",
       "</style>\n",
       "<table border=\"1\" class=\"dataframe\">\n",
       "  <thead>\n",
       "    <tr style=\"text-align: right;\">\n",
       "      <th></th>\n",
       "      <th>HS06</th>\n",
       "      <th>GOODS_DESCRIPTION</th>\n",
       "      <th>HS04</th>\n",
       "      <th>HS02</th>\n",
       "    </tr>\n",
       "  </thead>\n",
       "  <tbody>\n",
       "    <tr>\n",
       "      <th>0</th>\n",
       "      <td>271019</td>\n",
       "      <td>BRAKE FLUID DOT 4 50X200ML</td>\n",
       "      <td>2710</td>\n",
       "      <td>27</td>\n",
       "    </tr>\n",
       "    <tr>\n",
       "      <th>1</th>\n",
       "      <td>847710</td>\n",
       "      <td>PLASTIC INJECTION MOULD MODEL 21A 110G DSM1010...</td>\n",
       "      <td>8477</td>\n",
       "      <td>84</td>\n",
       "    </tr>\n",
       "    <tr>\n",
       "      <th>2</th>\n",
       "      <td>844399</td>\n",
       "      <td>LCD ASSEMBLY</td>\n",
       "      <td>8443</td>\n",
       "      <td>84</td>\n",
       "    </tr>\n",
       "    <tr>\n",
       "      <th>3</th>\n",
       "      <td>848280</td>\n",
       "      <td>BEARING 22238 KCAW33C3 BRAND MCB</td>\n",
       "      <td>8482</td>\n",
       "      <td>84</td>\n",
       "    </tr>\n",
       "    <tr>\n",
       "      <th>4</th>\n",
       "      <td>630900</td>\n",
       "      <td>USED HANDBAGS AND WALLETS</td>\n",
       "      <td>6309</td>\n",
       "      <td>63</td>\n",
       "    </tr>\n",
       "    <tr>\n",
       "      <th>...</th>\n",
       "      <td>...</td>\n",
       "      <td>...</td>\n",
       "      <td>...</td>\n",
       "      <td>...</td>\n",
       "    </tr>\n",
       "    <tr>\n",
       "      <th>499959</th>\n",
       "      <td>854239</td>\n",
       "      <td>PCB OPTIONAL ADD. KROPT V4.0 (NEW OUT PUT CARD)</td>\n",
       "      <td>8542</td>\n",
       "      <td>85</td>\n",
       "    </tr>\n",
       "    <tr>\n",
       "      <th>499961</th>\n",
       "      <td>842091</td>\n",
       "      <td>CYLINDER (SDA80*10F003000001A)</td>\n",
       "      <td>8420</td>\n",
       "      <td>84</td>\n",
       "    </tr>\n",
       "    <tr>\n",
       "      <th>499970</th>\n",
       "      <td>830249</td>\n",
       "      <td>BEOTIC DEVICE</td>\n",
       "      <td>8302</td>\n",
       "      <td>83</td>\n",
       "    </tr>\n",
       "    <tr>\n",
       "      <th>499981</th>\n",
       "      <td>901180</td>\n",
       "      <td>COMPOUND BINOCULAR MICROSCOPE</td>\n",
       "      <td>9011</td>\n",
       "      <td>90</td>\n",
       "    </tr>\n",
       "    <tr>\n",
       "      <th>499982</th>\n",
       "      <td>940180</td>\n",
       "      <td>RUBIK SINGLE SEATER COM 5</td>\n",
       "      <td>9401</td>\n",
       "      <td>94</td>\n",
       "    </tr>\n",
       "  </tbody>\n",
       "</table>\n",
       "<p>267780 rows × 4 columns</p>\n",
       "</div>"
      ],
      "text/plain": [
       "          HS06                                  GOODS_DESCRIPTION  HS04 HS02\n",
       "0       271019                         BRAKE FLUID DOT 4 50X200ML  2710   27\n",
       "1       847710  PLASTIC INJECTION MOULD MODEL 21A 110G DSM1010...  8477   84\n",
       "2       844399                                       LCD ASSEMBLY  8443   84\n",
       "3       848280                   BEARING 22238 KCAW33C3 BRAND MCB  8482   84\n",
       "4       630900                          USED HANDBAGS AND WALLETS  6309   63\n",
       "...        ...                                                ...   ...  ...\n",
       "499959  854239    PCB OPTIONAL ADD. KROPT V4.0 (NEW OUT PUT CARD)  8542   85\n",
       "499961  842091                     CYLINDER (SDA80*10F003000001A)  8420   84\n",
       "499970  830249                                      BEOTIC DEVICE  8302   83\n",
       "499981  901180                      COMPOUND BINOCULAR MICROSCOPE  9011   90\n",
       "499982  940180                          RUBIK SINGLE SEATER COM 5  9401   94\n",
       "\n",
       "[267780 rows x 4 columns]"
      ]
     },
     "execution_count": 5,
     "metadata": {},
     "output_type": "execute_result"
    }
   ],
   "source": [
    "df"
   ]
  },
  {
   "cell_type": "markdown",
   "metadata": {},
   "source": [
    "Merging with HS06 nomenclature"
   ]
  },
  {
   "cell_type": "code",
   "execution_count": 6,
   "metadata": {},
   "outputs": [],
   "source": [
    "df_hs06 = pd.read_csv('data/hs06_full_eng.csv', index_col='hs06', \n",
    "                      dtype={'hs06': str, 'full_eng': str},\n",
    "                      usecols=['hs06', 'full_eng'])"
   ]
  },
  {
   "cell_type": "code",
   "execution_count": 7,
   "metadata": {},
   "outputs": [
    {
     "name": "stdout",
     "output_type": "stream",
     "text": [
      "|   hs06 | full_eng                                                                              |\n",
      "|-------:|:--------------------------------------------------------------------------------------|\n",
      "| 010120 | Live horses, asses, mules and hinnies. && - Horses :                                  |\n",
      "| 010121 | Live horses, asses, mules and hinnies. && - Horses : && -- Pure-bred breeding animals |\n",
      "| 010129 | Live horses, asses, mules and hinnies. && - Horses : && -- Other                      |\n",
      "| 010130 | Live horses, asses, mules and hinnies. && - Asses                                     |\n",
      "| 010190 | Live horses, asses, mules and hinnies. && - Other                                     | \n",
      "\n",
      "|   hs06 | full_eng                                                                                                                                                                                                                                             |\n",
      "|-------:|:-----------------------------------------------------------------------------------------------------------------------------------------------------------------------------------------------------------------------------------------------------|\n",
      "| 961590 | Combs, hair-slides and the like; hairpins, curling pins, curling grips, hair-curlers and the like, other than those of heading 85.16, and parts thereof. && - Other                                                                                  |\n",
      "| 961610 | Scent sprays and similar toilet sprays, and mounts and heads therefor; powder-puffs and pads for the application of cosmetics or toilet preparations. && - Scent sprays and similar toilet sprays, and mounts and heads therefor                     |\n",
      "| 961620 | Scent sprays and similar toilet sprays, and mounts and heads therefor; powder-puffs and pads for the application of cosmetics or toilet preparations. && - Powder-puffs and pads for the application of cosmetics or toilet preparations             |\n",
      "| 970110 | Paintings, drawings and pastels, executed entirely by hand, other than drawings of heading 49.06 and other than hand- painted or hand-decorated manufactured articles; collages and similar decorative plaques. && - Paintings, drawings and pastels |\n",
      "| 970190 | Paintings, drawings and pastels, executed entirely by hand, other than drawings of heading 49.06 and other than hand- painted or hand-decorated manufactured articles; collages and similar decorative plaques. && - Other                           | \n",
      "\n"
     ]
    }
   ],
   "source": [
    "# top 5 rows in HS06 nomemclature\n",
    "print(df_hs06.head(5).to_markdown(), \"\\n\")\n",
    "\n",
    "# bottom 5 rows in HS06 nomemclature\n",
    "print(df_hs06.tail(5).to_markdown(), \"\\n\")"
   ]
  },
  {
   "cell_type": "code",
   "execution_count": 8,
   "metadata": {},
   "outputs": [],
   "source": [
    "df = pd.merge(df, df_hs06,how='left', left_on='HS06', right_on='hs06')"
   ]
  },
  {
   "cell_type": "code",
   "execution_count": 9,
   "metadata": {},
   "outputs": [
    {
     "name": "stdout",
     "output_type": "stream",
     "text": [
      "Nulls per column:\n",
      "HS06                 0.000000\n",
      "GOODS_DESCRIPTION    0.000000\n",
      "HS04                 0.000000\n",
      "HS02                 0.000000\n",
      "full_eng             0.045381\n",
      "dtype: float64 \n",
      "\n"
     ]
    }
   ],
   "source": [
    "print(\"Nulls per column:\")\n",
    "print(df.isnull().sum()/len(df), \"\\n\")"
   ]
  },
  {
   "cell_type": "markdown",
   "metadata": {},
   "source": [
    "There are 4.5 % of goods with no HS full_eng available\n",
    "\n",
    "They may are not updated codes"
   ]
  },
  {
   "cell_type": "markdown",
   "metadata": {},
   "source": [
    "### Deep EDA\n",
    "\n",
    "aggregate text statistics by HS level\n",
    "\n",
    "performed in HSrecomm_EDA"
   ]
  },
  {
   "cell_type": "markdown",
   "metadata": {},
   "source": [
    "Utils"
   ]
  },
  {
   "cell_type": "code",
   "execution_count": 10,
   "metadata": {},
   "outputs": [],
   "source": [
    "# Utils f\n",
    "def hs_frequencies_process(df, hs_codification = []):\n",
    "    for hs_codi in hs_codification:\n",
    "\n",
    "        df = df.merge(df[hs_codi].value_counts(), left_on=hs_codi, right_index=True)\n",
    "        df.rename(columns={'count':f'{hs_codi}_samples'}, inplace=True)\n",
    "\n",
    "    return df\n",
    "\n",
    "def description_length(df, description_cols = []):\n",
    "    for col in description_cols:\n",
    "\n",
    "        df[f'{col}_len_words'] = df[col].apply(lambda x: len(x.split()))\n",
    "        df[f'{col}_len_chars'] = df[col].apply(lambda x: len(x))\n",
    "\n",
    "    return df\n",
    "\n",
    "def subtokenization_indicator(description, tokenizer):\n",
    "    words = description.lower().split()\n",
    "    tokens = tokenizer.tokenize(description)\n",
    "    return len(tokens)/len(words)"
   ]
  },
  {
   "cell_type": "code",
   "execution_count": 11,
   "metadata": {},
   "outputs": [
    {
     "data": {
      "text/html": [
       "<div>\n",
       "<style scoped>\n",
       "    .dataframe tbody tr th:only-of-type {\n",
       "        vertical-align: middle;\n",
       "    }\n",
       "\n",
       "    .dataframe tbody tr th {\n",
       "        vertical-align: top;\n",
       "    }\n",
       "\n",
       "    .dataframe thead th {\n",
       "        text-align: right;\n",
       "    }\n",
       "</style>\n",
       "<table border=\"1\" class=\"dataframe\">\n",
       "  <thead>\n",
       "    <tr style=\"text-align: right;\">\n",
       "      <th></th>\n",
       "      <th>HS06</th>\n",
       "      <th>GOODS_DESCRIPTION</th>\n",
       "      <th>HS04</th>\n",
       "      <th>HS02</th>\n",
       "      <th>full_eng</th>\n",
       "    </tr>\n",
       "  </thead>\n",
       "  <tbody>\n",
       "    <tr>\n",
       "      <th>0</th>\n",
       "      <td>271019</td>\n",
       "      <td>BRAKE FLUID DOT 4 50X200ML</td>\n",
       "      <td>2710</td>\n",
       "      <td>27</td>\n",
       "      <td>Petroleum oils and oils obtained from bitumino...</td>\n",
       "    </tr>\n",
       "    <tr>\n",
       "      <th>1</th>\n",
       "      <td>847710</td>\n",
       "      <td>PLASTIC INJECTION MOULD MODEL 21A 110G DSM1010...</td>\n",
       "      <td>8477</td>\n",
       "      <td>84</td>\n",
       "      <td>Machinery for working rubber or plastics or fo...</td>\n",
       "    </tr>\n",
       "    <tr>\n",
       "      <th>2</th>\n",
       "      <td>844399</td>\n",
       "      <td>LCD ASSEMBLY</td>\n",
       "      <td>8443</td>\n",
       "      <td>84</td>\n",
       "      <td>Printing machinery used for printing by means ...</td>\n",
       "    </tr>\n",
       "    <tr>\n",
       "      <th>3</th>\n",
       "      <td>848280</td>\n",
       "      <td>BEARING 22238 KCAW33C3 BRAND MCB</td>\n",
       "      <td>8482</td>\n",
       "      <td>84</td>\n",
       "      <td>Ball or roller bearings. &amp;&amp; - Other, including...</td>\n",
       "    </tr>\n",
       "    <tr>\n",
       "      <th>4</th>\n",
       "      <td>630900</td>\n",
       "      <td>USED HANDBAGS AND WALLETS</td>\n",
       "      <td>6309</td>\n",
       "      <td>63</td>\n",
       "      <td>NaN</td>\n",
       "    </tr>\n",
       "  </tbody>\n",
       "</table>\n",
       "</div>"
      ],
      "text/plain": [
       "     HS06                                  GOODS_DESCRIPTION  HS04 HS02  \\\n",
       "0  271019                         BRAKE FLUID DOT 4 50X200ML  2710   27   \n",
       "1  847710  PLASTIC INJECTION MOULD MODEL 21A 110G DSM1010...  8477   84   \n",
       "2  844399                                       LCD ASSEMBLY  8443   84   \n",
       "3  848280                   BEARING 22238 KCAW33C3 BRAND MCB  8482   84   \n",
       "4  630900                          USED HANDBAGS AND WALLETS  6309   63   \n",
       "\n",
       "                                            full_eng  \n",
       "0  Petroleum oils and oils obtained from bitumino...  \n",
       "1  Machinery for working rubber or plastics or fo...  \n",
       "2  Printing machinery used for printing by means ...  \n",
       "3  Ball or roller bearings. && - Other, including...  \n",
       "4                                                NaN  "
      ]
     },
     "execution_count": 11,
     "metadata": {},
     "output_type": "execute_result"
    }
   ],
   "source": [
    "df.head()"
   ]
  },
  {
   "cell_type": "markdown",
   "metadata": {},
   "source": [
    "### DistilBERT model training"
   ]
  },
  {
   "cell_type": "code",
   "execution_count": 12,
   "metadata": {},
   "outputs": [],
   "source": [
    "import torch\n",
    "import torch.nn as nn\n",
    "from torch.utils.data import Dataset, DataLoader\n",
    "from transformers import DistilBertTokenizerFast, DistilBertModel"
   ]
  },
  {
   "cell_type": "markdown",
   "metadata": {},
   "source": [
    "Sampling function"
   ]
  },
  {
   "cell_type": "code",
   "execution_count": 13,
   "metadata": {},
   "outputs": [],
   "source": [
    "def bootstrap_sampling(df, test_fraction=0.1):\n",
    "    # Determine the number of test samples\n",
    "    n_test = int(len(df) * test_fraction)\n",
    "    # Perform bootstrap sampling for the test set\n",
    "    test_set = df.sample(n=n_test, replace=True)\n",
    "    # Remove the test samples from the original dataframe to create the training set\n",
    "    train_set = df.drop(test_set.index)\n",
    "    \n",
    "    return train_set, test_set"
   ]
  },
  {
   "cell_type": "markdown",
   "metadata": {},
   "source": [
    "Dataset & DataLoader preparation"
   ]
  },
  {
   "cell_type": "code",
   "execution_count": 14,
   "metadata": {},
   "outputs": [],
   "source": [
    "# Sampling for testing the pipeline\n",
    "df = df.sample(frac=0.1, random_state=42)"
   ]
  },
  {
   "cell_type": "code",
   "execution_count": 15,
   "metadata": {},
   "outputs": [],
   "source": [
    "# Load the tokenizer\n",
    "tokenizer = DistilBertTokenizerFast.from_pretrained(\"distilbert-base-uncased\")\n",
    "\n",
    "# Custom Dataset Class\n",
    "class HS_Desc_Dataset(Dataset):\n",
    "    def __init__(self, dataframe, tokenizer, max_length, label2id, \n",
    "                 hs_code_col = 'HS04', good_desc_col = 'GOODS_DESCRIPTION'):\n",
    "        self.data = dataframe\n",
    "        self.tokenizer = tokenizer\n",
    "        self.max_length = max_length\n",
    "        self.label2id = label2id\n",
    "        self.hs_code_col = hs_code_col\n",
    "        self.good_desc_col = good_desc_col\n",
    "\n",
    "    def __len__(self):\n",
    "        return len(self.data)\n",
    "\n",
    "    def __getitem__(self, idx):\n",
    "        text = self.data.iloc[idx][self.good_desc_col]\n",
    "        label = self.label2id[str(self.data.iloc[idx][self.hs_code_col])]\n",
    "        \n",
    "        encoding = self.tokenizer.encode_plus(\n",
    "            text,\n",
    "            add_special_tokens=True,\n",
    "            max_length=self.max_length,\n",
    "            return_token_type_ids=False,\n",
    "            padding='max_length',\n",
    "            truncation=True,\n",
    "            return_attention_mask=True,\n",
    "            return_tensors='pt',\n",
    "        )\n",
    "        \n",
    "        return {\n",
    "            'input_ids': encoding['input_ids'].flatten(),\n",
    "            'attention_mask': encoding['attention_mask'].flatten(),\n",
    "            'label': torch.tensor(label, dtype=torch.long)\n",
    "        }\n",
    "\n",
    "# Create label mappings\n",
    "unique_labels = df['HS04'].unique()\n",
    "label2id = {str(label): idx for idx, label in enumerate(unique_labels)}\n",
    "id2label = {idx: str(label) for idx, label in enumerate(unique_labels)}\n",
    "\n",
    "# Split the data into train and validation sets\n",
    "train_df, val_df = bootstrap_sampling(df, test_fraction=0.1)\n",
    "\n",
    "# Create dataset instances\n",
    "max_length = 300\n",
    "train_dataset = HS_Desc_Dataset(dataframe=train_df, tokenizer=tokenizer, max_length=max_length, label2id=label2id)\n",
    "val_dataset = HS_Desc_Dataset(dataframe=val_df, tokenizer=tokenizer, max_length=max_length, label2id=label2id)\n",
    "\n",
    "# Batch size\n",
    "batch_size = 32 # from 16 to speed up training\n",
    "\n",
    "train_loader = DataLoader(train_dataset, batch_size=batch_size, shuffle=True)\n",
    "val_loader = DataLoader(val_dataset, batch_size=batch_size, shuffle=False)"
   ]
  },
  {
   "cell_type": "markdown",
   "metadata": {},
   "source": [
    "### Transfer learning\n",
    "\n",
    "Model definition\n",
    "\n",
    "Complexity adaptable to n_classes"
   ]
  },
  {
   "cell_type": "code",
   "execution_count": 16,
   "metadata": {},
   "outputs": [],
   "source": [
    "# Define the custom model\n",
    "class HSClassifier(nn.Module):\n",
    "    def __init__(self, n_classes, fine_tune=False):\n",
    "        super(HSClassifier, self).__init__()\n",
    "        self.distilbert = DistilBertModel.from_pretrained(\"distilbert-base-uncased\")\n",
    "        \n",
    "        # Freeze the DistilBERT layers\n",
    "        for param in self.distilbert.parameters():\n",
    "            param.requires_grad = fine_tune # Whether to fine-tune the transformer model\n",
    "        \n",
    "        self.classifier = nn.Sequential(\n",
    "            nn.Linear(self.distilbert.config.hidden_size, int(n_classes/3)),\n",
    "            nn.ReLU(),\n",
    "            nn.Dropout(0.3),\n",
    "            nn.Linear(int(n_classes/3), int(n_classes/2)),\n",
    "            nn.ReLU(),\n",
    "            nn.Dropout(0.3),\n",
    "            nn.Linear(int(n_classes/2), int(n_classes*1.5)),\n",
    "            nn.ReLU(),\n",
    "            nn.Dropout(0.3),\n",
    "            nn.Linear(int(n_classes*1.5), n_classes)\n",
    "        )\n",
    "    \n",
    "    def forward(self, input_ids, attention_mask):\n",
    "        outputs = self.distilbert(input_ids=input_ids, attention_mask=attention_mask)\n",
    "        hidden_state = outputs.last_hidden_state[:, 0, :]  # Take <CLS> token representation\n",
    "        logits = self.classifier(hidden_state)\n",
    "        return logits"
   ]
  },
  {
   "cell_type": "markdown",
   "metadata": {},
   "source": [
    "Training"
   ]
  },
  {
   "cell_type": "code",
   "execution_count": 17,
   "metadata": {},
   "outputs": [],
   "source": [
    "# Accuracy functions\n",
    "def accuracy(outputs, labels):\n",
    "    _, preds = torch.max(outputs, dim=1)\n",
    "    return torch.sum(preds == labels).item()\n",
    "\n",
    "def top5_accuracy(outputs, labels):\n",
    "    top5 = torch.topk(outputs, 5, dim=1).indices\n",
    "    return sum([labels[i] in top5[i] for i in range(labels.size(0))])\n",
    "\n",
    "# Training loop\n",
    "def train_epoch(model, data_loader, criterion, optimizer, device):\n",
    "    model = model.train()\n",
    "    losses = []\n",
    "    correct_predictions = 0\n",
    "    correct_top5_predictions = 0\n",
    "    \n",
    "    for batch in data_loader:\n",
    "        input_ids = batch['input_ids'].to(device)\n",
    "        attention_mask = batch['attention_mask'].to(device)\n",
    "        labels = batch['label'].to(device)\n",
    "        \n",
    "        outputs = model(input_ids=input_ids, attention_mask=attention_mask)\n",
    "        loss = criterion(outputs, labels)\n",
    "\n",
    "        correct_predictions += accuracy(outputs, labels)\n",
    "        correct_top5_predictions += top5_accuracy(outputs, labels)\n",
    "        \n",
    "        losses.append(loss.item())\n",
    "        \n",
    "        loss.backward()\n",
    "        optimizer.step()\n",
    "        optimizer.zero_grad()\n",
    "    \n",
    "    return correct_predictions / len(data_loader.dataset), correct_top5_predictions / len(data_loader.dataset), np.mean(losses)\n",
    "\n",
    "def eval_model(model, data_loader, criterion, device):\n",
    "    model = model.eval()\n",
    "    losses = []\n",
    "    correct_predictions = 0\n",
    "    correct_top5_predictions = 0\n",
    "    \n",
    "    with torch.no_grad():\n",
    "        for batch in data_loader:\n",
    "            input_ids = batch['input_ids'].to(device)\n",
    "            attention_mask = batch['attention_mask'].to(device)\n",
    "            labels = batch['label'].to(device)\n",
    "            \n",
    "            outputs = model(input_ids=input_ids, attention_mask=attention_mask)\n",
    "            loss = criterion(outputs, labels)\n",
    "\n",
    "            correct_predictions += accuracy(outputs, labels)\n",
    "            correct_top5_predictions += top5_accuracy(outputs, labels)\n",
    "            \n",
    "            losses.append(loss.item())\n",
    "    \n",
    "    return correct_predictions / len(data_loader.dataset), correct_top5_predictions / len(data_loader.dataset), np.mean(losses)"
   ]
  },
  {
   "cell_type": "markdown",
   "metadata": {},
   "source": [
    "Transfer learning, without fine-tuning"
   ]
  },
  {
   "cell_type": "code",
   "execution_count": 18,
   "metadata": {},
   "outputs": [
    {
     "data": {
      "text/plain": [
       "True"
      ]
     },
     "execution_count": 18,
     "metadata": {},
     "output_type": "execute_result"
    }
   ],
   "source": [
    "torch.cuda.is_available()"
   ]
  },
  {
   "cell_type": "code",
   "execution_count": null,
   "metadata": {},
   "outputs": [
    {
     "name": "stdout",
     "output_type": "stream",
     "text": [
      "Training on cuda\n",
      "Epoch 1/5\n",
      "----------\n"
     ]
    }
   ],
   "source": [
    "import time\n",
    "\n",
    "# Initialize the model, loss function, and optimizer\n",
    "model = HSClassifier(n_classes=len(label2id), fine_tune=True)\n",
    "model_name = 'distiltbert_hs04_classifier_fine_tuned'\n",
    "\n",
    "device = torch.device(\"cuda\" if torch.cuda.is_available() else \"cpu\")\n",
    "print(f'Training on {device}')\n",
    "model = model.to(device)\n",
    "\n",
    "criterion = nn.CrossEntropyLoss()\n",
    "optimizer = torch.optim.Adam(model.parameters(), lr=2e-5)\n",
    "\n",
    "# Initialize history dictionary\n",
    "history = {\n",
    "    'train_loss': [],\n",
    "    'train_acc': [],\n",
    "    'train_top5_acc': [],\n",
    "    'val_loss': [],\n",
    "    'val_acc': [],\n",
    "    'val_top5_acc': []\n",
    "}\n",
    "\n",
    "# Training the model\n",
    "num_epochs = 5\n",
    "for epoch in range(num_epochs):\n",
    "    print(f'Epoch {epoch + 1}/{num_epochs}')\n",
    "    print('-' * 10)\n",
    "\n",
    "    start_time = time.time()\n",
    "    \n",
    "    train_acc, train_top5_acc, train_loss = train_epoch(model, train_loader, criterion, optimizer, device)\n",
    "    print(f'Train loss {train_loss} accuracy {train_acc} top5_accuracy {train_top5_acc}')\n",
    "    \n",
    "    val_acc, val_top5_acc, val_loss = eval_model(model, val_loader, criterion, device)\n",
    "    print(f'Validation loss {val_loss} accuracy {val_acc} top5_accuracy {val_top5_acc}')\n",
    "\n",
    "    end_time = time.time()\n",
    "    epoch_time = end_time - start_time\n",
    "    print(f\"Epoch {epoch + 1} completed in {epoch_time/60:.2f} minutes.\\n\")    \n",
    "    \n",
    "    # Update history\n",
    "    history['train_loss'].append(train_loss)\n",
    "    history['train_acc'].append(train_acc)\n",
    "    history['train_top5_acc'].append(train_top5_acc)\n",
    "    history['val_loss'].append(val_loss)\n",
    "    history['val_acc'].append(val_acc)\n",
    "    history['val_top5_acc'].append(val_top5_acc)\n",
    "\n",
    "print(\"Training complete.\")"
   ]
  },
  {
   "cell_type": "code",
   "execution_count": null,
   "metadata": {},
   "outputs": [],
   "source": [
    "# Function to plot metrics\n",
    "def plot_metric(history, metric, validation=True):\n",
    "    plt.plot(history['train_' + metric], label=f'Training {metric}')\n",
    "    if validation:\n",
    "        plt.plot(history['val_' + metric], label=f'Validation {metric}')\n",
    "        plt.title(f'Training and Validation {metric}')\n",
    "    else:\n",
    "        plt.title(f'Training {metric}')\n",
    "    plt.xlabel('Epochs')\n",
    "    plt.ylabel(metric)\n",
    "    if validation:\n",
    "        plt.legend()\n",
    "    plt.grid(True)\n",
    "    plt.show()"
   ]
  },
  {
   "cell_type": "code",
   "execution_count": null,
   "metadata": {},
   "outputs": [],
   "source": [
    "history_with_fine_tuning = history"
   ]
  },
  {
   "cell_type": "code",
   "execution_count": null,
   "metadata": {},
   "outputs": [
    {
     "data": {
      "image/png": "[encoded data removed]",
      "text/plain": [
       "<Figure size 640x480 with 1 Axes>"
      ]
     },
     "metadata": {},
     "output_type": "display_data"
    },
    {
     "data": {
      "image/png": "[encoded data removed]",
      "text/plain": [
       "<Figure size 640x480 with 1 Axes>"
      ]
     },
     "metadata": {},
     "output_type": "display_data"
    },
    {
     "data": {
      "image/png": "[encoded data removed]",
      "text/plain": [
       "<Figure size 640x480 with 1 Axes>"
      ]
     },
     "metadata": {},
     "output_type": "display_data"
    }
   ],
   "source": [
    "plot_metric(history_with_fine_tuning, 'loss' )\n",
    "plot_metric(history_with_fine_tuning, 'acc' )\n",
    "plot_metric(history_with_fine_tuning, 'top5_acc' )"
   ]
  },
  {
   "cell_type": "code",
   "execution_count": null,
   "metadata": {},
   "outputs": [
    {
     "name": "stdout",
     "output_type": "stream",
     "text": [
      "Model saved to distiltbert_hs04_classifier_fine_tuned_3epochs_29052025_110327_test.pth\n"
     ]
    }
   ],
   "source": [
    "from datetime import datetime\n",
    "\n",
    "time_now = datetime.now().strftime('%d%m%Y_%H%M%S')\n",
    "\n",
    "# Save the trained model\n",
    "model_save_path = f'{model_name}_{num_epochs}epochs_{time_now}.pth'\n",
    "torch.save(model.state_dict(), model_save_path)\n",
    "print(f\"Model saved to {model_save_path}\")"
   ]
  },
  {
   "cell_type": "markdown",
   "metadata": {},
   "source": [
    "____"
   ]
  },
  {
   "cell_type": "markdown",
   "metadata": {},
   "source": [
    "### Embeddings with Fine-tuned DistilBERT\n",
    "\n",
    "Using pretrained NLP model for contextual representation"
   ]
  },
  {
   "cell_type": "markdown",
   "metadata": {},
   "source": [
    "distilbert-base-uncased"
   ]
  },
  {
   "cell_type": "code",
   "execution_count": null,
   "metadata": {},
   "outputs": [],
   "source": [
    "# Custom Dataset for embeddings\n",
    "class HSDescEmbedDataset(Dataset):\n",
    "    def __init__(self, dataframe, tokenizer, desc_col='', label_col='', max_length=500):\n",
    "        self.texts = dataframe[desc_col].fillna(\"\").tolist()\n",
    "        self.labels = dataframe[label_col].tolist()\n",
    "        self.tokenizer = tokenizer\n",
    "        self.max_length = max_length\n",
    "\n",
    "    def __len__(self):\n",
    "        return len(self.texts)\n",
    "\n",
    "    def __getitem__(self, idx):\n",
    "        text = self.texts[idx]\n",
    "        encoding = self.tokenizer.encode_plus(\n",
    "            text,\n",
    "            add_special_tokens=True,\n",
    "            max_length=self.max_length,\n",
    "            padding='max_length',\n",
    "            truncation=True,\n",
    "            return_attention_mask=True,\n",
    "            return_tensors='pt',\n",
    "        )\n",
    "        return {\n",
    "            'input_ids': encoding['input_ids'].squeeze(0),\n",
    "            'attention_mask': encoding['attention_mask'].squeeze(0),\n",
    "            'label': self.labels[idx]\n",
    "        }\n",
    "\n",
    "# Load tokenizer and model\n",
    "model = DistilBertModel.from_pretrained(\"distilbert-base-uncased\")\n",
    "model.eval()\n",
    "device = torch.device('cuda' if torch.cuda.is_available() else 'cpu')\n",
    "# device = 'cpu'\n",
    "model.to(device)\n",
    "\n",
    "# Function to extract [CLS] embeddings\n",
    "def get_embeddings(dataloader, model, device):\n",
    "    all_embeds = []\n",
    "    all_labels = []\n",
    "    with torch.no_grad():\n",
    "        for batch in dataloader:\n",
    "            input_ids = batch['input_ids'].to(device)\n",
    "            attn = batch['attention_mask'].to(device)\n",
    "            outputs = model(input_ids=input_ids, attention_mask=attn)\n",
    "            # DistilBERT does not have pooler; use first token hidden state\n",
    "            cls_embeds = outputs.last_hidden_state[:, 0, :].cpu().numpy()\n",
    "            all_embeds.append(cls_embeds)\n",
    "            all_labels.extend(batch['label'])\n",
    "    return np.vstack(all_embeds), np.array(all_labels)"
   ]
  },
  {
   "cell_type": "markdown",
   "metadata": {},
   "source": [
    "#### Goods description emb"
   ]
  },
  {
   "cell_type": "code",
   "execution_count": 32,
   "metadata": {},
   "outputs": [],
   "source": [
    "df_emb = df.sample(n=len(df)//20)"
   ]
  },
  {
   "cell_type": "code",
   "execution_count": 33,
   "metadata": {},
   "outputs": [
    {
     "name": "stdout",
     "output_type": "stream",
     "text": [
      "<class 'pandas.core.frame.DataFrame'>\n",
      "Index: 13389 entries, 186910 to 136847\n",
      "Data columns (total 8 columns):\n",
      " #   Column                       Non-Null Count  Dtype  \n",
      "---  ------                       --------------  -----  \n",
      " 0   HS06                         13389 non-null  object \n",
      " 1   GOODS_DESCRIPTION            13389 non-null  object \n",
      " 2   HS04                         13389 non-null  object \n",
      " 3   HS02                         13389 non-null  object \n",
      " 4   full_eng                     12754 non-null  object \n",
      " 5   GOODS_DESCRIPTION_len_words  13389 non-null  int64  \n",
      " 6   GOODS_DESCRIPTION_len_chars  13389 non-null  int64  \n",
      " 7   subtokenization_indicator    13389 non-null  float64\n",
      "dtypes: float64(1), int64(2), object(5)\n",
      "memory usage: 941.4+ KB\n"
     ]
    }
   ],
   "source": [
    "df_emb.info()"
   ]
  },
  {
   "cell_type": "markdown",
   "metadata": {},
   "source": [
    "Generating embs from goods descriptions"
   ]
  },
  {
   "cell_type": "code",
   "execution_count": null,
   "metadata": {},
   "outputs": [],
   "source": [
    "# # Build dataset and loader\n",
    "# ds = HSDescEmbedDataset(df_emb, tokenizer, desc_col='GOODS_DESCRIPTION', label_col='HS02', max_length=300)\n",
    "# loader = DataLoader(ds, batch_size=32, shuffle=False)\n",
    "\n",
    "# embeds, labels = get_embeddings(loader, model, device)\n",
    "# print(\"Embeddings shape:\", embeds.shape)"
   ]
  },
  {
   "cell_type": "markdown",
   "metadata": {},
   "source": [
    "Saving embeddings"
   ]
  },
  {
   "cell_type": "code",
   "execution_count": 35,
   "metadata": {},
   "outputs": [],
   "source": [
    "# EMB_n_LABELS_FILE = \"good_desc_sample_embs_labels.npz\"\n",
    "\n",
    "# np.savez(EMB_n_LABELS_FILE, embeds=embeds, labels=labels)\n",
    "# print(\"💾 Saved embeddings and labels to disk.\")"
   ]
  },
  {
   "cell_type": "markdown",
   "metadata": {},
   "source": [
    "Loading embeddings"
   ]
  },
  {
   "cell_type": "code",
   "execution_count": 36,
   "metadata": {},
   "outputs": [
    {
     "name": "stdout",
     "output_type": "stream",
     "text": [
      "✅ Loaded cached embeddings and labels\n"
     ]
    }
   ],
   "source": [
    "EMB_n_LABELS_FILE = \"good_desc_sample_embs_labels.npz\"\n",
    "\n",
    "if os.path.exists(EMB_n_LABELS_FILE):\n",
    "    data = np.load(EMB_n_LABELS_FILE, allow_pickle=True)\n",
    "    embeds = data[\"embeds\"]\n",
    "    labels = data[\"labels\"]\n",
    "    print(\"✅ Loaded cached embeddings and labels\")\n",
    "else:\n",
    "    raise FileNotFoundError(f\"{EMB_n_LABELS_FILE} not found – run get_embeddings first.\")"
   ]
  },
  {
   "cell_type": "markdown",
   "metadata": {},
   "source": [
    "Viz embeddings with PCA"
   ]
  },
  {
   "cell_type": "code",
   "execution_count": 37,
   "metadata": {},
   "outputs": [],
   "source": [
    "def pca_viz_embs(embeds, labels, n_componets=2, title='',\n",
    "                 legend_title='', html_output_file=''):\n",
    "\n",
    "    pca = PCA(n_components=n_componets)\n",
    "    emb = pca.fit_transform(embeds)\n",
    "\n",
    "    fig = go.Figure()\n",
    "    for chap in np.unique(labels):\n",
    "        mask = labels == chap\n",
    "        if n_componets==2:\n",
    "            fig.add_trace(go.Scatter(\n",
    "                x=emb[mask, 0],\n",
    "                y=emb[mask, 1],\n",
    "                mode='markers',\n",
    "                name=chap,\n",
    "                marker=dict(size=4),\n",
    "                hovertext=[chap]*mask.sum(),\n",
    "                hoverinfo='text'\n",
    "            ))\n",
    "        elif n_componets==3:\n",
    "            fig.add_trace(go.Scatter3d(\n",
    "                x=emb[mask, 0],\n",
    "                y=emb[mask, 1],\n",
    "                z=emb[mask, 2],\n",
    "                mode='markers',\n",
    "                name=chap,\n",
    "                marker=dict(size=3),\n",
    "                hovertext=[chap]*mask.sum(),\n",
    "                hoverinfo='text'\n",
    "            ))\n",
    "        else:\n",
    "            return \n",
    "    if n_componets==2:\n",
    "        scene = dict(\n",
    "            xaxis_title=\"PC1\", yaxis_title=\"PC2\")\n",
    "    elif n_componets==3:\n",
    "        scene = dict(\n",
    "            xaxis_title=\"PC1\", yaxis_title=\"PC2\", zaxis_title=\"PC3\")\n",
    "    else:\n",
    "        return \n",
    "    fig.update_layout(\n",
    "        title=title,\n",
    "        scene=scene,\n",
    "        legend_title=legend_title,\n",
    "        width=1200, height=900\n",
    "    )\n",
    "    fig.write_html(html_output_file)\n",
    "    print(f\"📄 Saved plot to {html_output_file}\")"
   ]
  },
  {
   "cell_type": "code",
   "execution_count": 38,
   "metadata": {},
   "outputs": [],
   "source": [
    "# pca_viz_embs(embeds, labels, n_componets=2,\n",
    "#              title=\"Goods Description sampled - 2D PCA of DistilBERT Embeddings\",\n",
    "#              legend_title=\"HS02 Chapter\",\n",
    "#              html_output_file=\"embeddings_2d_goods_desc_sampled.html\")\n"
   ]
  },
  {
   "cell_type": "code",
   "execution_count": 39,
   "metadata": {},
   "outputs": [],
   "source": [
    "# pca_viz_embs(embeds, labels, n_componets=3,\n",
    "#              title=\"Goods Description sampled - 3D PCA of DistilBERT Embeddings\",\n",
    "#              legend_title=\"HS02 Chapter\",\n",
    "#              html_output_file=\"embeddings_3d_goods_desc_sampled.html\")"
   ]
  },
  {
   "cell_type": "markdown",
   "metadata": {},
   "source": [
    "#### HS06 nomenclature emb "
   ]
  },
  {
   "cell_type": "code",
   "execution_count": 40,
   "metadata": {},
   "outputs": [
    {
     "data": {
      "text/html": [
       "<div>\n",
       "<style scoped>\n",
       "    .dataframe tbody tr th:only-of-type {\n",
       "        vertical-align: middle;\n",
       "    }\n",
       "\n",
       "    .dataframe tbody tr th {\n",
       "        vertical-align: top;\n",
       "    }\n",
       "\n",
       "    .dataframe thead th {\n",
       "        text-align: right;\n",
       "    }\n",
       "</style>\n",
       "<table border=\"1\" class=\"dataframe\">\n",
       "  <thead>\n",
       "    <tr style=\"text-align: right;\">\n",
       "      <th></th>\n",
       "      <th>full_eng</th>\n",
       "      <th>HS04</th>\n",
       "      <th>HS02</th>\n",
       "    </tr>\n",
       "    <tr>\n",
       "      <th>hs06</th>\n",
       "      <th></th>\n",
       "      <th></th>\n",
       "      <th></th>\n",
       "    </tr>\n",
       "  </thead>\n",
       "  <tbody>\n",
       "    <tr>\n",
       "      <th>010120</th>\n",
       "      <td>Live horses, asses, mules and hinnies. &amp;&amp; - Ho...</td>\n",
       "      <td>0101</td>\n",
       "      <td>01</td>\n",
       "    </tr>\n",
       "    <tr>\n",
       "      <th>010121</th>\n",
       "      <td>Live horses, asses, mules and hinnies. &amp;&amp; - Ho...</td>\n",
       "      <td>0101</td>\n",
       "      <td>01</td>\n",
       "    </tr>\n",
       "    <tr>\n",
       "      <th>010129</th>\n",
       "      <td>Live horses, asses, mules and hinnies. &amp;&amp; - Ho...</td>\n",
       "      <td>0101</td>\n",
       "      <td>01</td>\n",
       "    </tr>\n",
       "    <tr>\n",
       "      <th>010130</th>\n",
       "      <td>Live horses, asses, mules and hinnies. &amp;&amp; - Asses</td>\n",
       "      <td>0101</td>\n",
       "      <td>01</td>\n",
       "    </tr>\n",
       "    <tr>\n",
       "      <th>010190</th>\n",
       "      <td>Live horses, asses, mules and hinnies. &amp;&amp; - Other</td>\n",
       "      <td>0101</td>\n",
       "      <td>01</td>\n",
       "    </tr>\n",
       "    <tr>\n",
       "      <th>...</th>\n",
       "      <td>...</td>\n",
       "      <td>...</td>\n",
       "      <td>...</td>\n",
       "    </tr>\n",
       "    <tr>\n",
       "      <th>961590</th>\n",
       "      <td>Combs, hair-slides and the like; hairpins, cur...</td>\n",
       "      <td>9615</td>\n",
       "      <td>96</td>\n",
       "    </tr>\n",
       "    <tr>\n",
       "      <th>961610</th>\n",
       "      <td>Scent sprays and similar toilet sprays, and mo...</td>\n",
       "      <td>9616</td>\n",
       "      <td>96</td>\n",
       "    </tr>\n",
       "    <tr>\n",
       "      <th>961620</th>\n",
       "      <td>Scent sprays and similar toilet sprays, and mo...</td>\n",
       "      <td>9616</td>\n",
       "      <td>96</td>\n",
       "    </tr>\n",
       "    <tr>\n",
       "      <th>970110</th>\n",
       "      <td>Paintings, drawings and pastels, executed enti...</td>\n",
       "      <td>9701</td>\n",
       "      <td>97</td>\n",
       "    </tr>\n",
       "    <tr>\n",
       "      <th>970190</th>\n",
       "      <td>Paintings, drawings and pastels, executed enti...</td>\n",
       "      <td>9701</td>\n",
       "      <td>97</td>\n",
       "    </tr>\n",
       "  </tbody>\n",
       "</table>\n",
       "<p>6064 rows × 3 columns</p>\n",
       "</div>"
      ],
      "text/plain": [
       "                                                 full_eng  HS04 HS02\n",
       "hs06                                                                \n",
       "010120  Live horses, asses, mules and hinnies. && - Ho...  0101   01\n",
       "010121  Live horses, asses, mules and hinnies. && - Ho...  0101   01\n",
       "010129  Live horses, asses, mules and hinnies. && - Ho...  0101   01\n",
       "010130  Live horses, asses, mules and hinnies. && - Asses  0101   01\n",
       "010190  Live horses, asses, mules and hinnies. && - Other  0101   01\n",
       "...                                                   ...   ...  ...\n",
       "961590  Combs, hair-slides and the like; hairpins, cur...  9615   96\n",
       "961610  Scent sprays and similar toilet sprays, and mo...  9616   96\n",
       "961620  Scent sprays and similar toilet sprays, and mo...  9616   96\n",
       "970110  Paintings, drawings and pastels, executed enti...  9701   97\n",
       "970190  Paintings, drawings and pastels, executed enti...  9701   97\n",
       "\n",
       "[6064 rows x 3 columns]"
      ]
     },
     "execution_count": 40,
     "metadata": {},
     "output_type": "execute_result"
    }
   ],
   "source": [
    "# Add HS02 (chapter) and HS04 (heading)\n",
    "df_hs06['HS04'] = df_hs06.index.str[:4]\n",
    "df_hs06['HS02'] = df_hs06.index.str[:2]\n",
    "\n",
    "df_hs06"
   ]
  },
  {
   "cell_type": "markdown",
   "metadata": {},
   "source": [
    "Generating embs from full_eng nomenclature"
   ]
  },
  {
   "cell_type": "code",
   "execution_count": 41,
   "metadata": {},
   "outputs": [],
   "source": [
    "# # Build dataset and loader\n",
    "# ds = HSDescEmbedDataset(df_hs06, tokenizer, desc_col='full_eng', label_col='HS02', max_length=500)\n",
    "# loader = DataLoader(ds, batch_size=32, shuffle=False)\n",
    "\n",
    "# embeds, labels = get_embeddings(loader, model, device)\n",
    "# print(\"Embeddings shape:\", embeds.shape)"
   ]
  },
  {
   "cell_type": "markdown",
   "metadata": {},
   "source": [
    "Saving embeddings"
   ]
  },
  {
   "cell_type": "code",
   "execution_count": 42,
   "metadata": {},
   "outputs": [],
   "source": [
    "# EMB_n_LABELS_FILE = \"hs02_fulleng_embs_labels.npz\"\n",
    "\n",
    "# np.savez(EMB_n_LABELS_FILE, embeds=embeds, labels=labels)\n",
    "# print(\"💾 Saved embeddings and labels to disk.\")"
   ]
  },
  {
   "cell_type": "markdown",
   "metadata": {},
   "source": [
    "Loading embeddings"
   ]
  },
  {
   "cell_type": "code",
   "execution_count": 43,
   "metadata": {},
   "outputs": [
    {
     "name": "stdout",
     "output_type": "stream",
     "text": [
      "✅ Loaded cached embeddings and labels\n"
     ]
    }
   ],
   "source": [
    "EMB_n_LABELS_FILE = \"hs02_fulleng_embs_labels.npz\"\n",
    "\n",
    "if os.path.exists(EMB_n_LABELS_FILE):\n",
    "    data = np.load(EMB_n_LABELS_FILE, allow_pickle=True)\n",
    "    embeds = data[\"embeds\"]\n",
    "    labels = data[\"labels\"]\n",
    "    print(\"✅ Loaded cached embeddings and labels\")\n",
    "else:\n",
    "    raise FileNotFoundError(f\"{EMB_n_LABELS_FILE} not found – run get_embeddings first.\")"
   ]
  },
  {
   "cell_type": "markdown",
   "metadata": {},
   "source": [
    "Viz embeddings with PCA"
   ]
  },
  {
   "cell_type": "code",
   "execution_count": 44,
   "metadata": {},
   "outputs": [],
   "source": [
    "# pca_viz_embs(embeds, labels, n_componets=2,\n",
    "#              title=\"HS06 full eng - 2D PCA of DistilBERT Embeddings\",\n",
    "#              legend_title=\"HS02 Chapter\",\n",
    "#              html_output_file=\"embeddings_2d_hs06_full_eng.html\")"
   ]
  },
  {
   "cell_type": "code",
   "execution_count": 45,
   "metadata": {},
   "outputs": [],
   "source": [
    "# pca_viz_embs(embeds, labels, n_componets=3,\n",
    "#              title=\"HS06 full eng - 3D PCA of DistilBERT Embeddings\",\n",
    "#              legend_title=\"HS02 Chapter\",\n",
    "#              html_output_file=\"embeddings_3d_hs06_full_eng.html\")"
   ]
  },
  {
   "cell_type": "markdown",
   "metadata": {},
   "source": [
    "#### Goods desc vs. HS06 full eng embs\n",
    "\n",
    "For similarity analysis"
   ]
  },
  {
   "cell_type": "markdown",
   "metadata": {},
   "source": [
    "Full goods descriptions embs"
   ]
  },
  {
   "cell_type": "code",
   "execution_count": 46,
   "metadata": {},
   "outputs": [],
   "source": [
    "# # Goods description (gd) for HS06 embeddings\n",
    "# ds_gd = HSDescEmbedDataset(df, tokenizer, desc_col='GOODS_DESCRIPTION', label_col='HS06', max_length=500)\n",
    "# loader_gd = DataLoader(ds_gd, batch_size=32, shuffle=False)\n",
    "\n",
    "# gd_embeds, hs06_gd_labels = get_embeddings(loader_gd, model, device)\n",
    "# print(\"Embeddings shape:\", gd_embeds.shape)"
   ]
  },
  {
   "cell_type": "markdown",
   "metadata": {},
   "source": [
    "Saving embs"
   ]
  },
  {
   "cell_type": "code",
   "execution_count": 47,
   "metadata": {},
   "outputs": [],
   "source": [
    "# EMB_n_LABELS_FILE = \"good_desc_embs_labels.npz\"\n",
    "\n",
    "# np.savez(EMB_n_LABELS_FILE, embeds=gd_embeds, labels=hs06_gd_labels)\n",
    "# print(\"💾 Saved embeddings and labels to disk.\")"
   ]
  },
  {
   "cell_type": "markdown",
   "metadata": {},
   "source": [
    "HS06 full eng legal text embs"
   ]
  },
  {
   "cell_type": "code",
   "execution_count": 48,
   "metadata": {},
   "outputs": [],
   "source": [
    "# # HS full eng (hs) sampled for HS06 embeddings\n",
    "# ds_hs = HSDescEmbedDataset(df_hs06.reset_index(inplace=False), tokenizer, desc_col='full_eng', label_col='hs06', max_length=500)\n",
    "# loader_hs = DataLoader(ds_hs, batch_size=32, shuffle=False)\n",
    "\n",
    "# hs_embeds, hs_labels = get_embeddings(loader_hs, model, device)\n",
    "# print(\"Embeddings shape:\", hs_embeds.shape)"
   ]
  },
  {
   "cell_type": "markdown",
   "metadata": {},
   "source": [
    "Saving embs"
   ]
  },
  {
   "cell_type": "code",
   "execution_count": 49,
   "metadata": {},
   "outputs": [],
   "source": [
    "# EMB_n_LABELS_FILE = \"hs06_fulleng_embs_labels.npz\"\n",
    "\n",
    "# np.savez(EMB_n_LABELS_FILE, embeds=hs_embeds, labels=hs_labels)\n",
    "# print(\"💾 Saved embeddings and labels to disk.\")"
   ]
  },
  {
   "cell_type": "markdown",
   "metadata": {},
   "source": [
    "Caculating cosine similarity"
   ]
  },
  {
   "cell_type": "code",
   "execution_count": 50,
   "metadata": {},
   "outputs": [],
   "source": [
    "# import numpy as np\n",
    "# from sklearn.metrics.pairwise import cosine_similarity\n",
    "\n",
    "# # Map HS06 code → corresponding legal text embedding\n",
    "# # Normalize hs06 codes as string if necessary\n",
    "# hs06_to_hsvec = {}\n",
    "# for hs_code, emb in zip(hs_labels, hs_embeds):\n",
    "#     hs06_to_hsvec[str(hs_code)] = emb\n",
    "\n",
    "# # Compute cosine similarity for each GOODS_DESCRIPTION embedding\n",
    "# cosine_sims = []\n",
    "\n",
    "# for i in range(len(gd_embeds)):\n",
    "#     hs_code = str(hs06_gd_labels[i])  # ensure string matching\n",
    "#     gd_vec = gd_embeds[i].reshape(1, -1)  # shape (1, dim)\n",
    "\n",
    "#     hs_vec = hs06_to_hsvec.get(hs_code)\n",
    "\n",
    "#     if hs_vec is not None:\n",
    "#         hs_vec = hs_vec.reshape(1, -1)\n",
    "#         sim = cosine_similarity(gd_vec, hs_vec)[0][0]\n",
    "#     else:\n",
    "#         sim = np.nan  # if no match found, assign NaN\n",
    "\n",
    "#     cosine_sims.append(sim)\n",
    "\n",
    "# # Add results to df_emb\n",
    "# df['cosine_sim_gd_vs_hs_text'] = cosine_sims"
   ]
  },
  {
   "cell_type": "code",
   "execution_count": 51,
   "metadata": {},
   "outputs": [
    {
     "data": {
      "text/html": [
       "<div>\n",
       "<style scoped>\n",
       "    .dataframe tbody tr th:only-of-type {\n",
       "        vertical-align: middle;\n",
       "    }\n",
       "\n",
       "    .dataframe tbody tr th {\n",
       "        vertical-align: top;\n",
       "    }\n",
       "\n",
       "    .dataframe thead th {\n",
       "        text-align: right;\n",
       "    }\n",
       "</style>\n",
       "<table border=\"1\" class=\"dataframe\">\n",
       "  <thead>\n",
       "    <tr style=\"text-align: right;\">\n",
       "      <th></th>\n",
       "      <th>GOODS_DESCRIPTION_len_words</th>\n",
       "      <th>GOODS_DESCRIPTION_len_chars</th>\n",
       "      <th>subtokenization_indicator</th>\n",
       "    </tr>\n",
       "  </thead>\n",
       "  <tbody>\n",
       "    <tr>\n",
       "      <th>count</th>\n",
       "      <td>267780.000000</td>\n",
       "      <td>267780.000000</td>\n",
       "      <td>267780.000000</td>\n",
       "    </tr>\n",
       "    <tr>\n",
       "      <th>mean</th>\n",
       "      <td>4.588498</td>\n",
       "      <td>29.223411</td>\n",
       "      <td>1.947238</td>\n",
       "    </tr>\n",
       "    <tr>\n",
       "      <th>std</th>\n",
       "      <td>2.887145</td>\n",
       "      <td>18.470528</td>\n",
       "      <td>1.207913</td>\n",
       "    </tr>\n",
       "    <tr>\n",
       "      <th>min</th>\n",
       "      <td>1.000000</td>\n",
       "      <td>2.000000</td>\n",
       "      <td>1.000000</td>\n",
       "    </tr>\n",
       "    <tr>\n",
       "      <th>25%</th>\n",
       "      <td>3.000000</td>\n",
       "      <td>17.000000</td>\n",
       "      <td>1.250000</td>\n",
       "    </tr>\n",
       "    <tr>\n",
       "      <th>50%</th>\n",
       "      <td>4.000000</td>\n",
       "      <td>25.000000</td>\n",
       "      <td>1.666667</td>\n",
       "    </tr>\n",
       "    <tr>\n",
       "      <th>75%</th>\n",
       "      <td>6.000000</td>\n",
       "      <td>36.000000</td>\n",
       "      <td>2.285714</td>\n",
       "    </tr>\n",
       "    <tr>\n",
       "      <th>max</th>\n",
       "      <td>41.000000</td>\n",
       "      <td>150.000000</td>\n",
       "      <td>59.000000</td>\n",
       "    </tr>\n",
       "  </tbody>\n",
       "</table>\n",
       "</div>"
      ],
      "text/plain": [
       "       GOODS_DESCRIPTION_len_words  GOODS_DESCRIPTION_len_chars  \\\n",
       "count                267780.000000                267780.000000   \n",
       "mean                      4.588498                    29.223411   \n",
       "std                       2.887145                    18.470528   \n",
       "min                       1.000000                     2.000000   \n",
       "25%                       3.000000                    17.000000   \n",
       "50%                       4.000000                    25.000000   \n",
       "75%                       6.000000                    36.000000   \n",
       "max                      41.000000                   150.000000   \n",
       "\n",
       "       subtokenization_indicator  \n",
       "count              267780.000000  \n",
       "mean                    1.947238  \n",
       "std                     1.207913  \n",
       "min                     1.000000  \n",
       "25%                     1.250000  \n",
       "50%                     1.666667  \n",
       "75%                     2.285714  \n",
       "max                    59.000000  "
      ]
     },
     "execution_count": 51,
     "metadata": {},
     "output_type": "execute_result"
    }
   ],
   "source": [
    "df.describe()"
   ]
  },
  {
   "cell_type": "markdown",
   "metadata": {},
   "source": [
    "Saving dataframe with all features and with cosine similarity"
   ]
  },
  {
   "cell_type": "code",
   "execution_count": 52,
   "metadata": {},
   "outputs": [],
   "source": [
    "# df.to_csv(\"data/df_all_eda_features.csv\")"
   ]
  },
  {
   "cell_type": "code",
   "execution_count": 53,
   "metadata": {},
   "outputs": [],
   "source": [
    "df = pd.read_csv(\"data/df_all_eda_features.csv\", index_col=0)"
   ]
  },
  {
   "cell_type": "markdown",
   "metadata": {},
   "source": [
    "Top similarities"
   ]
  },
  {
   "cell_type": "code",
   "execution_count": 54,
   "metadata": {},
   "outputs": [],
   "source": [
    "cols = ['HS06', 'GOODS_DESCRIPTION', 'full_eng', 'cosine_sim_gd_vs_hs_text']"
   ]
  },
  {
   "cell_type": "code",
   "execution_count": 55,
   "metadata": {},
   "outputs": [
    {
     "name": "stdout",
     "output_type": "stream",
     "text": [
      "Top 10 cosine similarity between goods description and HS06 full eng description:\n",
      "\n",
      "|        |   HS06 | GOODS_DESCRIPTION                                                                | full_eng                                                                                                                           |   cosine_sim_gd_vs_hs_text |\n",
      "|-------:|-------:|:---------------------------------------------------------------------------------|:-----------------------------------------------------------------------------------------------------------------------------------|---------------------------:|\n",
      "|  45158 | 640299 | Other:Other footwear with outer soles and uppers of rubber or pla:Other footwear | Other footwear with outer soles and uppers of rubber or plastics. && - Other footwear : && -- Other                                |                   0.98534  |\n",
      "| 189750 | 520939 | Other fabrics:Woven fabrics of cotton, containing 85 % or more by weight of:Dyed | Woven fabrics of cotton, containing 85 % or more by weight of cotton, weighing more than 200 g/m2. && - Dyed : && -- Other fabrics |                   0.984521 |\n",
      "| 183204 | 700729 | Other:Safety glass, consisting of toughened (tempered) or:Laminated safety glass | Safety glass, consisting of toughened (tempered) or laminated glass. && - Laminated safety glass : && -- Other                     |                   0.984296 |\n",
      "| 257198 | 848220 | Tapered roller bearings, including cone and tapered roller assemblies            | Ball or roller bearings. && - Tapered roller bearings, including cone and tapered roller assemblies                                |                   0.984269 |\n",
      "| 227531 | 740729 | Other:Copper bars, rods and profiles.:Of copper alloys                           | Copper bars, rods and profiles. && - Of copper alloys : && -- Other                                                                |                   0.984245 |\n",
      "| 127799 | 691490 | Other:Other ceramic articles.                                                    | Other ceramic articles. && - Other                                                                                                 |                   0.982647 |\n",
      "| 202722 | 732619 | Other:Other articles of iron or steel.:Forged or stamped, but not further worked | Other articles of iron or steel. && - Forged or stamped, but not further worked : && -- Other                                      |                   0.982579 |\n",
      "| 134279 | 630419 | Other:Other furnishing articles, excluding those of heading 94.04.:Bedspreads    | Other furnishing articles, excluding those of heading 94.04. && - Bedspreads : && -- Other                                         |                   0.982221 |\n",
      "| 214985 | 283325 | Of copper:Sulphates; alums; peroxosulphates (persulphates).:Other sulphates      | Sulphates; alums; peroxosulphates (persulphates). && - Other sulphates : && -- Of copper                                           |                   0.981926 |\n",
      "| 242051 | 740829 | Other:Copper wire.:Of copper alloys                                              | Copper wire. && - Of copper alloys : && -- Other                                                                                   |                   0.981892 | \n",
      "\n"
     ]
    }
   ],
   "source": [
    "print(\"Top 10 cosine similarity between goods description and HS06 full eng description:\\n\")\n",
    "print(df[cols].dropna().sort_values(by='cosine_sim_gd_vs_hs_text', ascending=False).head(10).to_markdown(), \"\\n\")"
   ]
  },
  {
   "cell_type": "markdown",
   "metadata": {},
   "source": [
    "Top distances"
   ]
  },
  {
   "cell_type": "code",
   "execution_count": 56,
   "metadata": {},
   "outputs": [
    {
     "name": "stdout",
     "output_type": "stream",
     "text": [
      "Bottom 10 cosine similarity between goods description and HS06 full eng description:\n",
      "\n",
      "|        |   HS06 | GOODS_DESCRIPTION                         | full_eng                                                                                                                                                                                                                               |   cosine_sim_gd_vs_hs_text |\n",
      "|-------:|-------:|:------------------------------------------|:---------------------------------------------------------------------------------------------------------------------------------------------------------------------------------------------------------------------------------------|---------------------------:|\n",
      "| 247611 | 741820 | SHOWER HEAD SQUARE BLACK 260X 190mm       | Table, kitchen or other household articles and parts thereof, of copper; pot scourers and scouring or polishing pads, gloves and the like, of copper; sanitary ware and parts thereof, of copper. && - Sanitary ware and parts thereof |                   0.553591 |\n",
      "|   2247 | 741820 | 74182000000                               | Table, kitchen or other household articles and parts thereof, of copper; pot scourers and scouring or polishing pads, gloves and the like, of copper; sanitary ware and parts thereof, of copper. && - Sanitary ware and parts thereof |                   0.552399 |\n",
      "| 186133 | 741820 | FREESTANDING BATH TOWER                   | Table, kitchen or other household articles and parts thereof, of copper; pot scourers and scouring or polishing pads, gloves and the like, of copper; sanitary ware and parts thereof, of copper. && - Sanitary ware and parts thereof |                   0.552331 |\n",
      "| 231401 | 741820 | TRAP ASSEMBLY                             | Table, kitchen or other household articles and parts thereof, of copper; pot scourers and scouring or polishing pads, gloves and the like, of copper; sanitary ware and parts thereof, of copper. && - Sanitary ware and parts thereof |                   0.548731 |\n",
      "|   4096 | 741820 | HG BATH MIXER WALL MOUNTED MYSPORT CHROME | Table, kitchen or other household articles and parts thereof, of copper; pot scourers and scouring or polishing pads, gloves and the like, of copper; sanitary ware and parts thereof, of copper. && - Sanitary ware and parts thereof |                   0.545765 |\n",
      "| 190079 | 741820 | TOWER BAR                                 | Table, kitchen or other household articles and parts thereof, of copper; pot scourers and scouring or polishing pads, gloves and the like, of copper; sanitary ware and parts thereof, of copper. && - Sanitary ware and parts thereof |                   0.54023  |\n",
      "| 112487 | 741820 | BOTTLE TRAP                               | Table, kitchen or other household articles and parts thereof, of copper; pot scourers and scouring or polishing pads, gloves and the like, of copper; sanitary ware and parts thereof, of copper. && - Sanitary ware and parts thereof |                   0.530738 |\n",
      "|  75948 | 741820 | MUNSEN RING                               | Table, kitchen or other household articles and parts thereof, of copper; pot scourers and scouring or polishing pads, gloves and the like, of copper; sanitary ware and parts thereof, of copper. && - Sanitary ware and parts thereof |                   0.524605 |\n",
      "| 202742 | 741820 | SHUT OFF                                  | Table, kitchen or other household articles and parts thereof, of copper; pot scourers and scouring or polishing pads, gloves and the like, of copper; sanitary ware and parts thereof, of copper. && - Sanitary ware and parts thereof |                   0.523271 |\n",
      "| 224464 | 741820 | CLICK DRAIN                               | Table, kitchen or other household articles and parts thereof, of copper; pot scourers and scouring or polishing pads, gloves and the like, of copper; sanitary ware and parts thereof, of copper. && - Sanitary ware and parts thereof |                   0.502596 | \n",
      "\n"
     ]
    }
   ],
   "source": [
    "print(\"Bottom 10 cosine similarity between goods description and HS06 full eng description:\\n\")\n",
    "print(df[cols].dropna().sort_values(by='cosine_sim_gd_vs_hs_text', ascending=False).tail(10).to_markdown(), \"\\n\")"
   ]
  },
  {
   "cell_type": "markdown",
   "metadata": {},
   "source": [
    "Average similarity"
   ]
  },
  {
   "cell_type": "code",
   "execution_count": 57,
   "metadata": {},
   "outputs": [],
   "source": [
    "sim_mean = df['cosine_sim_gd_vs_hs_text'].mean()\n",
    "upper = sim_mean + sim_mean / 100\n",
    "lower = sim_mean - sim_mean / 100"
   ]
  },
  {
   "cell_type": "code",
   "execution_count": 58,
   "metadata": {},
   "outputs": [
    {
     "name": "stdout",
     "output_type": "stream",
     "text": [
      "Regular cosine similarity between goods description and HS06 full eng description:\n",
      "\n",
      "      HS06                               GOODS_DESCRIPTION  \\\n",
      "5   853950                    ASSY LED Base Strobe Upgrade   \n",
      "9   220870                  VODKA FRAISE JELZIN STRAWBERRY   \n",
      "18  620590                       SHORT SLEEVE REPAIR SHIRT   \n",
      "27  732620                                      HANGER ROD   \n",
      "32  843143             8-3/8SH Extension Overshot C-17208   \n",
      "41  870323                              SUZUKI ESCUDO 2006   \n",
      "48  841899  Spare Parts for 10 TR Air Cooled Water Chiller   \n",
      "57  871120              USED CHANGZHOU KWANGYANG MOTORBYKE   \n",
      "61  940540                          SURFACE MOUNTED LIGHTS   \n",
      "67  842131                        FILTER ASSY, AIR CLEANER   \n",
      "\n",
      "                                             full_eng  \\\n",
      "5   Electric filament or discharge lamps, includin...   \n",
      "9   Undenatured ethyl alcohol of an alcoholic stre...   \n",
      "18  Men's or boys' shirts. && - Of other textile m...   \n",
      "27  Other articles of iron or steel. && - Articles...   \n",
      "32  Parts suitable for use solely or principally w...   \n",
      "41  Motor cars and other motor vehicles principall...   \n",
      "48  Refrigerators, freezers and other refrigeratin...   \n",
      "57  Motorcycles (including mopeds) and cycles fitt...   \n",
      "61  Lamps and lighting fittings including searchli...   \n",
      "67  Centrifuges, including centrifugal dryers; fil...   \n",
      "\n",
      "    cosine_sim_gd_vs_hs_text  \n",
      "5                   0.827174  \n",
      "9                   0.831804  \n",
      "18                  0.830535  \n",
      "27                  0.830890  \n",
      "32                  0.828724  \n",
      "41                  0.817948  \n",
      "48                  0.822742  \n",
      "57                  0.826228  \n",
      "61                  0.817389  \n",
      "67                  0.831361   \n",
      "\n"
     ]
    }
   ],
   "source": [
    "print(\"Regular cosine similarity between goods description and HS06 full eng description:\\n\")\n",
    "print(df[cols].loc[(df['cosine_sim_gd_vs_hs_text'] < upper) & (df['cosine_sim_gd_vs_hs_text'] > lower)].head(10), \"\\n\")"
   ]
  },
  {
   "cell_type": "markdown",
   "metadata": {},
   "source": [
    "Getting new stats from grouped HS06 codes"
   ]
  },
  {
   "cell_type": "code",
   "execution_count": 59,
   "metadata": {},
   "outputs": [],
   "source": [
    "agg_col_for_sum = ['HS06']\n",
    "\n",
    "agg_dict = {col: ['count'] for col in agg_col_for_sum}\n",
    "\n",
    "agg_col_for_stats = ['GOODS_DESCRIPTION_len_words', \n",
    "                     'GOODS_DESCRIPTION_len_chars', \n",
    "                     'subtokenization_indicator',\n",
    "                     'cosine_sim_gd_vs_hs_text']\n",
    "\n",
    "agg_dict.update({col: ['sum','min', 'mean', 'median', 'max', 'std'] for col in agg_col_for_stats})\n"
   ]
  },
  {
   "cell_type": "markdown",
   "metadata": {},
   "source": [
    "sum of cosine_sim_gd_vs_hs_text is not relevant"
   ]
  },
  {
   "cell_type": "code",
   "execution_count": 60,
   "metadata": {},
   "outputs": [
    {
     "data": {
      "text/plain": [
       "{'HS06': ['count'],\n",
       " 'GOODS_DESCRIPTION_len_words': ['sum', 'min', 'mean', 'median', 'max', 'std'],\n",
       " 'GOODS_DESCRIPTION_len_chars': ['sum', 'min', 'mean', 'median', 'max', 'std'],\n",
       " 'subtokenization_indicator': ['sum', 'min', 'mean', 'median', 'max', 'std'],\n",
       " 'cosine_sim_gd_vs_hs_text': ['sum', 'min', 'mean', 'median', 'max', 'std']}"
      ]
     },
     "execution_count": 60,
     "metadata": {},
     "output_type": "execute_result"
    }
   ],
   "source": [
    "agg_dict"
   ]
  },
  {
   "cell_type": "code",
   "execution_count": 61,
   "metadata": {},
   "outputs": [
    {
     "data": {
      "text/html": [
       "<div>\n",
       "<style scoped>\n",
       "    .dataframe tbody tr th:only-of-type {\n",
       "        vertical-align: middle;\n",
       "    }\n",
       "\n",
       "    .dataframe tbody tr th {\n",
       "        vertical-align: top;\n",
       "    }\n",
       "\n",
       "    .dataframe thead tr th {\n",
       "        text-align: left;\n",
       "    }\n",
       "\n",
       "    .dataframe thead tr:last-of-type th {\n",
       "        text-align: right;\n",
       "    }\n",
       "</style>\n",
       "<table border=\"1\" class=\"dataframe\">\n",
       "  <thead>\n",
       "    <tr>\n",
       "      <th></th>\n",
       "      <th>HS06</th>\n",
       "      <th colspan=\"6\" halign=\"left\">GOODS_DESCRIPTION_len_words</th>\n",
       "      <th colspan=\"3\" halign=\"left\">GOODS_DESCRIPTION_len_chars</th>\n",
       "      <th>...</th>\n",
       "      <th colspan=\"4\" halign=\"left\">subtokenization_indicator</th>\n",
       "      <th colspan=\"6\" halign=\"left\">cosine_sim_gd_vs_hs_text</th>\n",
       "    </tr>\n",
       "    <tr>\n",
       "      <th></th>\n",
       "      <th>count</th>\n",
       "      <th>sum</th>\n",
       "      <th>min</th>\n",
       "      <th>mean</th>\n",
       "      <th>median</th>\n",
       "      <th>max</th>\n",
       "      <th>std</th>\n",
       "      <th>sum</th>\n",
       "      <th>min</th>\n",
       "      <th>mean</th>\n",
       "      <th>...</th>\n",
       "      <th>mean</th>\n",
       "      <th>median</th>\n",
       "      <th>max</th>\n",
       "      <th>std</th>\n",
       "      <th>sum</th>\n",
       "      <th>min</th>\n",
       "      <th>mean</th>\n",
       "      <th>median</th>\n",
       "      <th>max</th>\n",
       "      <th>std</th>\n",
       "    </tr>\n",
       "    <tr>\n",
       "      <th>HS06</th>\n",
       "      <th></th>\n",
       "      <th></th>\n",
       "      <th></th>\n",
       "      <th></th>\n",
       "      <th></th>\n",
       "      <th></th>\n",
       "      <th></th>\n",
       "      <th></th>\n",
       "      <th></th>\n",
       "      <th></th>\n",
       "      <th></th>\n",
       "      <th></th>\n",
       "      <th></th>\n",
       "      <th></th>\n",
       "      <th></th>\n",
       "      <th></th>\n",
       "      <th></th>\n",
       "      <th></th>\n",
       "      <th></th>\n",
       "      <th></th>\n",
       "      <th></th>\n",
       "    </tr>\n",
       "  </thead>\n",
       "  <tbody>\n",
       "    <tr>\n",
       "      <th>10121</th>\n",
       "      <td>5</td>\n",
       "      <td>30</td>\n",
       "      <td>4</td>\n",
       "      <td>6.000000</td>\n",
       "      <td>6.0</td>\n",
       "      <td>7</td>\n",
       "      <td>1.224745</td>\n",
       "      <td>172</td>\n",
       "      <td>24</td>\n",
       "      <td>34.400000</td>\n",
       "      <td>...</td>\n",
       "      <td>1.347619</td>\n",
       "      <td>1.285714</td>\n",
       "      <td>1.666667</td>\n",
       "      <td>0.251751</td>\n",
       "      <td>4.493902</td>\n",
       "      <td>0.889913</td>\n",
       "      <td>0.898780</td>\n",
       "      <td>0.894978</td>\n",
       "      <td>0.912786</td>\n",
       "      <td>0.009314</td>\n",
       "    </tr>\n",
       "    <tr>\n",
       "      <th>10130</th>\n",
       "      <td>1</td>\n",
       "      <td>2</td>\n",
       "      <td>2</td>\n",
       "      <td>2.000000</td>\n",
       "      <td>2.0</td>\n",
       "      <td>2</td>\n",
       "      <td>NaN</td>\n",
       "      <td>16</td>\n",
       "      <td>16</td>\n",
       "      <td>16.000000</td>\n",
       "      <td>...</td>\n",
       "      <td>1.500000</td>\n",
       "      <td>1.500000</td>\n",
       "      <td>1.500000</td>\n",
       "      <td>NaN</td>\n",
       "      <td>0.822331</td>\n",
       "      <td>0.822331</td>\n",
       "      <td>0.822331</td>\n",
       "      <td>0.822331</td>\n",
       "      <td>0.822331</td>\n",
       "      <td>NaN</td>\n",
       "    </tr>\n",
       "    <tr>\n",
       "      <th>10190</th>\n",
       "      <td>1</td>\n",
       "      <td>3</td>\n",
       "      <td>3</td>\n",
       "      <td>3.000000</td>\n",
       "      <td>3.0</td>\n",
       "      <td>3</td>\n",
       "      <td>NaN</td>\n",
       "      <td>15</td>\n",
       "      <td>15</td>\n",
       "      <td>15.000000</td>\n",
       "      <td>...</td>\n",
       "      <td>1.000000</td>\n",
       "      <td>1.000000</td>\n",
       "      <td>1.000000</td>\n",
       "      <td>NaN</td>\n",
       "      <td>0.866746</td>\n",
       "      <td>0.866746</td>\n",
       "      <td>0.866746</td>\n",
       "      <td>0.866746</td>\n",
       "      <td>0.866746</td>\n",
       "      <td>NaN</td>\n",
       "    </tr>\n",
       "    <tr>\n",
       "      <th>10221</th>\n",
       "      <td>5</td>\n",
       "      <td>20</td>\n",
       "      <td>2</td>\n",
       "      <td>4.000000</td>\n",
       "      <td>3.0</td>\n",
       "      <td>7</td>\n",
       "      <td>2.345208</td>\n",
       "      <td>103</td>\n",
       "      <td>8</td>\n",
       "      <td>20.600000</td>\n",
       "      <td>...</td>\n",
       "      <td>1.400000</td>\n",
       "      <td>1.333333</td>\n",
       "      <td>2.000000</td>\n",
       "      <td>0.434613</td>\n",
       "      <td>4.574999</td>\n",
       "      <td>0.876037</td>\n",
       "      <td>0.915000</td>\n",
       "      <td>0.915777</td>\n",
       "      <td>0.937644</td>\n",
       "      <td>0.024419</td>\n",
       "    </tr>\n",
       "    <tr>\n",
       "      <th>10229</th>\n",
       "      <td>2</td>\n",
       "      <td>8</td>\n",
       "      <td>3</td>\n",
       "      <td>4.000000</td>\n",
       "      <td>4.0</td>\n",
       "      <td>5</td>\n",
       "      <td>1.414214</td>\n",
       "      <td>47</td>\n",
       "      <td>22</td>\n",
       "      <td>23.500000</td>\n",
       "      <td>...</td>\n",
       "      <td>1.666667</td>\n",
       "      <td>1.666667</td>\n",
       "      <td>2.333333</td>\n",
       "      <td>0.942809</td>\n",
       "      <td>1.812984</td>\n",
       "      <td>0.888580</td>\n",
       "      <td>0.906492</td>\n",
       "      <td>0.906492</td>\n",
       "      <td>0.924403</td>\n",
       "      <td>0.025331</td>\n",
       "    </tr>\n",
       "    <tr>\n",
       "      <th>...</th>\n",
       "      <td>...</td>\n",
       "      <td>...</td>\n",
       "      <td>...</td>\n",
       "      <td>...</td>\n",
       "      <td>...</td>\n",
       "      <td>...</td>\n",
       "      <td>...</td>\n",
       "      <td>...</td>\n",
       "      <td>...</td>\n",
       "      <td>...</td>\n",
       "      <td>...</td>\n",
       "      <td>...</td>\n",
       "      <td>...</td>\n",
       "      <td>...</td>\n",
       "      <td>...</td>\n",
       "      <td>...</td>\n",
       "      <td>...</td>\n",
       "      <td>...</td>\n",
       "      <td>...</td>\n",
       "      <td>...</td>\n",
       "      <td>...</td>\n",
       "    </tr>\n",
       "    <tr>\n",
       "      <th>970190</th>\n",
       "      <td>26</td>\n",
       "      <td>98</td>\n",
       "      <td>1</td>\n",
       "      <td>3.769231</td>\n",
       "      <td>2.5</td>\n",
       "      <td>13</td>\n",
       "      <td>3.037205</td>\n",
       "      <td>621</td>\n",
       "      <td>6</td>\n",
       "      <td>23.884615</td>\n",
       "      <td>...</td>\n",
       "      <td>1.443327</td>\n",
       "      <td>1.138889</td>\n",
       "      <td>4.000000</td>\n",
       "      <td>0.708957</td>\n",
       "      <td>21.213793</td>\n",
       "      <td>0.742387</td>\n",
       "      <td>0.815915</td>\n",
       "      <td>0.813457</td>\n",
       "      <td>0.902661</td>\n",
       "      <td>0.041836</td>\n",
       "    </tr>\n",
       "    <tr>\n",
       "      <th>970200</th>\n",
       "      <td>1</td>\n",
       "      <td>3</td>\n",
       "      <td>3</td>\n",
       "      <td>3.000000</td>\n",
       "      <td>3.0</td>\n",
       "      <td>3</td>\n",
       "      <td>NaN</td>\n",
       "      <td>14</td>\n",
       "      <td>14</td>\n",
       "      <td>14.000000</td>\n",
       "      <td>...</td>\n",
       "      <td>1.000000</td>\n",
       "      <td>1.000000</td>\n",
       "      <td>1.000000</td>\n",
       "      <td>NaN</td>\n",
       "      <td>0.000000</td>\n",
       "      <td>NaN</td>\n",
       "      <td>NaN</td>\n",
       "      <td>NaN</td>\n",
       "      <td>NaN</td>\n",
       "      <td>NaN</td>\n",
       "    </tr>\n",
       "    <tr>\n",
       "      <th>970300</th>\n",
       "      <td>31</td>\n",
       "      <td>100</td>\n",
       "      <td>1</td>\n",
       "      <td>3.225806</td>\n",
       "      <td>2.0</td>\n",
       "      <td>12</td>\n",
       "      <td>2.261411</td>\n",
       "      <td>672</td>\n",
       "      <td>9</td>\n",
       "      <td>21.677419</td>\n",
       "      <td>...</td>\n",
       "      <td>1.730108</td>\n",
       "      <td>1.500000</td>\n",
       "      <td>4.000000</td>\n",
       "      <td>0.844376</td>\n",
       "      <td>0.000000</td>\n",
       "      <td>NaN</td>\n",
       "      <td>NaN</td>\n",
       "      <td>NaN</td>\n",
       "      <td>NaN</td>\n",
       "      <td>NaN</td>\n",
       "    </tr>\n",
       "    <tr>\n",
       "      <th>970400</th>\n",
       "      <td>6</td>\n",
       "      <td>16</td>\n",
       "      <td>1</td>\n",
       "      <td>2.666667</td>\n",
       "      <td>2.5</td>\n",
       "      <td>4</td>\n",
       "      <td>1.211060</td>\n",
       "      <td>100</td>\n",
       "      <td>7</td>\n",
       "      <td>16.666667</td>\n",
       "      <td>...</td>\n",
       "      <td>1.166667</td>\n",
       "      <td>1.000000</td>\n",
       "      <td>1.750000</td>\n",
       "      <td>0.302765</td>\n",
       "      <td>0.000000</td>\n",
       "      <td>NaN</td>\n",
       "      <td>NaN</td>\n",
       "      <td>NaN</td>\n",
       "      <td>NaN</td>\n",
       "      <td>NaN</td>\n",
       "    </tr>\n",
       "    <tr>\n",
       "      <th>970500</th>\n",
       "      <td>4</td>\n",
       "      <td>11</td>\n",
       "      <td>1</td>\n",
       "      <td>2.750000</td>\n",
       "      <td>2.0</td>\n",
       "      <td>6</td>\n",
       "      <td>2.217356</td>\n",
       "      <td>75</td>\n",
       "      <td>8</td>\n",
       "      <td>18.750000</td>\n",
       "      <td>...</td>\n",
       "      <td>1.666667</td>\n",
       "      <td>1.500000</td>\n",
       "      <td>2.666667</td>\n",
       "      <td>0.816497</td>\n",
       "      <td>0.000000</td>\n",
       "      <td>NaN</td>\n",
       "      <td>NaN</td>\n",
       "      <td>NaN</td>\n",
       "      <td>NaN</td>\n",
       "      <td>NaN</td>\n",
       "    </tr>\n",
       "  </tbody>\n",
       "</table>\n",
       "<p>4190 rows × 25 columns</p>\n",
       "</div>"
      ],
      "text/plain": [
       "        HS06 GOODS_DESCRIPTION_len_words                                     \\\n",
       "       count                         sum min      mean median max       std   \n",
       "HS06                                                                          \n",
       "10121      5                          30   4  6.000000    6.0   7  1.224745   \n",
       "10130      1                           2   2  2.000000    2.0   2       NaN   \n",
       "10190      1                           3   3  3.000000    3.0   3       NaN   \n",
       "10221      5                          20   2  4.000000    3.0   7  2.345208   \n",
       "10229      2                           8   3  4.000000    4.0   5  1.414214   \n",
       "...      ...                         ...  ..       ...    ...  ..       ...   \n",
       "970190    26                          98   1  3.769231    2.5  13  3.037205   \n",
       "970200     1                           3   3  3.000000    3.0   3       NaN   \n",
       "970300    31                         100   1  3.225806    2.0  12  2.261411   \n",
       "970400     6                          16   1  2.666667    2.5   4  1.211060   \n",
       "970500     4                          11   1  2.750000    2.0   6  2.217356   \n",
       "\n",
       "       GOODS_DESCRIPTION_len_chars                 ...  \\\n",
       "                               sum min       mean  ...   \n",
       "HS06                                               ...   \n",
       "10121                          172  24  34.400000  ...   \n",
       "10130                           16  16  16.000000  ...   \n",
       "10190                           15  15  15.000000  ...   \n",
       "10221                          103   8  20.600000  ...   \n",
       "10229                           47  22  23.500000  ...   \n",
       "...                            ...  ..        ...  ...   \n",
       "970190                         621   6  23.884615  ...   \n",
       "970200                          14  14  14.000000  ...   \n",
       "970300                         672   9  21.677419  ...   \n",
       "970400                         100   7  16.666667  ...   \n",
       "970500                          75   8  18.750000  ...   \n",
       "\n",
       "       subtokenization_indicator                                \\\n",
       "                            mean    median       max       std   \n",
       "HS06                                                             \n",
       "10121                   1.347619  1.285714  1.666667  0.251751   \n",
       "10130                   1.500000  1.500000  1.500000       NaN   \n",
       "10190                   1.000000  1.000000  1.000000       NaN   \n",
       "10221                   1.400000  1.333333  2.000000  0.434613   \n",
       "10229                   1.666667  1.666667  2.333333  0.942809   \n",
       "...                          ...       ...       ...       ...   \n",
       "970190                  1.443327  1.138889  4.000000  0.708957   \n",
       "970200                  1.000000  1.000000  1.000000       NaN   \n",
       "970300                  1.730108  1.500000  4.000000  0.844376   \n",
       "970400                  1.166667  1.000000  1.750000  0.302765   \n",
       "970500                  1.666667  1.500000  2.666667  0.816497   \n",
       "\n",
       "       cosine_sim_gd_vs_hs_text                                          \\\n",
       "                            sum       min      mean    median       max   \n",
       "HS06                                                                      \n",
       "10121                  4.493902  0.889913  0.898780  0.894978  0.912786   \n",
       "10130                  0.822331  0.822331  0.822331  0.822331  0.822331   \n",
       "10190                  0.866746  0.866746  0.866746  0.866746  0.866746   \n",
       "10221                  4.574999  0.876037  0.915000  0.915777  0.937644   \n",
       "10229                  1.812984  0.888580  0.906492  0.906492  0.924403   \n",
       "...                         ...       ...       ...       ...       ...   \n",
       "970190                21.213793  0.742387  0.815915  0.813457  0.902661   \n",
       "970200                 0.000000       NaN       NaN       NaN       NaN   \n",
       "970300                 0.000000       NaN       NaN       NaN       NaN   \n",
       "970400                 0.000000       NaN       NaN       NaN       NaN   \n",
       "970500                 0.000000       NaN       NaN       NaN       NaN   \n",
       "\n",
       "                  \n",
       "             std  \n",
       "HS06              \n",
       "10121   0.009314  \n",
       "10130        NaN  \n",
       "10190        NaN  \n",
       "10221   0.024419  \n",
       "10229   0.025331  \n",
       "...          ...  \n",
       "970190  0.041836  \n",
       "970200       NaN  \n",
       "970300       NaN  \n",
       "970400       NaN  \n",
       "970500       NaN  \n",
       "\n",
       "[4190 rows x 25 columns]"
      ]
     },
     "execution_count": 61,
     "metadata": {},
     "output_type": "execute_result"
    }
   ],
   "source": [
    "stats_hs06 = df.groupby('HS06').agg(agg_dict)\n",
    "\n",
    "stats_hs06"
   ]
  },
  {
   "cell_type": "markdown",
   "metadata": {},
   "source": [
    "Saving new stats"
   ]
  },
  {
   "cell_type": "code",
   "execution_count": 62,
   "metadata": {},
   "outputs": [],
   "source": [
    "stats_hs06.to_csv('eda_stats_hs06_with_similarity.csv')"
   ]
  },
  {
   "cell_type": "markdown",
   "metadata": {},
   "source": [
    "Report to html format"
   ]
  },
  {
   "cell_type": "code",
   "execution_count": 63,
   "metadata": {},
   "outputs": [
    {
     "data": {
      "application/vnd.jupyter.widget-view+json": {
       "model_id": "acdd120b3179440baeee72f0213377d6",
       "version_major": 2,
       "version_minor": 0
      },
      "text/plain": [
       "Summarize dataset:   0%|          | 0/5 [00:00<?, ?it/s]"
      ]
     },
     "metadata": {},
     "output_type": "display_data"
    },
    {
     "data": {
      "application/vnd.jupyter.widget-view+json": {
       "model_id": "5859d23ea66a4a9794187959a8ff9ad2",
       "version_major": 2,
       "version_minor": 0
      },
      "text/plain": [
       "Generate report structure:   0%|          | 0/1 [00:00<?, ?it/s]"
      ]
     },
     "metadata": {},
     "output_type": "display_data"
    },
    {
     "data": {
      "application/vnd.jupyter.widget-view+json": {
       "model_id": "620d662a64e84b41b5ce2170438afc6c",
       "version_major": 2,
       "version_minor": 0
      },
      "text/plain": [
       "Render HTML:   0%|          | 0/1 [00:00<?, ?it/s]"
      ]
     },
     "metadata": {},
     "output_type": "display_data"
    },
    {
     "data": {
      "application/vnd.jupyter.widget-view+json": {
       "model_id": "0accc4a5960541ed9bad330369a2842d",
       "version_major": 2,
       "version_minor": 0
      },
      "text/plain": [
       "Export report to file:   0%|          | 0/1 [00:00<?, ?it/s]"
      ]
     },
     "metadata": {},
     "output_type": "display_data"
    }
   ],
   "source": [
    "stats_hs06.columns = ['_'.join(col) for col in stats_hs06.columns]\n",
    "\n",
    "ProfileReport(stats_hs06, title=\"HS06 Goods Description EDA\").to_file(\"eda_stats_hs06_with_similarity.html\")"
   ]
  },
  {
   "cell_type": "markdown",
   "metadata": {},
   "source": [
    "EDA Finished\n",
    "\n",
    "Write report and present"
   ]
  },
  {
   "cell_type": "markdown",
   "metadata": {},
   "source": [
    "______"
   ]
  }
 ],
 "metadata": {
  "kernelspec": {
   "display_name": "venv",
   "language": "python",
   "name": "python3"
  },
  "language_info": {
   "codemirror_mode": {
    "name": "ipython",
    "version": 3
   },
   "file_extension": ".py",
   "mimetype": "text/x-python",
   "name": "python",
   "nbconvert_exporter": "python",
   "pygments_lexer": "ipython3",
   "version": "3.12.6"
  }
 },
 "nbformat": 4,
 "nbformat_minor": 2
}
