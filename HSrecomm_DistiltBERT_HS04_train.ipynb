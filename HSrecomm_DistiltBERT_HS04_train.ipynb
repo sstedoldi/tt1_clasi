{
 "cells": [
  {
   "cell_type": "markdown",
   "metadata": {},
   "source": [
    "# TT1 - MDM UBA - 2025\n",
    "\n",
    "**Tariff classification using NLP**\n",
    "\n",
    "By Santiago Tedoldi"
   ]
  },
  {
   "cell_type": "markdown",
   "metadata": {},
   "source": [
    "## Training a DistiltBERT for classification"
   ]
  },
  {
   "cell_type": "code",
   "execution_count": null,
   "metadata": {},
   "outputs": [],
   "source": [
    "# Dependencies\n",
    "import os\n",
    "import json\n",
    "import pandas as pd\n",
    "import numpy as np\n",
    "import matplotlib.pyplot as plt\n"
   ]
  },
  {
   "cell_type": "markdown",
   "metadata": {},
   "source": [
    "### Raw dataset"
   ]
  },
  {
   "cell_type": "code",
   "execution_count": 2,
   "metadata": {},
   "outputs": [],
   "source": [
    "colspecs = [(0, 6), (6, None)]\n",
    "data_type = {'HS06': str}\n",
    "df = pd.read_fwf('data/raw_data_HScodes_desc.txt',\n",
    "                 colspecs=colspecs, header=None,\n",
    "                 names=['HS06', 'GOODS_DESCRIPTION'],\n",
    "                 dtype=data_type)"
   ]
  },
  {
   "cell_type": "markdown",
   "metadata": {},
   "source": [
    "### Quick EDA\n",
    "\n",
    "null and duplicated samples\n",
    "\n",
    "dropping duplicates\n",
    "\n",
    "analyzing tops and bottoms regarding frequencies"
   ]
  },
  {
   "cell_type": "code",
   "execution_count": 3,
   "metadata": {},
   "outputs": [
    {
     "name": "stdout",
     "output_type": "stream",
     "text": [
      "=== Quick EDA ===\n",
      "Nulls per column:\n",
      "HS06                 0\n",
      "GOODS_DESCRIPTION    0\n",
      "HS04                 0\n",
      "HS02                 0\n",
      "dtype: int64 \n",
      "\n",
      "Duplicate rows: 232220 \n",
      "\n",
      "## Samples per chapter (HS02)\n",
      "\n",
      "### Top 10\n",
      "|   HS02 |   count | rel_freq   | cum_freq   |\n",
      "|-------:|--------:|:-----------|:-----------|\n",
      "|     84 |   54901 | 20.5%      | 20.5%      |\n",
      "|     85 |   33571 | 12.54%     | 33.04%     |\n",
      "|     87 |   28476 | 10.63%     | 43.67%     |\n",
      "|     73 |   16173 | 6.04%      | 49.71%     |\n",
      "|     39 |   12218 | 4.56%      | 54.28%     |\n",
      "|     90 |   11611 | 4.34%      | 58.61%     |\n",
      "|     82 |    7972 | 2.98%      | 61.59%     |\n",
      "|     94 |    7921 | 2.96%      | 64.55%     |\n",
      "|     40 |    7526 | 2.81%      | 67.36%     |\n",
      "|     83 |    4285 | 1.6%       | 68.96%     | \n",
      "\n",
      "### Bottom 10\n",
      "|   HS02 |   count | rel_freq   | cum_freq   |\n",
      "|-------:|--------:|:-----------|:-----------|\n",
      "|     41 |      22 | 0.01%      | 99.96%     |\n",
      "|     81 |      19 | 0.01%      | 99.97%     |\n",
      "|     45 |      19 | 0.01%      | 99.97%     |\n",
      "|     80 |      15 | 0.01%      | 99.98%     |\n",
      "|     05 |      15 | 0.01%      | 99.98%     |\n",
      "|     50 |      11 | 0.0%       | 99.99%     |\n",
      "|     14 |      11 | 0.0%       | 99.99%     |\n",
      "|     78 |      10 | 0.0%       | 100.0%     |\n",
      "|     51 |       6 | 0.0%       | 100.0%     |\n",
      "|     43 |       5 | 0.0%       | 100.0%     | \n",
      "\n",
      "## Samples per heading (HS04)\n",
      "\n",
      "### Top 10\n",
      "|   HS04 |   count | rel_freq   | cum_freq   |\n",
      "|-------:|--------:|:-----------|:-----------|\n",
      "|   8708 |    8524 | 3.18%      | 3.18%      |\n",
      "|   8703 |    7341 | 2.74%      | 5.92%      |\n",
      "|   7318 |    5700 | 2.13%      | 8.05%      |\n",
      "|   8536 |    5487 | 2.05%      | 10.1%      |\n",
      "|   8482 |    4895 | 1.83%      | 11.93%     |\n",
      "|   8421 |    4593 | 1.72%      | 13.65%     |\n",
      "|   8431 |    3910 | 1.46%      | 15.11%     |\n",
      "|   8483 |    3819 | 1.43%      | 16.53%     |\n",
      "|   8481 |    3562 | 1.33%      | 17.86%     |\n",
      "|   8714 |    3485 | 1.3%       | 19.16%     | \n",
      "\n",
      "### Bottom 10\n",
      "|   HS04 |   count | rel_freq   | cum_freq   |\n",
      "|-------:|--------:|:-----------|:-----------|\n",
      "|   7106 |       1 | 0.0%       | 100.0%     |\n",
      "|   2919 |       1 | 0.0%       | 100.0%     |\n",
      "|   0704 |       1 | 0.0%       | 100.0%     |\n",
      "|   5505 |       1 | 0.0%       | 100.0%     |\n",
      "|   4103 |       1 | 0.0%       | 100.0%     |\n",
      "|   5406 |       1 | 0.0%       | 100.0%     |\n",
      "|   8469 |       1 | 0.0%       | 100.0%     |\n",
      "|   5105 |       1 | 0.0%       | 100.0%     |\n",
      "|   2615 |       1 | 0.0%       | 100.0%     |\n",
      "|   1007 |       1 | 0.0%       | 100.0%     | \n",
      "\n",
      "## Samples per subheading (HS06)\n",
      "\n",
      "### Top 10\n",
      "|   HS06 |   count | rel_freq   | cum_freq   |\n",
      "|-------:|--------:|:-----------|:-----------|\n",
      "| 870323 |    3869 | 1.44%      | 1.44%      |\n",
      "| 848280 |    2924 | 1.09%      | 2.54%      |\n",
      "| 871120 |    2779 | 1.04%      | 3.57%      |\n",
      "| 731815 |    2632 | 0.98%      | 4.56%      |\n",
      "| 870322 |    2247 | 0.84%      | 5.4%       |\n",
      "| 870899 |    2074 | 0.77%      | 6.17%      |\n",
      "| 950300 |    1988 | 0.74%      | 6.91%      |\n",
      "| 940540 |    1874 | 0.7%       | 7.61%      |\n",
      "| 848180 |    1857 | 0.69%      | 8.31%      |\n",
      "| 901890 |    1836 | 0.69%      | 8.99%      | \n",
      "\n",
      "### Bottom 10\n",
      "|   HS06 |   count | rel_freq   | cum_freq   |\n",
      "|-------:|--------:|:-----------|:-----------|\n",
      "| 900652 |       1 | 0.0%       | 100.0%     |\n",
      "| 160554 |       1 | 0.0%       | 100.0%     |\n",
      "| 611220 |       1 | 0.0%       | 100.0%     |\n",
      "| 200560 |       1 | 0.0%       | 100.0%     |\n",
      "| 070410 |       1 | 0.0%       | 100.0%     |\n",
      "| 410799 |       1 | 0.0%       | 100.0%     |\n",
      "| 310250 |       1 | 0.0%       | 100.0%     |\n",
      "| 291990 |       1 | 0.0%       | 100.0%     |\n",
      "| 842630 |       1 | 0.0%       | 100.0%     |\n",
      "| 080720 |       1 | 0.0%       | 100.0%     | \n",
      "\n"
     ]
    }
   ],
   "source": [
    "# Quick EDA\n",
    "print(\"=== Quick EDA ===\")\n",
    "\n",
    "# Add HS02 (chapter) and HS04 (heading)\n",
    "df['HS04'] = df['HS06'].str[:4]\n",
    "df['HS02'] = df['HS06'].str[:2]\n",
    "\n",
    "print(\"Nulls per column:\")\n",
    "print(df.isnull().sum(), \"\\n\")\n",
    "\n",
    "print(\"Duplicate rows:\", df.duplicated().sum(), \"\\n\")\n",
    "\n",
    "# Function to build and display freq tables\n",
    "def freq_table(col, name):\n",
    "    vc      = df[col].value_counts().rename('count')\n",
    "    rel     = df[col].value_counts(normalize=True).rename('rel_freq')\n",
    "    cum     = rel.cumsum().rename('cum_freq')\n",
    "    summary = pd.concat([vc, rel, cum], axis=1)\n",
    "    summary['rel_freq'] = (summary['rel_freq'] * 100).round(2).astype(str) + '%'\n",
    "    summary['cum_freq'] = (summary['cum_freq'] * 100).round(2).astype(str) + '%'\n",
    "\n",
    "    print(f\"## Samples per {name} ({col})\\n\")\n",
    "    print(\"### Top 10\")\n",
    "    print(summary.head(10).to_markdown(), \"\\n\")\n",
    "    print(\"### Bottom 10\")\n",
    "    print(summary.tail(10).to_markdown(), \"\\n\")\n",
    "\n",
    "# Dropping duplicates\n",
    "df.drop_duplicates(inplace=True)\n",
    "\n",
    "# Chapter-level (HS02)\n",
    "freq_table('HS02', 'chapter')\n",
    "\n",
    "# Heading-level (HS04)\n",
    "freq_table('HS04', 'heading')\n",
    "\n",
    "# Subheading-level (HS06)\n",
    "freq_table('HS06', 'subheading')"
   ]
  },
  {
   "cell_type": "code",
   "execution_count": 4,
   "metadata": {},
   "outputs": [
    {
     "data": {
      "text/html": [
       "<div>\n",
       "<style scoped>\n",
       "    .dataframe tbody tr th:only-of-type {\n",
       "        vertical-align: middle;\n",
       "    }\n",
       "\n",
       "    .dataframe tbody tr th {\n",
       "        vertical-align: top;\n",
       "    }\n",
       "\n",
       "    .dataframe thead th {\n",
       "        text-align: right;\n",
       "    }\n",
       "</style>\n",
       "<table border=\"1\" class=\"dataframe\">\n",
       "  <thead>\n",
       "    <tr style=\"text-align: right;\">\n",
       "      <th></th>\n",
       "      <th>HS06</th>\n",
       "      <th>GOODS_DESCRIPTION</th>\n",
       "      <th>HS04</th>\n",
       "      <th>HS02</th>\n",
       "    </tr>\n",
       "  </thead>\n",
       "  <tbody>\n",
       "    <tr>\n",
       "      <th>0</th>\n",
       "      <td>271019</td>\n",
       "      <td>BRAKE FLUID DOT 4 50X200ML</td>\n",
       "      <td>2710</td>\n",
       "      <td>27</td>\n",
       "    </tr>\n",
       "    <tr>\n",
       "      <th>1</th>\n",
       "      <td>847710</td>\n",
       "      <td>PLASTIC INJECTION MOULD MODEL 21A 110G DSM1010...</td>\n",
       "      <td>8477</td>\n",
       "      <td>84</td>\n",
       "    </tr>\n",
       "    <tr>\n",
       "      <th>2</th>\n",
       "      <td>844399</td>\n",
       "      <td>LCD ASSEMBLY</td>\n",
       "      <td>8443</td>\n",
       "      <td>84</td>\n",
       "    </tr>\n",
       "    <tr>\n",
       "      <th>3</th>\n",
       "      <td>848280</td>\n",
       "      <td>BEARING 22238 KCAW33C3 BRAND MCB</td>\n",
       "      <td>8482</td>\n",
       "      <td>84</td>\n",
       "    </tr>\n",
       "    <tr>\n",
       "      <th>4</th>\n",
       "      <td>630900</td>\n",
       "      <td>USED HANDBAGS AND WALLETS</td>\n",
       "      <td>6309</td>\n",
       "      <td>63</td>\n",
       "    </tr>\n",
       "    <tr>\n",
       "      <th>...</th>\n",
       "      <td>...</td>\n",
       "      <td>...</td>\n",
       "      <td>...</td>\n",
       "      <td>...</td>\n",
       "    </tr>\n",
       "    <tr>\n",
       "      <th>499959</th>\n",
       "      <td>854239</td>\n",
       "      <td>PCB OPTIONAL ADD. KROPT V4.0 (NEW OUT PUT CARD)</td>\n",
       "      <td>8542</td>\n",
       "      <td>85</td>\n",
       "    </tr>\n",
       "    <tr>\n",
       "      <th>499961</th>\n",
       "      <td>842091</td>\n",
       "      <td>CYLINDER (SDA80*10F003000001A)</td>\n",
       "      <td>8420</td>\n",
       "      <td>84</td>\n",
       "    </tr>\n",
       "    <tr>\n",
       "      <th>499970</th>\n",
       "      <td>830249</td>\n",
       "      <td>BEOTIC DEVICE</td>\n",
       "      <td>8302</td>\n",
       "      <td>83</td>\n",
       "    </tr>\n",
       "    <tr>\n",
       "      <th>499981</th>\n",
       "      <td>901180</td>\n",
       "      <td>COMPOUND BINOCULAR MICROSCOPE</td>\n",
       "      <td>9011</td>\n",
       "      <td>90</td>\n",
       "    </tr>\n",
       "    <tr>\n",
       "      <th>499982</th>\n",
       "      <td>940180</td>\n",
       "      <td>RUBIK SINGLE SEATER COM 5</td>\n",
       "      <td>9401</td>\n",
       "      <td>94</td>\n",
       "    </tr>\n",
       "  </tbody>\n",
       "</table>\n",
       "<p>267780 rows × 4 columns</p>\n",
       "</div>"
      ],
      "text/plain": [
       "          HS06                                  GOODS_DESCRIPTION  HS04 HS02\n",
       "0       271019                         BRAKE FLUID DOT 4 50X200ML  2710   27\n",
       "1       847710  PLASTIC INJECTION MOULD MODEL 21A 110G DSM1010...  8477   84\n",
       "2       844399                                       LCD ASSEMBLY  8443   84\n",
       "3       848280                   BEARING 22238 KCAW33C3 BRAND MCB  8482   84\n",
       "4       630900                          USED HANDBAGS AND WALLETS  6309   63\n",
       "...        ...                                                ...   ...  ...\n",
       "499959  854239    PCB OPTIONAL ADD. KROPT V4.0 (NEW OUT PUT CARD)  8542   85\n",
       "499961  842091                     CYLINDER (SDA80*10F003000001A)  8420   84\n",
       "499970  830249                                      BEOTIC DEVICE  8302   83\n",
       "499981  901180                      COMPOUND BINOCULAR MICROSCOPE  9011   90\n",
       "499982  940180                          RUBIK SINGLE SEATER COM 5  9401   94\n",
       "\n",
       "[267780 rows x 4 columns]"
      ]
     },
     "execution_count": 4,
     "metadata": {},
     "output_type": "execute_result"
    }
   ],
   "source": [
    "df"
   ]
  },
  {
   "cell_type": "markdown",
   "metadata": {},
   "source": [
    "Merging with HS06 nomenclature"
   ]
  },
  {
   "cell_type": "code",
   "execution_count": 5,
   "metadata": {},
   "outputs": [],
   "source": [
    "df_hs06 = pd.read_csv('data/hs06_full_eng.csv', index_col='hs06', \n",
    "                      dtype={'hs06': str, 'full_eng': str},\n",
    "                      usecols=['hs06', 'full_eng'])"
   ]
  },
  {
   "cell_type": "code",
   "execution_count": 6,
   "metadata": {},
   "outputs": [
    {
     "name": "stdout",
     "output_type": "stream",
     "text": [
      "|   hs06 | full_eng                                                                              |\n",
      "|-------:|:--------------------------------------------------------------------------------------|\n",
      "| 010120 | Live horses, asses, mules and hinnies. && - Horses :                                  |\n",
      "| 010121 | Live horses, asses, mules and hinnies. && - Horses : && -- Pure-bred breeding animals |\n",
      "| 010129 | Live horses, asses, mules and hinnies. && - Horses : && -- Other                      |\n",
      "| 010130 | Live horses, asses, mules and hinnies. && - Asses                                     |\n",
      "| 010190 | Live horses, asses, mules and hinnies. && - Other                                     | \n",
      "\n",
      "|   hs06 | full_eng                                                                                                                                                                                                                                             |\n",
      "|-------:|:-----------------------------------------------------------------------------------------------------------------------------------------------------------------------------------------------------------------------------------------------------|\n",
      "| 961590 | Combs, hair-slides and the like; hairpins, curling pins, curling grips, hair-curlers and the like, other than those of heading 85.16, and parts thereof. && - Other                                                                                  |\n",
      "| 961610 | Scent sprays and similar toilet sprays, and mounts and heads therefor; powder-puffs and pads for the application of cosmetics or toilet preparations. && - Scent sprays and similar toilet sprays, and mounts and heads therefor                     |\n",
      "| 961620 | Scent sprays and similar toilet sprays, and mounts and heads therefor; powder-puffs and pads for the application of cosmetics or toilet preparations. && - Powder-puffs and pads for the application of cosmetics or toilet preparations             |\n",
      "| 970110 | Paintings, drawings and pastels, executed entirely by hand, other than drawings of heading 49.06 and other than hand- painted or hand-decorated manufactured articles; collages and similar decorative plaques. && - Paintings, drawings and pastels |\n",
      "| 970190 | Paintings, drawings and pastels, executed entirely by hand, other than drawings of heading 49.06 and other than hand- painted or hand-decorated manufactured articles; collages and similar decorative plaques. && - Other                           | \n",
      "\n"
     ]
    }
   ],
   "source": [
    "# top 5 rows in HS06 nomemclature\n",
    "print(df_hs06.head(5).to_markdown(), \"\\n\")\n",
    "\n",
    "# bottom 5 rows in HS06 nomemclature\n",
    "print(df_hs06.tail(5).to_markdown(), \"\\n\")"
   ]
  },
  {
   "cell_type": "code",
   "execution_count": 7,
   "metadata": {},
   "outputs": [],
   "source": [
    "df = pd.merge(df, df_hs06,how='left', left_on='HS06', right_on='hs06')"
   ]
  },
  {
   "cell_type": "code",
   "execution_count": 8,
   "metadata": {},
   "outputs": [
    {
     "name": "stdout",
     "output_type": "stream",
     "text": [
      "Nulls per column:\n",
      "HS06                 0.000000\n",
      "GOODS_DESCRIPTION    0.000000\n",
      "HS04                 0.000000\n",
      "HS02                 0.000000\n",
      "full_eng             0.045381\n",
      "dtype: float64 \n",
      "\n"
     ]
    }
   ],
   "source": [
    "print(\"Nulls per column:\")\n",
    "print(df.isnull().sum()/len(df), \"\\n\")"
   ]
  },
  {
   "cell_type": "markdown",
   "metadata": {},
   "source": [
    "There are 4.5 % of goods with no HS full_eng available\n",
    "\n",
    "They may are not updated codes"
   ]
  },
  {
   "cell_type": "markdown",
   "metadata": {},
   "source": [
    "### Deep EDA\n",
    "\n",
    "aggregate text statistics by HS level\n",
    "\n",
    "performed in HSrecomm_EDA"
   ]
  },
  {
   "cell_type": "markdown",
   "metadata": {},
   "source": [
    "Utils"
   ]
  },
  {
   "cell_type": "code",
   "execution_count": 9,
   "metadata": {},
   "outputs": [],
   "source": [
    "# Utils f\n",
    "def hs_frequencies_process(df, hs_codification = []):\n",
    "    for hs_codi in hs_codification:\n",
    "\n",
    "        df = df.merge(df[hs_codi].value_counts(), left_on=hs_codi, right_index=True)\n",
    "        df.rename(columns={'count':f'{hs_codi}_samples'}, inplace=True)\n",
    "\n",
    "    return df\n",
    "\n",
    "def description_length(df, description_cols = []):\n",
    "    for col in description_cols:\n",
    "\n",
    "        df[f'{col}_len_words'] = df[col].apply(lambda x: len(x.split()))\n",
    "        df[f'{col}_len_chars'] = df[col].apply(lambda x: len(x))\n",
    "\n",
    "    return df\n",
    "\n",
    "def subtokenization_indicator(description, tokenizer):\n",
    "    words = description.lower().split()\n",
    "    tokens = tokenizer.tokenize(description)\n",
    "    return len(tokens)/len(words)"
   ]
  },
  {
   "cell_type": "code",
   "execution_count": 10,
   "metadata": {},
   "outputs": [
    {
     "data": {
      "text/html": [
       "<div>\n",
       "<style scoped>\n",
       "    .dataframe tbody tr th:only-of-type {\n",
       "        vertical-align: middle;\n",
       "    }\n",
       "\n",
       "    .dataframe tbody tr th {\n",
       "        vertical-align: top;\n",
       "    }\n",
       "\n",
       "    .dataframe thead th {\n",
       "        text-align: right;\n",
       "    }\n",
       "</style>\n",
       "<table border=\"1\" class=\"dataframe\">\n",
       "  <thead>\n",
       "    <tr style=\"text-align: right;\">\n",
       "      <th></th>\n",
       "      <th>HS06</th>\n",
       "      <th>GOODS_DESCRIPTION</th>\n",
       "      <th>HS04</th>\n",
       "      <th>HS02</th>\n",
       "      <th>full_eng</th>\n",
       "    </tr>\n",
       "  </thead>\n",
       "  <tbody>\n",
       "    <tr>\n",
       "      <th>0</th>\n",
       "      <td>271019</td>\n",
       "      <td>BRAKE FLUID DOT 4 50X200ML</td>\n",
       "      <td>2710</td>\n",
       "      <td>27</td>\n",
       "      <td>Petroleum oils and oils obtained from bitumino...</td>\n",
       "    </tr>\n",
       "    <tr>\n",
       "      <th>1</th>\n",
       "      <td>847710</td>\n",
       "      <td>PLASTIC INJECTION MOULD MODEL 21A 110G DSM1010...</td>\n",
       "      <td>8477</td>\n",
       "      <td>84</td>\n",
       "      <td>Machinery for working rubber or plastics or fo...</td>\n",
       "    </tr>\n",
       "    <tr>\n",
       "      <th>2</th>\n",
       "      <td>844399</td>\n",
       "      <td>LCD ASSEMBLY</td>\n",
       "      <td>8443</td>\n",
       "      <td>84</td>\n",
       "      <td>Printing machinery used for printing by means ...</td>\n",
       "    </tr>\n",
       "    <tr>\n",
       "      <th>3</th>\n",
       "      <td>848280</td>\n",
       "      <td>BEARING 22238 KCAW33C3 BRAND MCB</td>\n",
       "      <td>8482</td>\n",
       "      <td>84</td>\n",
       "      <td>Ball or roller bearings. &amp;&amp; - Other, including...</td>\n",
       "    </tr>\n",
       "    <tr>\n",
       "      <th>4</th>\n",
       "      <td>630900</td>\n",
       "      <td>USED HANDBAGS AND WALLETS</td>\n",
       "      <td>6309</td>\n",
       "      <td>63</td>\n",
       "      <td>NaN</td>\n",
       "    </tr>\n",
       "  </tbody>\n",
       "</table>\n",
       "</div>"
      ],
      "text/plain": [
       "     HS06                                  GOODS_DESCRIPTION  HS04 HS02  \\\n",
       "0  271019                         BRAKE FLUID DOT 4 50X200ML  2710   27   \n",
       "1  847710  PLASTIC INJECTION MOULD MODEL 21A 110G DSM1010...  8477   84   \n",
       "2  844399                                       LCD ASSEMBLY  8443   84   \n",
       "3  848280                   BEARING 22238 KCAW33C3 BRAND MCB  8482   84   \n",
       "4  630900                          USED HANDBAGS AND WALLETS  6309   63   \n",
       "\n",
       "                                            full_eng  \n",
       "0  Petroleum oils and oils obtained from bitumino...  \n",
       "1  Machinery for working rubber or plastics or fo...  \n",
       "2  Printing machinery used for printing by means ...  \n",
       "3  Ball or roller bearings. && - Other, including...  \n",
       "4                                                NaN  "
      ]
     },
     "execution_count": 10,
     "metadata": {},
     "output_type": "execute_result"
    }
   ],
   "source": [
    "df.head()"
   ]
  },
  {
   "cell_type": "markdown",
   "metadata": {},
   "source": [
    "### DistilBERT model training"
   ]
  },
  {
   "cell_type": "code",
   "execution_count": 11,
   "metadata": {},
   "outputs": [],
   "source": [
    "import torch\n",
    "import torch.nn as nn\n",
    "import torch.nn.functional as F\n",
    "from torch.utils.data import Dataset, DataLoader\n",
    "from transformers import DistilBertTokenizerFast, DistilBertModel"
   ]
  },
  {
   "cell_type": "markdown",
   "metadata": {},
   "source": [
    "Sampling function"
   ]
  },
  {
   "cell_type": "code",
   "execution_count": 12,
   "metadata": {},
   "outputs": [],
   "source": [
    "def bootstrap_sampling(df, test_fraction=0.1):\n",
    "    # Determine the number of test samples\n",
    "    n_test = int(len(df) * test_fraction)\n",
    "    # Perform bootstrap sampling for the test set\n",
    "    test_set = df.sample(n=n_test, replace=True)\n",
    "    # Remove the test samples from the original dataframe to create the training set\n",
    "    train_set = df.drop(test_set.index)\n",
    "    \n",
    "    return train_set, test_set"
   ]
  },
  {
   "cell_type": "markdown",
   "metadata": {},
   "source": [
    "Dataset & DataLoader preparation"
   ]
  },
  {
   "cell_type": "code",
   "execution_count": 13,
   "metadata": {},
   "outputs": [],
   "source": [
    "# Sampling for testing the pipeline\n",
    "# df = df.sample(frac=0.01, random_state=42)"
   ]
  },
  {
   "cell_type": "markdown",
   "metadata": {},
   "source": [
    "Pre-tokenizacion"
   ]
  },
  {
   "cell_type": "code",
   "execution_count": 14,
   "metadata": {},
   "outputs": [],
   "source": [
    "class TokenizedDataset(Dataset):\n",
    "    def __init__(self, encodings, labels):\n",
    "        self.encodings = encodings\n",
    "        self.labels = labels\n",
    "\n",
    "    def __len__(self):\n",
    "        return len(self.labels)\n",
    "\n",
    "    def __getitem__(self, idx):\n",
    "        return {\n",
    "            'input_ids': self.encodings['input_ids'][idx],\n",
    "            'attention_mask': self.encodings['attention_mask'][idx],\n",
    "            'label': self.labels[idx]\n",
    "        }"
   ]
  },
  {
   "cell_type": "code",
   "execution_count": 15,
   "metadata": {},
   "outputs": [],
   "source": [
    "# Load the tokenizer\n",
    "tokenizer = DistilBertTokenizerFast.from_pretrained(\"distilbert-base-uncased\")\n",
    "\n",
    "# Split the data into train and validation sets\n",
    "train_df, val_df = bootstrap_sampling(df, test_fraction=0.1)\n",
    "\n",
    "# Create label mappings\n",
    "unique_labels = df['HS04'].unique()\n",
    "label2id = {str(label): idx for idx, label in enumerate(unique_labels)}\n",
    "id2label = {idx: str(label) for idx, label in enumerate(unique_labels)}\n",
    "\n",
    "max_length = 300\n",
    "\n",
    "# Tokenizing training data\n",
    "train_encodings = tokenizer(\n",
    "    list(train_df['GOODS_DESCRIPTION']), \n",
    "    truncation=True,\n",
    "    padding='max_length',\n",
    "    max_length=max_length,\n",
    "    return_tensors='pt'\n",
    ")\n",
    "train_labels = torch.tensor([label2id[str(lbl)] for lbl in train_df['HS04']])\n",
    "\n",
    "train_dataset = TokenizedDataset(train_encodings, train_labels)\n",
    "train_loader = DataLoader(train_dataset, batch_size=32, shuffle=True, num_workers=0)\n",
    "\n",
    "# Tokenizing val data\n",
    "val_encodings = tokenizer(\n",
    "    list(val_df['GOODS_DESCRIPTION']), \n",
    "    truncation=True,\n",
    "    padding='max_length',\n",
    "    max_length=max_length,\n",
    "    return_tensors='pt'\n",
    ")\n",
    "val_labels = torch.tensor([label2id[str(lbl)] for lbl in val_df['HS04']])\n",
    "\n",
    "val_dataset = TokenizedDataset(val_encodings, val_labels)\n",
    "val_loader = DataLoader(val_dataset, batch_size=32, shuffle=True, num_workers=0)\n"
   ]
  },
  {
   "cell_type": "code",
   "execution_count": 21,
   "metadata": {},
   "outputs": [],
   "source": [
    "# labels\n",
    "labels_dict = {\n",
    "    'label2id': label2id,\n",
    "    'id2label': id2label\n",
    "}\n",
    "\n",
    "# Save labels dictionary\n",
    "with open('models/labels_dict.json', 'w') as f:\n",
    "    json.dump(labels_dict, f, indent=4)"
   ]
  },
  {
   "cell_type": "markdown",
   "metadata": {},
   "source": [
    "### Transfer learning\n",
    "\n",
    "Model definition\n",
    "\n",
    "Complexity adaptable to n_classes"
   ]
  },
  {
   "cell_type": "code",
   "execution_count": 16,
   "metadata": {},
   "outputs": [],
   "source": [
    "# Define the custom model\n",
    "class HSClassifier(nn.Module):\n",
    "    def __init__(self, n_classes, fine_tune=False):\n",
    "        super(HSClassifier, self).__init__()\n",
    "        self.distilbert = DistilBertModel.from_pretrained(\"distilbert-base-uncased\")\n",
    "        \n",
    "        # Freeze the DistilBERT layers\n",
    "        for param in self.distilbert.parameters():\n",
    "            param.requires_grad = fine_tune # Whether to fine-tune the transformer model\n",
    "        \n",
    "        self.classifier = nn.Sequential(\n",
    "            nn.Linear(self.distilbert.config.hidden_size, 1024),\n",
    "            nn.ReLU(),\n",
    "            nn.BatchNorm1d(1024), # As our problem is unbalanced, we use batch normalization to stabilize the training\n",
    "            nn.Dropout(0.3),\n",
    "            nn.Linear(1024, n_classes)\n",
    "        )\n",
    "    \n",
    "    def forward(self, input_ids, attention_mask):\n",
    "        outputs = self.distilbert(input_ids=input_ids, attention_mask=attention_mask)\n",
    "        hidden_state = outputs.last_hidden_state[:, 0, :]  # Take <CLS> token representation\n",
    "        logits = self.classifier(hidden_state)\n",
    "        return logits"
   ]
  },
  {
   "cell_type": "markdown",
   "metadata": {},
   "source": [
    "Training"
   ]
  },
  {
   "cell_type": "code",
   "execution_count": 17,
   "metadata": {},
   "outputs": [],
   "source": [
    "from tqdm.auto import tqdm\n",
    "\n",
    "# Accuracy functions\n",
    "def accuracy(outputs, labels):\n",
    "    _, preds = torch.max(outputs, dim=1)\n",
    "    return torch.sum(preds == labels).item()\n",
    "\n",
    "def top5_accuracy(outputs, labels):\n",
    "    top5 = torch.topk(outputs, 5, dim=1).indices\n",
    "    return sum([labels[i] in top5[i] for i in range(labels.size(0))])\n",
    "\n",
    "def train_epoch(model, data_loader, criterion, optimizer, device):\n",
    "    print(\"Model is training on:\", next(model.parameters()).device)\n",
    "    model.train()\n",
    "\n",
    "    losses = []\n",
    "    correct = 0\n",
    "    correct_top5 = 0\n",
    "\n",
    "    # wrap your DataLoader in a tqdm iterator\n",
    "    loop = tqdm(data_loader, desc=\"Training\", leave=False)\n",
    "    for batch in loop:\n",
    "        input_ids      = batch['input_ids'].to(device)\n",
    "        attention_mask = batch['attention_mask'].to(device)\n",
    "        labels         = batch['label'].to(device)\n",
    "\n",
    "        outputs = model(input_ids=input_ids, attention_mask=attention_mask)\n",
    "        loss    = criterion(outputs, labels)\n",
    "\n",
    "        correct      += accuracy(outputs, labels)\n",
    "        correct_top5 += top5_accuracy(outputs, labels)\n",
    "        losses.append(loss.item())\n",
    "\n",
    "        loss.backward()\n",
    "        optimizer.step()\n",
    "        optimizer.zero_grad()\n",
    "\n",
    "        # update the tqdm bar with current metrics\n",
    "        loop.set_postfix(\n",
    "            loss=f\"{loss.item():.4f}\",\n",
    "            acc=f\"{correct/len(data_loader.dataset):.4f}\",\n",
    "            top5=f\"{correct_top5/len(data_loader.dataset):.4f}\"\n",
    "        )\n",
    "\n",
    "    # make sure you end the line so console prompt isn't on the last bar\n",
    "    print()\n",
    "\n",
    "    return (\n",
    "        correct      / len(data_loader.dataset),\n",
    "        correct_top5 / len(data_loader.dataset),\n",
    "        sum(losses)  / len(losses)\n",
    "    )\n",
    "\n",
    "def eval_model(model, data_loader, criterion, device):\n",
    "    # print(\"Model is eval on:\", next(model.parameters()).device)\n",
    "    model = model.eval()\n",
    "    losses = []\n",
    "    correct = 0\n",
    "    correct_top5 = 0\n",
    "    \n",
    "    with torch.no_grad():\n",
    "        for batch in data_loader:\n",
    "            input_ids = batch['input_ids'].to(device)\n",
    "            attention_mask = batch['attention_mask'].to(device)\n",
    "            labels = batch['label'].to(device)\n",
    "            \n",
    "            outputs = model(input_ids=input_ids, attention_mask=attention_mask)\n",
    "            loss = criterion(outputs, labels)\n",
    "\n",
    "            correct += accuracy(outputs, labels)\n",
    "            correct_top5 += top5_accuracy(outputs, labels)\n",
    "            \n",
    "            losses.append(loss.item())\n",
    "    \n",
    "    # print(\"Input_ids device:\", input_ids.device)\n",
    "    # print(\"Labels device:\", labels.device)\n",
    "    # print(\"outputs device:\", outputs.device)\n",
    "    \n",
    "    return (correct / len(data_loader.dataset), \n",
    "            correct_top5 / len(data_loader.dataset),\n",
    "              np.mean(losses))"
   ]
  },
  {
   "cell_type": "markdown",
   "metadata": {},
   "source": [
    "Transfer learning, without fine-tuning"
   ]
  },
  {
   "cell_type": "code",
   "execution_count": 18,
   "metadata": {},
   "outputs": [
    {
     "name": "stdout",
     "output_type": "stream",
     "text": [
      "True\n",
      "0\n",
      "NVIDIA GeForce RTX 3060 Laptop GPU\n"
     ]
    }
   ],
   "source": [
    "print(torch.cuda.is_available())\n",
    "print(torch.cuda.current_device())\n",
    "print(torch.cuda.get_device_name(0))"
   ]
  },
  {
   "cell_type": "code",
   "execution_count": 19,
   "metadata": {},
   "outputs": [
    {
     "name": "stdout",
     "output_type": "stream",
     "text": [
      "Training on cuda\n",
      "Epoch 1/10\n",
      "----------\n",
      "Model is training on: cuda:0\n"
     ]
    },
    {
     "data": {
      "application/vnd.jupyter.widget-view+json": {
       "model_id": "a85e58e8ef8c43279e6223984cf56b00",
       "version_major": 2,
       "version_minor": 0
      },
      "text/plain": [
       "Training:   0%|          | 0/7572 [00:00<?, ?it/s]"
      ]
     },
     "metadata": {},
     "output_type": "display_data"
    },
    {
     "name": "stdout",
     "output_type": "stream",
     "text": [
      "\n",
      "Train loss 4.866914329614453 accuracy 0.20408424371742118 top5_accuracy 0.3615727805131719\n",
      "Validation loss 3.593030991662503 accuracy 0.32059899917843004 top5_accuracy 0.5201658077526328\n",
      "Epoch 1 completed in 24.29 minutes.\n",
      "\n",
      "Epoch 2/10\n",
      "----------\n",
      "Model is training on: cuda:0\n"
     ]
    },
    {
     "data": {
      "application/vnd.jupyter.widget-view+json": {
       "model_id": "0460b5a6b9614f74a6c6895e03a121f1",
       "version_major": 2,
       "version_minor": 0
      },
      "text/plain": [
       "Training:   0%|          | 0/7572 [00:00<?, ?it/s]"
      ]
     },
     "metadata": {},
     "output_type": "display_data"
    },
    {
     "name": "stdout",
     "output_type": "stream",
     "text": [
      "\n",
      "Train loss 3.5490285057399364 accuracy 0.3251587927213296 top5_accuracy 0.5297176605570849\n",
      "Validation loss 3.094296746071664 accuracy 0.3903951004555979 top5_accuracy 0.6028082754499963\n",
      "Epoch 2 completed in 24.21 minutes.\n",
      "\n",
      "Epoch 3/10\n",
      "----------\n",
      "Model is training on: cuda:0\n"
     ]
    },
    {
     "data": {
      "application/vnd.jupyter.widget-view+json": {
       "model_id": "d758e08af7044dc29b4fb84088a45771",
       "version_major": 2,
       "version_minor": 0
      },
      "text/plain": [
       "Training:   0%|          | 0/7572 [00:00<?, ?it/s]"
      ]
     },
     "metadata": {},
     "output_type": "display_data"
    },
    {
     "name": "stdout",
     "output_type": "stream",
     "text": [
      "\n",
      "Train loss 3.2086219204933126 accuracy 0.3710363727161294 top5_accuracy 0.5845553184727834\n",
      "Validation loss 2.868448518937634 accuracy 0.4253865113152588 top5_accuracy 0.6401150197923668\n",
      "Epoch 3 completed in 24.32 minutes.\n",
      "\n",
      "Epoch 4/10\n",
      "----------\n",
      "Model is training on: cuda:0\n"
     ]
    },
    {
     "data": {
      "application/vnd.jupyter.widget-view+json": {
       "model_id": "5b7eb0e6f2a245cb98ebe22dc8618e61",
       "version_major": 2,
       "version_minor": 0
      },
      "text/plain": [
       "Training:   0%|          | 0/7572 [00:00<?, ?it/s]"
      ]
     },
     "metadata": {},
     "output_type": "display_data"
    },
    {
     "name": "stdout",
     "output_type": "stream",
     "text": [
      "\n",
      "Train loss 3.031308022964838 accuracy 0.3961171619954023 top5_accuracy 0.6134042105350046\n",
      "Validation loss 2.7380926489402744 accuracy 0.4465232653670924 top5_accuracy 0.6624094405855553\n",
      "Epoch 4 completed in 24.35 minutes.\n",
      "\n",
      "Epoch 5/10\n",
      "----------\n",
      "Model is training on: cuda:0\n"
     ]
    },
    {
     "data": {
      "application/vnd.jupyter.widget-view+json": {
       "model_id": "076c1ddb21bb4a019294d8bf18003fe4",
       "version_major": 2,
       "version_minor": 0
      },
      "text/plain": [
       "Training:   0%|          | 0/7572 [00:00<?, ?it/s]"
      ]
     },
     "metadata": {},
     "output_type": "display_data"
    },
    {
     "name": "stdout",
     "output_type": "stream",
     "text": [
      "\n",
      "Train loss 2.9111689131252363 accuracy 0.4137112717037355 top5_accuracy 0.6338914637820526\n",
      "Validation loss 2.6528052187022912 accuracy 0.46101277167824334 top5_accuracy 0.6766375382776907\n",
      "Epoch 5 completed in 24.29 minutes.\n",
      "\n",
      "Epoch 6/10\n",
      "----------\n",
      "Model is training on: cuda:0\n"
     ]
    },
    {
     "data": {
      "application/vnd.jupyter.widget-view+json": {
       "model_id": "855b97347e9c47879b5367593a4e2913",
       "version_major": 2,
       "version_minor": 0
      },
      "text/plain": [
       "Training:   0%|          | 0/7572 [00:00<?, ?it/s]"
      ]
     },
     "metadata": {},
     "output_type": "display_data"
    },
    {
     "name": "stdout",
     "output_type": "stream",
     "text": [
      "\n",
      "Train loss 2.8276222285869195 accuracy 0.42625785709274155 top5_accuracy 0.6462110550275075\n",
      "Validation loss 2.5896337442500617 accuracy 0.4697139442826201 top5_accuracy 0.6849652699977593\n",
      "Epoch 6 completed in 24.28 minutes.\n",
      "\n",
      "Epoch 7/10\n",
      "----------\n",
      "Model is training on: cuda:0\n"
     ]
    },
    {
     "data": {
      "application/vnd.jupyter.widget-view+json": {
       "model_id": "e39c9d8e761c46628e26ca9520254e90",
       "version_major": 2,
       "version_minor": 0
      },
      "text/plain": [
       "Training:   0%|          | 0/7572 [00:00<?, ?it/s]"
      ]
     },
     "metadata": {},
     "output_type": "display_data"
    },
    {
     "name": "stdout",
     "output_type": "stream",
     "text": [
      "\n",
      "Train loss 2.7631752310734985 accuracy 0.4358287556181051 top5_accuracy 0.6564423001522924\n",
      "Validation loss 2.5387776279677343 accuracy 0.4806184181044141 top5_accuracy 0.6946000448129062\n",
      "Epoch 7 completed in 24.34 minutes.\n",
      "\n",
      "Epoch 8/10\n",
      "----------\n",
      "Model is training on: cuda:0\n"
     ]
    },
    {
     "data": {
      "application/vnd.jupyter.widget-view+json": {
       "model_id": "bba1e889016544549950e95393eedf53",
       "version_major": 2,
       "version_minor": 0
      },
      "text/plain": [
       "Training:   0%|          | 0/7572 [00:00<?, ?it/s]"
      ]
     },
     "metadata": {},
     "output_type": "display_data"
    },
    {
     "name": "stdout",
     "output_type": "stream",
     "text": [
      "\n",
      "Train loss 2.7107986490120664 accuracy 0.44305955088176907 top5_accuracy 0.665035060277263\n",
      "Validation loss 2.496985107767112 accuracy 0.4850250205392486 top5_accuracy 0.7024049592949436\n",
      "Epoch 8 completed in 24.34 minutes.\n",
      "\n",
      "Epoch 9/10\n",
      "----------\n",
      "Model is training on: cuda:0\n"
     ]
    },
    {
     "data": {
      "application/vnd.jupyter.widget-view+json": {
       "model_id": "07945573174645298d2c80ebf4487e3f",
       "version_major": 2,
       "version_minor": 0
      },
      "text/plain": [
       "Training:   0%|          | 0/7572 [00:00<?, ?it/s]"
      ]
     },
     "metadata": {},
     "output_type": "display_data"
    },
    {
     "name": "stdout",
     "output_type": "stream",
     "text": [
      "\n",
      "Train loss 2.667948197370727 accuracy 0.4503687623041144 top5_accuracy 0.6708213473546928\n",
      "Validation loss 2.4644776743657557 accuracy 0.49253118231383974 top5_accuracy 0.706848905818209\n",
      "Epoch 9 completed in 24.29 minutes.\n",
      "\n",
      "Epoch 10/10\n",
      "----------\n",
      "Model is training on: cuda:0\n"
     ]
    },
    {
     "data": {
      "application/vnd.jupyter.widget-view+json": {
       "model_id": "e8179f4bc44d411e8c4873d679beb67f",
       "version_major": 2,
       "version_minor": 0
      },
      "text/plain": [
       "Training:   0%|          | 0/7572 [00:00<?, ?it/s]"
      ]
     },
     "metadata": {},
     "output_type": "display_data"
    },
    {
     "name": "stdout",
     "output_type": "stream",
     "text": [
      "\n",
      "Train loss 2.627417896074778 accuracy 0.4567906329834872 top5_accuracy 0.6780232524546321\n",
      "Validation loss 2.4384653471419178 accuracy 0.4967510643065203 top5_accuracy 0.7094256479199342\n",
      "Epoch 10 completed in 24.30 minutes.\n",
      "\n",
      "Training complete.\n"
     ]
    }
   ],
   "source": [
    "import time\n",
    "\n",
    "# Initialize the model, loss function, and optimizer\n",
    "model = HSClassifier(n_classes=len(label2id), fine_tune=False)\n",
    "model_name = 'distiltbert_hs04_simple_classifier_transfer'\n",
    "\n",
    "device = torch.device(\"cuda\" if torch.cuda.is_available() else \"cpu\")\n",
    "print(f'Training on {device}')\n",
    "model = model.to(device)\n",
    "\n",
    "criterion = nn.CrossEntropyLoss()\n",
    "optimizer = torch.optim.Adam(model.parameters(), lr=2e-5)\n",
    "\n",
    "# Initialize history dictionary\n",
    "history = {\n",
    "    'train_loss': [],\n",
    "    'train_acc': [],\n",
    "    'train_top5_acc': [],\n",
    "    'val_loss': [],\n",
    "    'val_acc': [],\n",
    "    'val_top5_acc': []\n",
    "}\n",
    "\n",
    "# Training the model\n",
    "num_epochs = 10\n",
    "for epoch in range(num_epochs):\n",
    "    print(f'Epoch {epoch + 1}/{num_epochs}')\n",
    "    print('-' * 10)\n",
    "\n",
    "    start_time = time.time()\n",
    "    \n",
    "    train_acc, train_top5_acc, train_loss = train_epoch(model, train_loader, criterion, optimizer, device)\n",
    "    print(f'Train loss {train_loss} accuracy {train_acc} top5_accuracy {train_top5_acc}')\n",
    "    \n",
    "    val_acc, val_top5_acc, val_loss = eval_model(model, val_loader, criterion, device)\n",
    "    print(f'Validation loss {val_loss} accuracy {val_acc} top5_accuracy {val_top5_acc}')\n",
    "\n",
    "    end_time = time.time()\n",
    "    epoch_time = end_time - start_time\n",
    "    print(f\"Epoch {epoch + 1} completed in {epoch_time/60:.2f} minutes.\\n\")    \n",
    "    \n",
    "    # Update history\n",
    "    history['train_loss'].append(train_loss)\n",
    "    history['train_acc'].append(train_acc)\n",
    "    history['train_top5_acc'].append(train_top5_acc)\n",
    "    history['val_loss'].append(val_loss)\n",
    "    history['val_acc'].append(val_acc)\n",
    "    history['val_top5_acc'].append(val_top5_acc)\n",
    "\n",
    "print(\"Training complete.\")"
   ]
  },
  {
   "cell_type": "code",
   "execution_count": 20,
   "metadata": {},
   "outputs": [],
   "source": [
    "# Function to plot metrics\n",
    "def plot_metric(history, metric, validation=True):\n",
    "    plt.plot(history['train_' + metric], label=f'Training {metric}')\n",
    "    if validation:\n",
    "        plt.plot(history['val_' + metric], label=f'Validation {metric}')\n",
    "        plt.title(f'Training and Validation {metric}')\n",
    "    else:\n",
    "        plt.title(f'Training {metric}')\n",
    "    plt.xlabel('Epochs')\n",
    "    plt.ylabel(metric)\n",
    "    if validation:\n",
    "        plt.legend()\n",
    "    plt.grid(True)\n",
    "    plt.show()"
   ]
  },
  {
   "cell_type": "code",
   "execution_count": 21,
   "metadata": {},
   "outputs": [],
   "source": [
    "history_with_transfer = history"
   ]
  },
  {
   "cell_type": "code",
   "execution_count": 22,
   "metadata": {},
   "outputs": [
    {
     "data": {
      "image/png": "[encoded data removed]",
      "text/plain": [
       "<Figure size 640x480 with 1 Axes>"
      ]
     },
     "metadata": {},
     "output_type": "display_data"
    },
    {
     "data": {
      "image/png": "[encoded data removed]",
      "text/plain": [
       "<Figure size 640x480 with 1 Axes>"
      ]
     },
     "metadata": {},
     "output_type": "display_data"
    },
    {
     "data": {
      "image/png": "[encoded data removed]",
      "text/plain": [
       "<Figure size 640x480 with 1 Axes>"
      ]
     },
     "metadata": {},
     "output_type": "display_data"
    }
   ],
   "source": [
    "plot_metric(history_with_transfer, 'loss' )\n",
    "plot_metric(history_with_transfer, 'acc' )\n",
    "plot_metric(history_with_transfer, 'top5_acc' )"
   ]
  },
  {
   "cell_type": "markdown",
   "metadata": {},
   "source": [
    "NOTE: took ~25 min/epoch (total 245 min), and it seems to need 3 or 4 more for convergence"
   ]
  },
  {
   "cell_type": "code",
   "execution_count": 23,
   "metadata": {},
   "outputs": [
    {
     "name": "stdout",
     "output_type": "stream",
     "text": [
      "Model saved to models/distiltbert_hs04_simple_classifier_transfer_10epochs_13062025_114438.pth\n"
     ]
    }
   ],
   "source": [
    "from datetime import datetime\n",
    "\n",
    "time_now = datetime.now().strftime('%d%m%Y_%H%M%S')\n",
    "\n",
    "# Save the trained model\n",
    "model_name = 'distiltbert_hs04_simple_classifier_transfer'\n",
    "model_save_path = f'models/{model_name}_{num_epochs}epochs_{time_now}.pth'\n",
    "torch.save(model.state_dict(), model_save_path)\n",
    "print(f\"Model saved to {model_save_path}\")"
   ]
  },
  {
   "cell_type": "markdown",
   "metadata": {},
   "source": [
    "Loading model for analysis"
   ]
  },
  {
   "cell_type": "code",
   "execution_count": 24,
   "metadata": {},
   "outputs": [
    {
     "name": "stderr",
     "output_type": "stream",
     "text": [
      "C:\\Users\\santt\\AppData\\Local\\Temp\\ipykernel_21620\\4236870244.py:7: FutureWarning: You are using `torch.load` with `weights_only=False` (the current default value), which uses the default pickle module implicitly. It is possible to construct malicious pickle data which will execute arbitrary code during unpickling (See https://github.com/pytorch/pytorch/blob/main/SECURITY.md#untrusted-models for more details). In a future release, the default value for `weights_only` will be flipped to `True`. This limits the functions that could be executed during unpickling. Arbitrary objects will no longer be allowed to be loaded via this mode unless they are explicitly allowlisted by the user via `torch.serialization.add_safe_globals`. We recommend you start setting `weights_only=True` for any use case where you don't have full control of the loaded file. Please open an issue on GitHub for any issues related to this experimental feature.\n",
      "  model_transfer.load_state_dict(torch.load(model_save_path))\n"
     ]
    },
    {
     "data": {
      "text/plain": [
       "HSClassifier(\n",
       "  (distilbert): DistilBertModel(\n",
       "    (embeddings): Embeddings(\n",
       "      (word_embeddings): Embedding(30522, 768, padding_idx=0)\n",
       "      (position_embeddings): Embedding(512, 768)\n",
       "      (LayerNorm): LayerNorm((768,), eps=1e-12, elementwise_affine=True)\n",
       "      (dropout): Dropout(p=0.1, inplace=False)\n",
       "    )\n",
       "    (transformer): Transformer(\n",
       "      (layer): ModuleList(\n",
       "        (0-5): 6 x TransformerBlock(\n",
       "          (attention): DistilBertSdpaAttention(\n",
       "            (dropout): Dropout(p=0.1, inplace=False)\n",
       "            (q_lin): Linear(in_features=768, out_features=768, bias=True)\n",
       "            (k_lin): Linear(in_features=768, out_features=768, bias=True)\n",
       "            (v_lin): Linear(in_features=768, out_features=768, bias=True)\n",
       "            (out_lin): Linear(in_features=768, out_features=768, bias=True)\n",
       "          )\n",
       "          (sa_layer_norm): LayerNorm((768,), eps=1e-12, elementwise_affine=True)\n",
       "          (ffn): FFN(\n",
       "            (dropout): Dropout(p=0.1, inplace=False)\n",
       "            (lin1): Linear(in_features=768, out_features=3072, bias=True)\n",
       "            (lin2): Linear(in_features=3072, out_features=768, bias=True)\n",
       "            (activation): GELUActivation()\n",
       "          )\n",
       "          (output_layer_norm): LayerNorm((768,), eps=1e-12, elementwise_affine=True)\n",
       "        )\n",
       "      )\n",
       "    )\n",
       "  )\n",
       "  (classifier): Sequential(\n",
       "    (0): Linear(in_features=768, out_features=1024, bias=True)\n",
       "    (1): ReLU()\n",
       "    (2): BatchNorm1d(1024, eps=1e-05, momentum=0.1, affine=True, track_running_stats=True)\n",
       "    (3): Dropout(p=0.3, inplace=False)\n",
       "    (4): Linear(in_features=1024, out_features=1133, bias=True)\n",
       "  )\n",
       ")"
      ]
     },
     "execution_count": 24,
     "metadata": {},
     "output_type": "execute_result"
    }
   ],
   "source": [
    "model_name = 'distiltbert_hs04_simple_classifier_transfer_8epochs_12062025_191051.pth'\n",
    "\n",
    "model_save_path = os.path.join('models', model_name)\n",
    "\n",
    "model_transfer = HSClassifier(n_classes=len(label2id), fine_tune=False)\n",
    "\n",
    "model_transfer.load_state_dict(torch.load(model_save_path))\n",
    "\n",
    "model_transfer.eval() # to set the model for inference"
   ]
  },
  {
   "cell_type": "markdown",
   "metadata": {},
   "source": [
    "HSDataset definition & Evaluation function"
   ]
  },
  {
   "cell_type": "code",
   "execution_count": 25,
   "metadata": {},
   "outputs": [],
   "source": [
    "class HSDataset(Dataset):\n",
    "    def __init__(self, dataframe, tokenizer, max_length):\n",
    "        self.descriptions = dataframe['GOODS_DESCRIPTION'].tolist()\n",
    "        self.labels = dataframe['HS04'].tolist()\n",
    "        self.tokenizer = tokenizer\n",
    "        self.max_length = max_length\n",
    "\n",
    "    def __len__(self):\n",
    "        return len(self.descriptions)\n",
    "\n",
    "    def __getitem__(self, idx):\n",
    "        encoding = self.tokenizer(\n",
    "            self.descriptions[idx],\n",
    "            add_special_tokens=True,\n",
    "            max_length=self.max_length,\n",
    "            padding='max_length',\n",
    "            truncation=True,\n",
    "            return_token_type_ids=False,\n",
    "            return_attention_mask=True,\n",
    "            return_tensors='pt'\n",
    "        )\n",
    "        item = {\n",
    "            'input_ids': encoding['input_ids'].squeeze(0),\n",
    "            'attention_mask': encoding['attention_mask'].squeeze(0),\n",
    "            'label': self.labels[idx],\n",
    "            'description': self.descriptions[idx]\n",
    "        }\n",
    "        return item\n",
    "\n",
    "\n",
    "def predict_and_evaluate(\n",
    "    model, tokenizer, unseen_sample, id2label,\n",
    "    max_length=128, device='cpu', batch_size=32\n",
    "):\n",
    "    \"\"\"\n",
    "    Predicts the top 5 classes and their probabilities for an unseen sample using a given model and tokenizer.\n",
    "    Calculates the accuracy for top 1 to top 5 predictions.\n",
    "    Uses a DataLoader for GPU memory efficiency.\n",
    "    \"\"\"\n",
    "    # Dataset & DataLoader\n",
    "    dataset = HSDataset(unseen_sample, tokenizer, max_length)\n",
    "    dataloader = DataLoader(dataset, batch_size=batch_size, shuffle=False)\n",
    "\n",
    "    model.to(device)\n",
    "    model.eval()\n",
    "\n",
    "    all_top5_predicted_labels = []\n",
    "    all_top5_predicted_probs = []\n",
    "    all_true_labels = []\n",
    "    all_descriptions = []\n",
    "\n",
    "    with torch.no_grad():\n",
    "        for batch in dataloader:\n",
    "            input_ids = batch['input_ids'].to(device)\n",
    "            attention_mask = batch['attention_mask'].to(device)\n",
    "\n",
    "            outputs = model(input_ids=input_ids, attention_mask=attention_mask)\n",
    "            probabilities = F.softmax(outputs, dim=1)\n",
    "            top5_probs, top5_preds = torch.topk(probabilities, 5, dim=1)\n",
    "\n",
    "            # Convert predictions and probabilities to lists\n",
    "            for i in range(top5_preds.size(0)):\n",
    "                pred_labels = [id2label[idx.item()] for idx in top5_preds[i]]\n",
    "                pred_probs = [prob.item() for prob in top5_probs[i]]\n",
    "                all_top5_predicted_labels.append(pred_labels)\n",
    "                all_top5_predicted_probs.append(pred_probs)\n",
    "            \n",
    "            all_true_labels.extend(batch['label'])\n",
    "            all_descriptions.extend(batch['description'])\n",
    "\n",
    "    # Accuracy calculations\n",
    "    accuracy_top1 = sum([\n",
    "        all_true_labels[i] == all_top5_predicted_labels[i][0]\n",
    "        for i in range(len(all_true_labels))\n",
    "    ]) / len(all_true_labels)\n",
    "    accuracy_top2 = sum([\n",
    "        all_true_labels[i] in all_top5_predicted_labels[i][:2]\n",
    "        for i in range(len(all_true_labels))\n",
    "    ]) / len(all_true_labels)\n",
    "    accuracy_top3 = sum([\n",
    "        all_true_labels[i] in all_top5_predicted_labels[i][:3]\n",
    "        for i in range(len(all_true_labels))\n",
    "    ]) / len(all_true_labels)\n",
    "    accuracy_top4 = sum([\n",
    "        all_true_labels[i] in all_top5_predicted_labels[i][:4]\n",
    "        for i in range(len(all_true_labels))\n",
    "    ]) / len(all_true_labels)\n",
    "    accuracy_top5 = sum([\n",
    "        all_true_labels[i] in all_top5_predicted_labels[i][:5]\n",
    "        for i in range(len(all_true_labels))\n",
    "    ]) / len(all_true_labels)\n",
    "\n",
    "    print(f\"Accuracy Top-1: {accuracy_top1*100:.2f} %\")\n",
    "    print(f\"Accuracy Top-2: {accuracy_top2*100:.2f} %\")\n",
    "    print(f\"Accuracy Top-3: {accuracy_top3*100:.2f} %\")\n",
    "    print(f\"Accuracy Top-4: {accuracy_top4*100:.2f} %\")\n",
    "    print(f\"Accuracy Top-5: {accuracy_top5*100:.2f} %\")\n",
    "\n",
    "\n",
    "    # Results DataFrame\n",
    "    results = pd.DataFrame({\n",
    "        'Description': all_descriptions,\n",
    "        'True Label': all_true_labels,\n",
    "        'Top1': [labels[0] for labels in all_top5_predicted_labels],\n",
    "        'Proba Top1': [probs[0] for probs in all_top5_predicted_probs],\n",
    "        'Top2': [labels[1] for labels in all_top5_predicted_labels],\n",
    "        'Proba Top2': [probs[1] for probs in all_top5_predicted_probs],\n",
    "        'Top3': [labels[2] for labels in all_top5_predicted_labels],\n",
    "        'Proba Top3': [probs[2] for probs in all_top5_predicted_probs],\n",
    "        'Top4': [labels[3] for labels in all_top5_predicted_labels],\n",
    "        'Proba Top4': [probs[3] for probs in all_top5_predicted_probs],\n",
    "        'Top5': [labels[4] for labels in all_top5_predicted_labels],\n",
    "        'Proba Top5': [probs[4] for probs in all_top5_predicted_probs],\n",
    "    })\n",
    "    results.set_index(unseen_sample.index, inplace=True)\n",
    "\n",
    "    return results\n"
   ]
  },
  {
   "cell_type": "markdown",
   "metadata": {},
   "source": [
    "Test with val_df"
   ]
  },
  {
   "cell_type": "code",
   "execution_count": 26,
   "metadata": {},
   "outputs": [],
   "source": [
    "torch.cuda.empty_cache()"
   ]
  },
  {
   "cell_type": "code",
   "execution_count": 27,
   "metadata": {},
   "outputs": [
    {
     "name": "stdout",
     "output_type": "stream",
     "text": [
      "Testing on cuda\n",
      "Accuracy Top-1: 50.53 %\n",
      "Accuracy Top-2: 60.74 %\n",
      "Accuracy Top-3: 66.07 %\n",
      "Accuracy Top-4: 69.35 %\n",
      "Accuracy Top-5: 72.15 %\n"
     ]
    }
   ],
   "source": [
    "device = torch.device(\"cuda\" if torch.cuda.is_available() else \"cpu\")\n",
    "print(f'Testing on {device}')\n",
    "\n",
    "results_transfer = predict_and_evaluate(model_transfer, tokenizer, val_df, id2label, max_length=max_length, device=device)"
   ]
  },
  {
   "cell_type": "code",
   "execution_count": 28,
   "metadata": {},
   "outputs": [
    {
     "data": {
      "text/html": [
       "<div>\n",
       "<style scoped>\n",
       "    .dataframe tbody tr th:only-of-type {\n",
       "        vertical-align: middle;\n",
       "    }\n",
       "\n",
       "    .dataframe tbody tr th {\n",
       "        vertical-align: top;\n",
       "    }\n",
       "\n",
       "    .dataframe thead th {\n",
       "        text-align: right;\n",
       "    }\n",
       "</style>\n",
       "<table border=\"1\" class=\"dataframe\">\n",
       "  <thead>\n",
       "    <tr style=\"text-align: right;\">\n",
       "      <th></th>\n",
       "      <th>Description</th>\n",
       "      <th>True Label</th>\n",
       "      <th>Top1</th>\n",
       "      <th>Proba Top1</th>\n",
       "      <th>Top2</th>\n",
       "      <th>Proba Top2</th>\n",
       "      <th>Top3</th>\n",
       "      <th>Proba Top3</th>\n",
       "      <th>Top4</th>\n",
       "      <th>Proba Top4</th>\n",
       "      <th>Top5</th>\n",
       "      <th>Proba Top5</th>\n",
       "    </tr>\n",
       "  </thead>\n",
       "  <tbody>\n",
       "    <tr>\n",
       "      <th>3914</th>\n",
       "      <td>BEVEL GEAR (43A0002)</td>\n",
       "      <td>8483</td>\n",
       "      <td>8483</td>\n",
       "      <td>0.544822</td>\n",
       "      <td>8708</td>\n",
       "      <td>0.192012</td>\n",
       "      <td>8431</td>\n",
       "      <td>0.071819</td>\n",
       "      <td>7318</td>\n",
       "      <td>0.013380</td>\n",
       "      <td>8409</td>\n",
       "      <td>0.012917</td>\n",
       "    </tr>\n",
       "    <tr>\n",
       "      <th>143735</th>\n",
       "      <td>NANO FACIAL STEAMER</td>\n",
       "      <td>8516</td>\n",
       "      <td>9018</td>\n",
       "      <td>0.052310</td>\n",
       "      <td>9503</td>\n",
       "      <td>0.043004</td>\n",
       "      <td>3926</td>\n",
       "      <td>0.020738</td>\n",
       "      <td>8536</td>\n",
       "      <td>0.020334</td>\n",
       "      <td>4016</td>\n",
       "      <td>0.019428</td>\n",
       "    </tr>\n",
       "    <tr>\n",
       "      <th>257095</th>\n",
       "      <td>DISINFECTION CABINET (KITCHEN UTENSIL)</td>\n",
       "      <td>9403</td>\n",
       "      <td>3924</td>\n",
       "      <td>0.263304</td>\n",
       "      <td>7323</td>\n",
       "      <td>0.185360</td>\n",
       "      <td>7013</td>\n",
       "      <td>0.062289</td>\n",
       "      <td>7615</td>\n",
       "      <td>0.055679</td>\n",
       "      <td>8516</td>\n",
       "      <td>0.045250</td>\n",
       "    </tr>\n",
       "    <tr>\n",
       "      <th>238825</th>\n",
       "      <td>USED TOYOTA WISH 2010</td>\n",
       "      <td>8703</td>\n",
       "      <td>8703</td>\n",
       "      <td>0.993154</td>\n",
       "      <td>8704</td>\n",
       "      <td>0.002988</td>\n",
       "      <td>8702</td>\n",
       "      <td>0.001797</td>\n",
       "      <td>8708</td>\n",
       "      <td>0.000462</td>\n",
       "      <td>8711</td>\n",
       "      <td>0.000376</td>\n",
       "    </tr>\n",
       "    <tr>\n",
       "      <th>91527</th>\n",
       "      <td>RECORDER</td>\n",
       "      <td>8519</td>\n",
       "      <td>8519</td>\n",
       "      <td>0.266704</td>\n",
       "      <td>8521</td>\n",
       "      <td>0.112859</td>\n",
       "      <td>8518</td>\n",
       "      <td>0.072839</td>\n",
       "      <td>8525</td>\n",
       "      <td>0.040814</td>\n",
       "      <td>8527</td>\n",
       "      <td>0.031203</td>\n",
       "    </tr>\n",
       "    <tr>\n",
       "      <th>...</th>\n",
       "      <td>...</td>\n",
       "      <td>...</td>\n",
       "      <td>...</td>\n",
       "      <td>...</td>\n",
       "      <td>...</td>\n",
       "      <td>...</td>\n",
       "      <td>...</td>\n",
       "      <td>...</td>\n",
       "      <td>...</td>\n",
       "      <td>...</td>\n",
       "      <td>...</td>\n",
       "      <td>...</td>\n",
       "    </tr>\n",
       "    <tr>\n",
       "      <th>52434</th>\n",
       "      <td>USED 2006 TOYOTA ALPHARD CHASSIS NO: ANH10-015...</td>\n",
       "      <td>8703</td>\n",
       "      <td>8703</td>\n",
       "      <td>0.990470</td>\n",
       "      <td>8704</td>\n",
       "      <td>0.008496</td>\n",
       "      <td>8702</td>\n",
       "      <td>0.000735</td>\n",
       "      <td>8701</td>\n",
       "      <td>0.000062</td>\n",
       "      <td>8429</td>\n",
       "      <td>0.000039</td>\n",
       "    </tr>\n",
       "    <tr>\n",
       "      <th>108622</th>\n",
       "      <td>CUTTING DISC,SIZE:230 X 3.2 X 22.23MM (For Met...</td>\n",
       "      <td>6804</td>\n",
       "      <td>6804</td>\n",
       "      <td>0.706328</td>\n",
       "      <td>8208</td>\n",
       "      <td>0.055425</td>\n",
       "      <td>8441</td>\n",
       "      <td>0.024155</td>\n",
       "      <td>3920</td>\n",
       "      <td>0.023623</td>\n",
       "      <td>8477</td>\n",
       "      <td>0.009250</td>\n",
       "    </tr>\n",
       "    <tr>\n",
       "      <th>243579</th>\n",
       "      <td>FACEBODY CREAM</td>\n",
       "      <td>3304</td>\n",
       "      <td>3304</td>\n",
       "      <td>0.593746</td>\n",
       "      <td>3305</td>\n",
       "      <td>0.071348</td>\n",
       "      <td>3405</td>\n",
       "      <td>0.047079</td>\n",
       "      <td>3401</td>\n",
       "      <td>0.046316</td>\n",
       "      <td>3402</td>\n",
       "      <td>0.021673</td>\n",
       "    </tr>\n",
       "    <tr>\n",
       "      <th>258750</th>\n",
       "      <td>FUEL COCK CG</td>\n",
       "      <td>8714</td>\n",
       "      <td>8714</td>\n",
       "      <td>0.108806</td>\n",
       "      <td>8409</td>\n",
       "      <td>0.075800</td>\n",
       "      <td>8413</td>\n",
       "      <td>0.058014</td>\n",
       "      <td>8708</td>\n",
       "      <td>0.056856</td>\n",
       "      <td>8421</td>\n",
       "      <td>0.043336</td>\n",
       "    </tr>\n",
       "    <tr>\n",
       "      <th>248718</th>\n",
       "      <td>EZ630 ENERGIZER</td>\n",
       "      <td>8506</td>\n",
       "      <td>8421</td>\n",
       "      <td>0.063767</td>\n",
       "      <td>8536</td>\n",
       "      <td>0.056495</td>\n",
       "      <td>9027</td>\n",
       "      <td>0.043426</td>\n",
       "      <td>9032</td>\n",
       "      <td>0.040330</td>\n",
       "      <td>3901</td>\n",
       "      <td>0.038562</td>\n",
       "    </tr>\n",
       "  </tbody>\n",
       "</table>\n",
       "<p>26778 rows × 12 columns</p>\n",
       "</div>"
      ],
      "text/plain": [
       "                                              Description True Label  Top1  \\\n",
       "3914                                 BEVEL GEAR (43A0002)       8483  8483   \n",
       "143735                                NANO FACIAL STEAMER       8516  9018   \n",
       "257095             DISINFECTION CABINET (KITCHEN UTENSIL)       9403  3924   \n",
       "238825                              USED TOYOTA WISH 2010       8703  8703   \n",
       "91527                                            RECORDER       8519  8519   \n",
       "...                                                   ...        ...   ...   \n",
       "52434   USED 2006 TOYOTA ALPHARD CHASSIS NO: ANH10-015...       8703  8703   \n",
       "108622  CUTTING DISC,SIZE:230 X 3.2 X 22.23MM (For Met...       6804  6804   \n",
       "243579                                     FACEBODY CREAM       3304  3304   \n",
       "258750                                       FUEL COCK CG       8714  8714   \n",
       "248718                                    EZ630 ENERGIZER       8506  8421   \n",
       "\n",
       "        Proba Top1  Top2  Proba Top2  Top3  Proba Top3  Top4  Proba Top4  \\\n",
       "3914      0.544822  8708    0.192012  8431    0.071819  7318    0.013380   \n",
       "143735    0.052310  9503    0.043004  3926    0.020738  8536    0.020334   \n",
       "257095    0.263304  7323    0.185360  7013    0.062289  7615    0.055679   \n",
       "238825    0.993154  8704    0.002988  8702    0.001797  8708    0.000462   \n",
       "91527     0.266704  8521    0.112859  8518    0.072839  8525    0.040814   \n",
       "...            ...   ...         ...   ...         ...   ...         ...   \n",
       "52434     0.990470  8704    0.008496  8702    0.000735  8701    0.000062   \n",
       "108622    0.706328  8208    0.055425  8441    0.024155  3920    0.023623   \n",
       "243579    0.593746  3305    0.071348  3405    0.047079  3401    0.046316   \n",
       "258750    0.108806  8409    0.075800  8413    0.058014  8708    0.056856   \n",
       "248718    0.063767  8536    0.056495  9027    0.043426  9032    0.040330   \n",
       "\n",
       "        Top5  Proba Top5  \n",
       "3914    8409    0.012917  \n",
       "143735  4016    0.019428  \n",
       "257095  8516    0.045250  \n",
       "238825  8711    0.000376  \n",
       "91527   8527    0.031203  \n",
       "...      ...         ...  \n",
       "52434   8429    0.000039  \n",
       "108622  8477    0.009250  \n",
       "243579  3402    0.021673  \n",
       "258750  8421    0.043336  \n",
       "248718  3901    0.038562  \n",
       "\n",
       "[26778 rows x 12 columns]"
      ]
     },
     "execution_count": 28,
     "metadata": {},
     "output_type": "execute_result"
    }
   ],
   "source": [
    "results_transfer"
   ]
  },
  {
   "cell_type": "code",
   "execution_count": 29,
   "metadata": {},
   "outputs": [
    {
     "data": {
      "text/html": [
       "<div>\n",
       "<style scoped>\n",
       "    .dataframe tbody tr th:only-of-type {\n",
       "        vertical-align: middle;\n",
       "    }\n",
       "\n",
       "    .dataframe tbody tr th {\n",
       "        vertical-align: top;\n",
       "    }\n",
       "\n",
       "    .dataframe thead th {\n",
       "        text-align: right;\n",
       "    }\n",
       "</style>\n",
       "<table border=\"1\" class=\"dataframe\">\n",
       "  <thead>\n",
       "    <tr style=\"text-align: right;\">\n",
       "      <th></th>\n",
       "      <th>Description</th>\n",
       "      <th>True Label</th>\n",
       "      <th>Top1</th>\n",
       "      <th>Proba Top1</th>\n",
       "      <th>Top2</th>\n",
       "      <th>Proba Top2</th>\n",
       "      <th>Top3</th>\n",
       "      <th>Proba Top3</th>\n",
       "      <th>Top4</th>\n",
       "      <th>Proba Top4</th>\n",
       "      <th>Top5</th>\n",
       "      <th>Proba Top5</th>\n",
       "    </tr>\n",
       "  </thead>\n",
       "  <tbody>\n",
       "    <tr>\n",
       "      <th>216648</th>\n",
       "      <td>NEW CKD MOTORCYCLE HUONIAO: MOD: GN125 ; CHS:L...</td>\n",
       "      <td>8711</td>\n",
       "      <td>8711</td>\n",
       "      <td>0.999956</td>\n",
       "      <td>8714</td>\n",
       "      <td>0.000011</td>\n",
       "      <td>8703</td>\n",
       "      <td>0.000011</td>\n",
       "      <td>4011</td>\n",
       "      <td>3.076671e-06</td>\n",
       "      <td>8712</td>\n",
       "      <td>2.813984e-06</td>\n",
       "    </tr>\n",
       "    <tr>\n",
       "      <th>137054</th>\n",
       "      <td>NEW CKD MOTORCYCLE HUONIAO: CHS:LJEPCJL03MA021...</td>\n",
       "      <td>8711</td>\n",
       "      <td>8711</td>\n",
       "      <td>0.999955</td>\n",
       "      <td>8703</td>\n",
       "      <td>0.000015</td>\n",
       "      <td>8714</td>\n",
       "      <td>0.000009</td>\n",
       "      <td>8712</td>\n",
       "      <td>6.041987e-06</td>\n",
       "      <td>4011</td>\n",
       "      <td>3.281818e-06</td>\n",
       "    </tr>\n",
       "    <tr>\n",
       "      <th>18312</th>\n",
       "      <td>315/80R22.5 M729 154M156L TL BRIDGESTONE TYRE</td>\n",
       "      <td>4011</td>\n",
       "      <td>4011</td>\n",
       "      <td>0.999954</td>\n",
       "      <td>4012</td>\n",
       "      <td>0.000040</td>\n",
       "      <td>4013</td>\n",
       "      <td>0.000003</td>\n",
       "      <td>4016</td>\n",
       "      <td>6.288894e-07</td>\n",
       "      <td>8708</td>\n",
       "      <td>3.435995e-07</td>\n",
       "    </tr>\n",
       "    <tr>\n",
       "      <th>194131</th>\n",
       "      <td>NEW CKD MOTORCYCLE HUONIAO: CHS:LJEPCJL09MA022...</td>\n",
       "      <td>8711</td>\n",
       "      <td>8711</td>\n",
       "      <td>0.999953</td>\n",
       "      <td>8703</td>\n",
       "      <td>0.000014</td>\n",
       "      <td>8714</td>\n",
       "      <td>0.000012</td>\n",
       "      <td>8712</td>\n",
       "      <td>6.138240e-06</td>\n",
       "      <td>4011</td>\n",
       "      <td>3.585154e-06</td>\n",
       "    </tr>\n",
       "    <tr>\n",
       "      <th>64969</th>\n",
       "      <td>NEW CKD MOTORCYCLE HUONIAO: CHS:LJEPCJL08MA021...</td>\n",
       "      <td>8711</td>\n",
       "      <td>8711</td>\n",
       "      <td>0.999952</td>\n",
       "      <td>8703</td>\n",
       "      <td>0.000015</td>\n",
       "      <td>8714</td>\n",
       "      <td>0.000010</td>\n",
       "      <td>8712</td>\n",
       "      <td>6.451803e-06</td>\n",
       "      <td>4011</td>\n",
       "      <td>3.346864e-06</td>\n",
       "    </tr>\n",
       "  </tbody>\n",
       "</table>\n",
       "</div>"
      ],
      "text/plain": [
       "                                              Description True Label  Top1  \\\n",
       "216648  NEW CKD MOTORCYCLE HUONIAO: MOD: GN125 ; CHS:L...       8711  8711   \n",
       "137054  NEW CKD MOTORCYCLE HUONIAO: CHS:LJEPCJL03MA021...       8711  8711   \n",
       "18312       315/80R22.5 M729 154M156L TL BRIDGESTONE TYRE       4011  4011   \n",
       "194131  NEW CKD MOTORCYCLE HUONIAO: CHS:LJEPCJL09MA022...       8711  8711   \n",
       "64969   NEW CKD MOTORCYCLE HUONIAO: CHS:LJEPCJL08MA021...       8711  8711   \n",
       "\n",
       "        Proba Top1  Top2  Proba Top2  Top3  Proba Top3  Top4    Proba Top4  \\\n",
       "216648    0.999956  8714    0.000011  8703    0.000011  4011  3.076671e-06   \n",
       "137054    0.999955  8703    0.000015  8714    0.000009  8712  6.041987e-06   \n",
       "18312     0.999954  4012    0.000040  4013    0.000003  4016  6.288894e-07   \n",
       "194131    0.999953  8703    0.000014  8714    0.000012  8712  6.138240e-06   \n",
       "64969     0.999952  8703    0.000015  8714    0.000010  8712  6.451803e-06   \n",
       "\n",
       "        Top5    Proba Top5  \n",
       "216648  8712  2.813984e-06  \n",
       "137054  4011  3.281818e-06  \n",
       "18312   8708  3.435995e-07  \n",
       "194131  4011  3.585154e-06  \n",
       "64969   4011  3.346864e-06  "
      ]
     },
     "execution_count": 29,
     "metadata": {},
     "output_type": "execute_result"
    }
   ],
   "source": [
    "results_transfer.sort_values(by='Proba Top1', ascending=False).head(5)"
   ]
  },
  {
   "cell_type": "code",
   "execution_count": 30,
   "metadata": {},
   "outputs": [
    {
     "data": {
      "text/html": [
       "<div>\n",
       "<style scoped>\n",
       "    .dataframe tbody tr th:only-of-type {\n",
       "        vertical-align: middle;\n",
       "    }\n",
       "\n",
       "    .dataframe tbody tr th {\n",
       "        vertical-align: top;\n",
       "    }\n",
       "\n",
       "    .dataframe thead th {\n",
       "        text-align: right;\n",
       "    }\n",
       "</style>\n",
       "<table border=\"1\" class=\"dataframe\">\n",
       "  <thead>\n",
       "    <tr style=\"text-align: right;\">\n",
       "      <th></th>\n",
       "      <th>Description</th>\n",
       "      <th>True Label</th>\n",
       "      <th>Top1</th>\n",
       "      <th>Proba Top1</th>\n",
       "      <th>Top2</th>\n",
       "      <th>Proba Top2</th>\n",
       "      <th>Top3</th>\n",
       "      <th>Proba Top3</th>\n",
       "      <th>Top4</th>\n",
       "      <th>Proba Top4</th>\n",
       "      <th>Top5</th>\n",
       "      <th>Proba Top5</th>\n",
       "    </tr>\n",
       "  </thead>\n",
       "  <tbody>\n",
       "    <tr>\n",
       "      <th>116730</th>\n",
       "      <td>VOTA</td>\n",
       "      <td>8448</td>\n",
       "      <td>8517</td>\n",
       "      <td>0.025446</td>\n",
       "      <td>3923</td>\n",
       "      <td>0.019474</td>\n",
       "      <td>3926</td>\n",
       "      <td>0.019168</td>\n",
       "      <td>2710</td>\n",
       "      <td>0.018774</td>\n",
       "      <td>8536</td>\n",
       "      <td>0.017493</td>\n",
       "    </tr>\n",
       "    <tr>\n",
       "      <th>260684</th>\n",
       "      <td>PALMOLIVE</td>\n",
       "      <td>3401</td>\n",
       "      <td>1902</td>\n",
       "      <td>0.024651</td>\n",
       "      <td>2103</td>\n",
       "      <td>0.024148</td>\n",
       "      <td>3924</td>\n",
       "      <td>0.019208</td>\n",
       "      <td>1905</td>\n",
       "      <td>0.018956</td>\n",
       "      <td>2202</td>\n",
       "      <td>0.014877</td>\n",
       "    </tr>\n",
       "    <tr>\n",
       "      <th>147342</th>\n",
       "      <td>BIDET</td>\n",
       "      <td>3922</td>\n",
       "      <td>7323</td>\n",
       "      <td>0.024425</td>\n",
       "      <td>3924</td>\n",
       "      <td>0.022723</td>\n",
       "      <td>8517</td>\n",
       "      <td>0.021058</td>\n",
       "      <td>3926</td>\n",
       "      <td>0.020405</td>\n",
       "      <td>3506</td>\n",
       "      <td>0.018620</td>\n",
       "    </tr>\n",
       "    <tr>\n",
       "      <th>228605</th>\n",
       "      <td>FREEHWEEL</td>\n",
       "      <td>8714</td>\n",
       "      <td>8714</td>\n",
       "      <td>0.022547</td>\n",
       "      <td>3402</td>\n",
       "      <td>0.022515</td>\n",
       "      <td>3808</td>\n",
       "      <td>0.020612</td>\n",
       "      <td>1704</td>\n",
       "      <td>0.018918</td>\n",
       "      <td>8518</td>\n",
       "      <td>0.016008</td>\n",
       "    </tr>\n",
       "    <tr>\n",
       "      <th>58769</th>\n",
       "      <td>MOTIFSIRON</td>\n",
       "      <td>5810</td>\n",
       "      <td>8536</td>\n",
       "      <td>0.021617</td>\n",
       "      <td>3808</td>\n",
       "      <td>0.019753</td>\n",
       "      <td>8205</td>\n",
       "      <td>0.019152</td>\n",
       "      <td>9403</td>\n",
       "      <td>0.018485</td>\n",
       "      <td>3926</td>\n",
       "      <td>0.016005</td>\n",
       "    </tr>\n",
       "  </tbody>\n",
       "</table>\n",
       "</div>"
      ],
      "text/plain": [
       "       Description True Label  Top1  Proba Top1  Top2  Proba Top2  Top3  \\\n",
       "116730        VOTA       8448  8517    0.025446  3923    0.019474  3926   \n",
       "260684   PALMOLIVE       3401  1902    0.024651  2103    0.024148  3924   \n",
       "147342       BIDET       3922  7323    0.024425  3924    0.022723  8517   \n",
       "228605   FREEHWEEL       8714  8714    0.022547  3402    0.022515  3808   \n",
       "58769   MOTIFSIRON       5810  8536    0.021617  3808    0.019753  8205   \n",
       "\n",
       "        Proba Top3  Top4  Proba Top4  Top5  Proba Top5  \n",
       "116730    0.019168  2710    0.018774  8536    0.017493  \n",
       "260684    0.019208  1905    0.018956  2202    0.014877  \n",
       "147342    0.021058  3926    0.020405  3506    0.018620  \n",
       "228605    0.020612  1704    0.018918  8518    0.016008  \n",
       "58769     0.019152  9403    0.018485  3926    0.016005  "
      ]
     },
     "execution_count": 30,
     "metadata": {},
     "output_type": "execute_result"
    }
   ],
   "source": [
    "results_transfer.sort_values(by='Proba Top1', ascending=False).tail(5)"
   ]
  },
  {
   "cell_type": "markdown",
   "metadata": {},
   "source": [
    "Saving results"
   ]
  },
  {
   "cell_type": "code",
   "execution_count": 39,
   "metadata": {},
   "outputs": [],
   "source": [
    "results_transfer.to_csv('results/hs04_distiltbert_transfer_results.csv', index=True)"
   ]
  },
  {
   "cell_type": "markdown",
   "metadata": {},
   "source": [
    "### Fine-tuned model"
   ]
  },
  {
   "cell_type": "code",
   "execution_count": 31,
   "metadata": {},
   "outputs": [
    {
     "name": "stdout",
     "output_type": "stream",
     "text": [
      "Training on cuda\n",
      "Epoch 1/3\n",
      "----------\n",
      "Model is training on: cuda:0\n"
     ]
    },
    {
     "data": {
      "application/vnd.jupyter.widget-view+json": {
       "model_id": "b7cf28c16b504db0951c3f593fd975f1",
       "version_major": 2,
       "version_minor": 0
      },
      "text/plain": [
       "Training:   0%|          | 0/7572 [00:00<?, ?it/s]"
      ]
     },
     "metadata": {},
     "output_type": "display_data"
    },
    {
     "name": "stdout",
     "output_type": "stream",
     "text": [
      "\n",
      "Train loss 3.153776044528823 accuracy 0.4387796794842693 top5_accuracy 0.6281258125358548\n",
      "Validation loss 2.1610841137961248 accuracy 0.565053402046456 top5_accuracy 0.7614086190156099\n",
      "Epoch 1 completed in 65.52 minutes.\n",
      "\n",
      "Epoch 2/3\n",
      "----------\n",
      "Model is training on: cuda:0\n"
     ]
    },
    {
     "data": {
      "application/vnd.jupyter.widget-view+json": {
       "model_id": "5725f0c21d41476b9495d72d5050042c",
       "version_major": 2,
       "version_minor": 0
      },
      "text/plain": [
       "Training:   0%|          | 0/7572 [00:00<?, ?it/s]"
      ]
     },
     "metadata": {},
     "output_type": "display_data"
    },
    {
     "name": "stdout",
     "output_type": "stream",
     "text": [
      "\n",
      "Train loss 1.9886428739381605 accuracy 0.5901806460666043 top5_accuracy 0.7881690652381168\n",
      "Validation loss 1.8507780007564039 accuracy 0.6149451041900067 top5_accuracy 0.8045783852416163\n",
      "Epoch 2 completed in 65.37 minutes.\n",
      "\n",
      "Epoch 3/3\n",
      "----------\n",
      "Model is training on: cuda:0\n"
     ]
    },
    {
     "data": {
      "application/vnd.jupyter.widget-view+json": {
       "model_id": "944aa16abb4e45be86f313fad3644b19",
       "version_major": 2,
       "version_minor": 0
      },
      "text/plain": [
       "Training:   0%|          | 0/7572 [00:00<?, ?it/s]"
      ]
     },
     "metadata": {},
     "output_type": "display_data"
    },
    {
     "name": "stdout",
     "output_type": "stream",
     "text": [
      "\n",
      "Train loss 1.6212264801293408 accuracy 0.6507220477348048 top5_accuracy 0.8385411292752283\n",
      "Validation loss 1.7295099860023855 accuracy 0.638957353051012 top5_accuracy 0.8231010531032937\n",
      "Epoch 3 completed in 65.42 minutes.\n",
      "\n",
      "Training complete.\n"
     ]
    }
   ],
   "source": [
    "import time\n",
    "\n",
    "# Initialize the model, loss function, and optimizer\n",
    "model = HSClassifier(n_classes=len(label2id), fine_tune=True)\n",
    "model_name = 'distiltbert_hs04_simple_classifier_finetuned'\n",
    "\n",
    "device = torch.device(\"cuda\" if torch.cuda.is_available() else \"cpu\")\n",
    "print(f'Training on {device}')\n",
    "model = model.to(device)\n",
    "\n",
    "criterion = nn.CrossEntropyLoss()\n",
    "optimizer = torch.optim.Adam(model.parameters(), lr=2e-5)\n",
    "\n",
    "# Initialize history dictionary\n",
    "history = {\n",
    "    'train_loss': [],\n",
    "    'train_acc': [],\n",
    "    'train_top5_acc': [],\n",
    "    'val_loss': [],\n",
    "    'val_acc': [],\n",
    "    'val_top5_acc': []\n",
    "}\n",
    "\n",
    "# Training the model\n",
    "num_epochs = 3\n",
    "for epoch in range(num_epochs):\n",
    "    print(f'Epoch {epoch + 1}/{num_epochs}')\n",
    "    print('-' * 10)\n",
    "\n",
    "    start_time = time.time()\n",
    "    \n",
    "    train_acc, train_top5_acc, train_loss = train_epoch(model, train_loader, criterion, optimizer, device)\n",
    "    print(f'Train loss {train_loss} accuracy {train_acc} top5_accuracy {train_top5_acc}')\n",
    "    \n",
    "    val_acc, val_top5_acc, val_loss = eval_model(model, val_loader, criterion, device)\n",
    "    print(f'Validation loss {val_loss} accuracy {val_acc} top5_accuracy {val_top5_acc}')\n",
    "\n",
    "    end_time = time.time()\n",
    "    epoch_time = end_time - start_time\n",
    "    print(f\"Epoch {epoch + 1} completed in {epoch_time/60:.2f} minutes.\\n\")    \n",
    "    \n",
    "    # Update history\n",
    "    history['train_loss'].append(train_loss)\n",
    "    history['train_acc'].append(train_acc)\n",
    "    history['train_top5_acc'].append(train_top5_acc)\n",
    "    history['val_loss'].append(val_loss)\n",
    "    history['val_acc'].append(val_acc)\n",
    "    history['val_top5_acc'].append(val_top5_acc)\n",
    "\n",
    "print(\"Training complete.\")"
   ]
  },
  {
   "cell_type": "code",
   "execution_count": 32,
   "metadata": {},
   "outputs": [],
   "source": [
    "history_with_finetuned = history"
   ]
  },
  {
   "cell_type": "code",
   "execution_count": 33,
   "metadata": {},
   "outputs": [
    {
     "data": {
      "image/png": "[encoded data removed]",
      "text/plain": [
       "<Figure size 640x480 with 1 Axes>"
      ]
     },
     "metadata": {},
     "output_type": "display_data"
    },
    {
     "data": {
      "image/png": "[encoded data removed]",
      "text/plain": [
       "<Figure size 640x480 with 1 Axes>"
      ]
     },
     "metadata": {},
     "output_type": "display_data"
    },
    {
     "data": {
      "image/png": "[encoded data removed]",
      "text/plain": [
       "<Figure size 640x480 with 1 Axes>"
      ]
     },
     "metadata": {},
     "output_type": "display_data"
    }
   ],
   "source": [
    "plot_metric(history_with_finetuned, 'loss')\n",
    "plot_metric(history_with_finetuned, 'acc')\n",
    "plot_metric(history_with_finetuned, 'top5_acc')"
   ]
  },
  {
   "cell_type": "markdown",
   "metadata": {},
   "source": [
    "NOTE: took 65 min/epoch (total 196 min) and it is already overfitting"
   ]
  },
  {
   "cell_type": "code",
   "execution_count": 34,
   "metadata": {},
   "outputs": [
    {
     "name": "stdout",
     "output_type": "stream",
     "text": [
      "Model saved to distiltbert_hs04_simple_classifier_finetuned_3epochs_13062025_150328.pth\n"
     ]
    }
   ],
   "source": [
    "from datetime import datetime\n",
    "\n",
    "time_now = datetime.now().strftime('%d%m%Y_%H%M%S')\n",
    "\n",
    "# Save the trained model\n",
    "model_save_path = f'{model_name}_{num_epochs}epochs_{time_now}.pth'\n",
    "torch.save(model.state_dict(), model_save_path)\n",
    "print(f\"Model saved to {model_save_path}\")"
   ]
  },
  {
   "cell_type": "markdown",
   "metadata": {},
   "source": [
    "Loading model for analysis"
   ]
  },
  {
   "cell_type": "code",
   "execution_count": 36,
   "metadata": {},
   "outputs": [
    {
     "name": "stderr",
     "output_type": "stream",
     "text": [
      "C:\\Users\\santt\\AppData\\Local\\Temp\\ipykernel_21620\\2409705818.py:7: FutureWarning: You are using `torch.load` with `weights_only=False` (the current default value), which uses the default pickle module implicitly. It is possible to construct malicious pickle data which will execute arbitrary code during unpickling (See https://github.com/pytorch/pytorch/blob/main/SECURITY.md#untrusted-models for more details). In a future release, the default value for `weights_only` will be flipped to `True`. This limits the functions that could be executed during unpickling. Arbitrary objects will no longer be allowed to be loaded via this mode unless they are explicitly allowlisted by the user via `torch.serialization.add_safe_globals`. We recommend you start setting `weights_only=True` for any use case where you don't have full control of the loaded file. Please open an issue on GitHub for any issues related to this experimental feature.\n",
      "  model_finetuned.load_state_dict(torch.load(model_save_path))\n"
     ]
    },
    {
     "data": {
      "text/plain": [
       "HSClassifier(\n",
       "  (distilbert): DistilBertModel(\n",
       "    (embeddings): Embeddings(\n",
       "      (word_embeddings): Embedding(30522, 768, padding_idx=0)\n",
       "      (position_embeddings): Embedding(512, 768)\n",
       "      (LayerNorm): LayerNorm((768,), eps=1e-12, elementwise_affine=True)\n",
       "      (dropout): Dropout(p=0.1, inplace=False)\n",
       "    )\n",
       "    (transformer): Transformer(\n",
       "      (layer): ModuleList(\n",
       "        (0-5): 6 x TransformerBlock(\n",
       "          (attention): DistilBertSdpaAttention(\n",
       "            (dropout): Dropout(p=0.1, inplace=False)\n",
       "            (q_lin): Linear(in_features=768, out_features=768, bias=True)\n",
       "            (k_lin): Linear(in_features=768, out_features=768, bias=True)\n",
       "            (v_lin): Linear(in_features=768, out_features=768, bias=True)\n",
       "            (out_lin): Linear(in_features=768, out_features=768, bias=True)\n",
       "          )\n",
       "          (sa_layer_norm): LayerNorm((768,), eps=1e-12, elementwise_affine=True)\n",
       "          (ffn): FFN(\n",
       "            (dropout): Dropout(p=0.1, inplace=False)\n",
       "            (lin1): Linear(in_features=768, out_features=3072, bias=True)\n",
       "            (lin2): Linear(in_features=3072, out_features=768, bias=True)\n",
       "            (activation): GELUActivation()\n",
       "          )\n",
       "          (output_layer_norm): LayerNorm((768,), eps=1e-12, elementwise_affine=True)\n",
       "        )\n",
       "      )\n",
       "    )\n",
       "  )\n",
       "  (classifier): Sequential(\n",
       "    (0): Linear(in_features=768, out_features=1024, bias=True)\n",
       "    (1): ReLU()\n",
       "    (2): BatchNorm1d(1024, eps=1e-05, momentum=0.1, affine=True, track_running_stats=True)\n",
       "    (3): Dropout(p=0.3, inplace=False)\n",
       "    (4): Linear(in_features=1024, out_features=1133, bias=True)\n",
       "  )\n",
       ")"
      ]
     },
     "execution_count": 36,
     "metadata": {},
     "output_type": "execute_result"
    }
   ],
   "source": [
    "model_name = 'distiltbert_hs04_simple_classifier_finetuned_3epochs_13062025_150328.pth'\n",
    "\n",
    "model_save_path = os.path.join('models', model_name)\n",
    "\n",
    "model_finetuned = HSClassifier(n_classes=len(label2id), fine_tune=True)\n",
    "\n",
    "model_finetuned.load_state_dict(torch.load(model_save_path))\n",
    "\n",
    "model_finetuned.eval() # to set the model for inference"
   ]
  },
  {
   "cell_type": "code",
   "execution_count": 46,
   "metadata": {},
   "outputs": [],
   "source": [
    "torch.cuda.empty_cache()"
   ]
  },
  {
   "cell_type": "code",
   "execution_count": 38,
   "metadata": {},
   "outputs": [
    {
     "name": "stdout",
     "output_type": "stream",
     "text": [
      "Testing on cuda\n",
      "Accuracy Top-1: 63.90 %\n",
      "Accuracy Top-2: 73.43 %\n",
      "Accuracy Top-3: 77.88 %\n",
      "Accuracy Top-4: 80.64 %\n",
      "Accuracy Top-5: 82.31 %\n"
     ]
    }
   ],
   "source": [
    "device = torch.device(\"cuda\" if torch.cuda.is_available() else \"cpu\")\n",
    "print(f'Testing on {device}')\n",
    "\n",
    "results_finetuned = predict_and_evaluate(model_finetuned, tokenizer, val_df, id2label, max_length=max_length, device=device)"
   ]
  },
  {
   "cell_type": "code",
   "execution_count": 40,
   "metadata": {},
   "outputs": [
    {
     "data": {
      "text/html": [
       "<div>\n",
       "<style scoped>\n",
       "    .dataframe tbody tr th:only-of-type {\n",
       "        vertical-align: middle;\n",
       "    }\n",
       "\n",
       "    .dataframe tbody tr th {\n",
       "        vertical-align: top;\n",
       "    }\n",
       "\n",
       "    .dataframe thead th {\n",
       "        text-align: right;\n",
       "    }\n",
       "</style>\n",
       "<table border=\"1\" class=\"dataframe\">\n",
       "  <thead>\n",
       "    <tr style=\"text-align: right;\">\n",
       "      <th></th>\n",
       "      <th>Description</th>\n",
       "      <th>True Label</th>\n",
       "      <th>Top1</th>\n",
       "      <th>Proba Top1</th>\n",
       "      <th>Top2</th>\n",
       "      <th>Proba Top2</th>\n",
       "      <th>Top3</th>\n",
       "      <th>Proba Top3</th>\n",
       "      <th>Top4</th>\n",
       "      <th>Proba Top4</th>\n",
       "      <th>Top5</th>\n",
       "      <th>Proba Top5</th>\n",
       "    </tr>\n",
       "  </thead>\n",
       "  <tbody>\n",
       "    <tr>\n",
       "      <th>3914</th>\n",
       "      <td>BEVEL GEAR (43A0002)</td>\n",
       "      <td>8483</td>\n",
       "      <td>8483</td>\n",
       "      <td>0.891349</td>\n",
       "      <td>8708</td>\n",
       "      <td>0.054235</td>\n",
       "      <td>8431</td>\n",
       "      <td>0.013001</td>\n",
       "      <td>8482</td>\n",
       "      <td>0.009579</td>\n",
       "      <td>8448</td>\n",
       "      <td>0.004437</td>\n",
       "    </tr>\n",
       "    <tr>\n",
       "      <th>143735</th>\n",
       "      <td>NANO FACIAL STEAMER</td>\n",
       "      <td>8516</td>\n",
       "      <td>8516</td>\n",
       "      <td>0.521912</td>\n",
       "      <td>8419</td>\n",
       "      <td>0.079620</td>\n",
       "      <td>7323</td>\n",
       "      <td>0.061562</td>\n",
       "      <td>3304</td>\n",
       "      <td>0.027125</td>\n",
       "      <td>3924</td>\n",
       "      <td>0.017655</td>\n",
       "    </tr>\n",
       "    <tr>\n",
       "      <th>257095</th>\n",
       "      <td>DISINFECTION CABINET (KITCHEN UTENSIL)</td>\n",
       "      <td>9403</td>\n",
       "      <td>7323</td>\n",
       "      <td>0.259573</td>\n",
       "      <td>9403</td>\n",
       "      <td>0.203982</td>\n",
       "      <td>3924</td>\n",
       "      <td>0.144587</td>\n",
       "      <td>8418</td>\n",
       "      <td>0.078116</td>\n",
       "      <td>7615</td>\n",
       "      <td>0.060856</td>\n",
       "    </tr>\n",
       "    <tr>\n",
       "      <th>238825</th>\n",
       "      <td>USED TOYOTA WISH 2010</td>\n",
       "      <td>8703</td>\n",
       "      <td>8703</td>\n",
       "      <td>0.999423</td>\n",
       "      <td>8702</td>\n",
       "      <td>0.000097</td>\n",
       "      <td>8704</td>\n",
       "      <td>0.000054</td>\n",
       "      <td>8711</td>\n",
       "      <td>0.000053</td>\n",
       "      <td>8701</td>\n",
       "      <td>0.000004</td>\n",
       "    </tr>\n",
       "    <tr>\n",
       "      <th>91527</th>\n",
       "      <td>RECORDER</td>\n",
       "      <td>8519</td>\n",
       "      <td>8519</td>\n",
       "      <td>0.647193</td>\n",
       "      <td>8521</td>\n",
       "      <td>0.215078</td>\n",
       "      <td>8527</td>\n",
       "      <td>0.050980</td>\n",
       "      <td>9202</td>\n",
       "      <td>0.015427</td>\n",
       "      <td>9209</td>\n",
       "      <td>0.013578</td>\n",
       "    </tr>\n",
       "    <tr>\n",
       "      <th>...</th>\n",
       "      <td>...</td>\n",
       "      <td>...</td>\n",
       "      <td>...</td>\n",
       "      <td>...</td>\n",
       "      <td>...</td>\n",
       "      <td>...</td>\n",
       "      <td>...</td>\n",
       "      <td>...</td>\n",
       "      <td>...</td>\n",
       "      <td>...</td>\n",
       "      <td>...</td>\n",
       "      <td>...</td>\n",
       "    </tr>\n",
       "    <tr>\n",
       "      <th>52434</th>\n",
       "      <td>USED 2006 TOYOTA ALPHARD CHASSIS NO: ANH10-015...</td>\n",
       "      <td>8703</td>\n",
       "      <td>8703</td>\n",
       "      <td>0.999158</td>\n",
       "      <td>8704</td>\n",
       "      <td>0.000094</td>\n",
       "      <td>8702</td>\n",
       "      <td>0.000033</td>\n",
       "      <td>8711</td>\n",
       "      <td>0.000030</td>\n",
       "      <td>8701</td>\n",
       "      <td>0.000005</td>\n",
       "    </tr>\n",
       "    <tr>\n",
       "      <th>108622</th>\n",
       "      <td>CUTTING DISC,SIZE:230 X 3.2 X 22.23MM (For Met...</td>\n",
       "      <td>6804</td>\n",
       "      <td>6804</td>\n",
       "      <td>0.979451</td>\n",
       "      <td>6805</td>\n",
       "      <td>0.006230</td>\n",
       "      <td>8202</td>\n",
       "      <td>0.004906</td>\n",
       "      <td>8448</td>\n",
       "      <td>0.001032</td>\n",
       "      <td>8208</td>\n",
       "      <td>0.000747</td>\n",
       "    </tr>\n",
       "    <tr>\n",
       "      <th>243579</th>\n",
       "      <td>FACEBODY CREAM</td>\n",
       "      <td>3304</td>\n",
       "      <td>3304</td>\n",
       "      <td>0.962618</td>\n",
       "      <td>3401</td>\n",
       "      <td>0.002785</td>\n",
       "      <td>3305</td>\n",
       "      <td>0.002579</td>\n",
       "      <td>3306</td>\n",
       "      <td>0.002198</td>\n",
       "      <td>3405</td>\n",
       "      <td>0.001302</td>\n",
       "    </tr>\n",
       "    <tr>\n",
       "      <th>258750</th>\n",
       "      <td>FUEL COCK CG</td>\n",
       "      <td>8714</td>\n",
       "      <td>8714</td>\n",
       "      <td>0.597063</td>\n",
       "      <td>8481</td>\n",
       "      <td>0.285380</td>\n",
       "      <td>8409</td>\n",
       "      <td>0.027844</td>\n",
       "      <td>8708</td>\n",
       "      <td>0.019319</td>\n",
       "      <td>8483</td>\n",
       "      <td>0.006910</td>\n",
       "    </tr>\n",
       "    <tr>\n",
       "      <th>248718</th>\n",
       "      <td>EZ630 ENERGIZER</td>\n",
       "      <td>8506</td>\n",
       "      <td>8543</td>\n",
       "      <td>0.332838</td>\n",
       "      <td>8504</td>\n",
       "      <td>0.063099</td>\n",
       "      <td>8479</td>\n",
       "      <td>0.045679</td>\n",
       "      <td>8515</td>\n",
       "      <td>0.042063</td>\n",
       "      <td>9031</td>\n",
       "      <td>0.036823</td>\n",
       "    </tr>\n",
       "  </tbody>\n",
       "</table>\n",
       "<p>26778 rows × 12 columns</p>\n",
       "</div>"
      ],
      "text/plain": [
       "                                              Description True Label  Top1  \\\n",
       "3914                                 BEVEL GEAR (43A0002)       8483  8483   \n",
       "143735                                NANO FACIAL STEAMER       8516  8516   \n",
       "257095             DISINFECTION CABINET (KITCHEN UTENSIL)       9403  7323   \n",
       "238825                              USED TOYOTA WISH 2010       8703  8703   \n",
       "91527                                            RECORDER       8519  8519   \n",
       "...                                                   ...        ...   ...   \n",
       "52434   USED 2006 TOYOTA ALPHARD CHASSIS NO: ANH10-015...       8703  8703   \n",
       "108622  CUTTING DISC,SIZE:230 X 3.2 X 22.23MM (For Met...       6804  6804   \n",
       "243579                                     FACEBODY CREAM       3304  3304   \n",
       "258750                                       FUEL COCK CG       8714  8714   \n",
       "248718                                    EZ630 ENERGIZER       8506  8543   \n",
       "\n",
       "        Proba Top1  Top2  Proba Top2  Top3  Proba Top3  Top4  Proba Top4  \\\n",
       "3914      0.891349  8708    0.054235  8431    0.013001  8482    0.009579   \n",
       "143735    0.521912  8419    0.079620  7323    0.061562  3304    0.027125   \n",
       "257095    0.259573  9403    0.203982  3924    0.144587  8418    0.078116   \n",
       "238825    0.999423  8702    0.000097  8704    0.000054  8711    0.000053   \n",
       "91527     0.647193  8521    0.215078  8527    0.050980  9202    0.015427   \n",
       "...            ...   ...         ...   ...         ...   ...         ...   \n",
       "52434     0.999158  8704    0.000094  8702    0.000033  8711    0.000030   \n",
       "108622    0.979451  6805    0.006230  8202    0.004906  8448    0.001032   \n",
       "243579    0.962618  3401    0.002785  3305    0.002579  3306    0.002198   \n",
       "258750    0.597063  8481    0.285380  8409    0.027844  8708    0.019319   \n",
       "248718    0.332838  8504    0.063099  8479    0.045679  8515    0.042063   \n",
       "\n",
       "        Top5  Proba Top5  \n",
       "3914    8448    0.004437  \n",
       "143735  3924    0.017655  \n",
       "257095  7615    0.060856  \n",
       "238825  8701    0.000004  \n",
       "91527   9209    0.013578  \n",
       "...      ...         ...  \n",
       "52434   8701    0.000005  \n",
       "108622  8208    0.000747  \n",
       "243579  3405    0.001302  \n",
       "258750  8483    0.006910  \n",
       "248718  9031    0.036823  \n",
       "\n",
       "[26778 rows x 12 columns]"
      ]
     },
     "execution_count": 40,
     "metadata": {},
     "output_type": "execute_result"
    }
   ],
   "source": [
    "results_finetuned"
   ]
  },
  {
   "cell_type": "code",
   "execution_count": 41,
   "metadata": {},
   "outputs": [
    {
     "data": {
      "text/html": [
       "<div>\n",
       "<style scoped>\n",
       "    .dataframe tbody tr th:only-of-type {\n",
       "        vertical-align: middle;\n",
       "    }\n",
       "\n",
       "    .dataframe tbody tr th {\n",
       "        vertical-align: top;\n",
       "    }\n",
       "\n",
       "    .dataframe thead th {\n",
       "        text-align: right;\n",
       "    }\n",
       "</style>\n",
       "<table border=\"1\" class=\"dataframe\">\n",
       "  <thead>\n",
       "    <tr style=\"text-align: right;\">\n",
       "      <th></th>\n",
       "      <th>Description</th>\n",
       "      <th>True Label</th>\n",
       "      <th>Top1</th>\n",
       "      <th>Proba Top1</th>\n",
       "      <th>Top2</th>\n",
       "      <th>Proba Top2</th>\n",
       "      <th>Top3</th>\n",
       "      <th>Proba Top3</th>\n",
       "      <th>Top4</th>\n",
       "      <th>Proba Top4</th>\n",
       "      <th>Top5</th>\n",
       "      <th>Proba Top5</th>\n",
       "    </tr>\n",
       "  </thead>\n",
       "  <tbody>\n",
       "    <tr>\n",
       "      <th>198984</th>\n",
       "      <td>RADIANT RELAXER ( 10 X 24 PCS ) SIZE 250GM</td>\n",
       "      <td>3305</td>\n",
       "      <td>3305</td>\n",
       "      <td>0.999908</td>\n",
       "      <td>3304</td>\n",
       "      <td>0.000037</td>\n",
       "      <td>3401</td>\n",
       "      <td>0.000012</td>\n",
       "      <td>3307</td>\n",
       "      <td>0.000003</td>\n",
       "      <td>6704</td>\n",
       "      <td>2.633221e-06</td>\n",
       "    </tr>\n",
       "    <tr>\n",
       "      <th>76630</th>\n",
       "      <td>SCANIA R450 TRACTOR UNIT</td>\n",
       "      <td>8701</td>\n",
       "      <td>8701</td>\n",
       "      <td>0.999876</td>\n",
       "      <td>8704</td>\n",
       "      <td>0.000012</td>\n",
       "      <td>8711</td>\n",
       "      <td>0.000006</td>\n",
       "      <td>8703</td>\n",
       "      <td>0.000006</td>\n",
       "      <td>8706</td>\n",
       "      <td>1.619098e-06</td>\n",
       "    </tr>\n",
       "    <tr>\n",
       "      <th>146375</th>\n",
       "      <td>USED VEHICLE TOYOTA VANGUARD</td>\n",
       "      <td>8703</td>\n",
       "      <td>8703</td>\n",
       "      <td>0.999874</td>\n",
       "      <td>8704</td>\n",
       "      <td>0.000019</td>\n",
       "      <td>8702</td>\n",
       "      <td>0.000008</td>\n",
       "      <td>8711</td>\n",
       "      <td>0.000005</td>\n",
       "      <td>8701</td>\n",
       "      <td>8.188755e-07</td>\n",
       "    </tr>\n",
       "    <tr>\n",
       "      <th>236201</th>\n",
       "      <td>SCANIA TRACTOR UNIT - R400</td>\n",
       "      <td>8701</td>\n",
       "      <td>8701</td>\n",
       "      <td>0.999860</td>\n",
       "      <td>8704</td>\n",
       "      <td>0.000020</td>\n",
       "      <td>8711</td>\n",
       "      <td>0.000010</td>\n",
       "      <td>8703</td>\n",
       "      <td>0.000009</td>\n",
       "      <td>8702</td>\n",
       "      <td>2.166234e-06</td>\n",
       "    </tr>\n",
       "    <tr>\n",
       "      <th>13412</th>\n",
       "      <td>SCANIA R420 HIGHLINE 6X2 SLEEPER CAB TRACTOR UNIT</td>\n",
       "      <td>8701</td>\n",
       "      <td>8701</td>\n",
       "      <td>0.999856</td>\n",
       "      <td>8704</td>\n",
       "      <td>0.000017</td>\n",
       "      <td>8703</td>\n",
       "      <td>0.000004</td>\n",
       "      <td>8706</td>\n",
       "      <td>0.000003</td>\n",
       "      <td>8705</td>\n",
       "      <td>2.638283e-06</td>\n",
       "    </tr>\n",
       "  </tbody>\n",
       "</table>\n",
       "</div>"
      ],
      "text/plain": [
       "                                              Description True Label  Top1  \\\n",
       "198984         RADIANT RELAXER ( 10 X 24 PCS ) SIZE 250GM       3305  3305   \n",
       "76630                            SCANIA R450 TRACTOR UNIT       8701  8701   \n",
       "146375                       USED VEHICLE TOYOTA VANGUARD       8703  8703   \n",
       "236201                         SCANIA TRACTOR UNIT - R400       8701  8701   \n",
       "13412   SCANIA R420 HIGHLINE 6X2 SLEEPER CAB TRACTOR UNIT       8701  8701   \n",
       "\n",
       "        Proba Top1  Top2  Proba Top2  Top3  Proba Top3  Top4  Proba Top4  \\\n",
       "198984    0.999908  3304    0.000037  3401    0.000012  3307    0.000003   \n",
       "76630     0.999876  8704    0.000012  8711    0.000006  8703    0.000006   \n",
       "146375    0.999874  8704    0.000019  8702    0.000008  8711    0.000005   \n",
       "236201    0.999860  8704    0.000020  8711    0.000010  8703    0.000009   \n",
       "13412     0.999856  8704    0.000017  8703    0.000004  8706    0.000003   \n",
       "\n",
       "        Top5    Proba Top5  \n",
       "198984  6704  2.633221e-06  \n",
       "76630   8706  1.619098e-06  \n",
       "146375  8701  8.188755e-07  \n",
       "236201  8702  2.166234e-06  \n",
       "13412   8705  2.638283e-06  "
      ]
     },
     "execution_count": 41,
     "metadata": {},
     "output_type": "execute_result"
    }
   ],
   "source": [
    "results_finetuned.sort_values(by='Proba Top1', ascending=False).head(5)"
   ]
  },
  {
   "cell_type": "code",
   "execution_count": 42,
   "metadata": {},
   "outputs": [
    {
     "data": {
      "text/html": [
       "<div>\n",
       "<style scoped>\n",
       "    .dataframe tbody tr th:only-of-type {\n",
       "        vertical-align: middle;\n",
       "    }\n",
       "\n",
       "    .dataframe tbody tr th {\n",
       "        vertical-align: top;\n",
       "    }\n",
       "\n",
       "    .dataframe thead th {\n",
       "        text-align: right;\n",
       "    }\n",
       "</style>\n",
       "<table border=\"1\" class=\"dataframe\">\n",
       "  <thead>\n",
       "    <tr style=\"text-align: right;\">\n",
       "      <th></th>\n",
       "      <th>Description</th>\n",
       "      <th>True Label</th>\n",
       "      <th>Top1</th>\n",
       "      <th>Proba Top1</th>\n",
       "      <th>Top2</th>\n",
       "      <th>Proba Top2</th>\n",
       "      <th>Top3</th>\n",
       "      <th>Proba Top3</th>\n",
       "      <th>Top4</th>\n",
       "      <th>Proba Top4</th>\n",
       "      <th>Top5</th>\n",
       "      <th>Proba Top5</th>\n",
       "    </tr>\n",
       "  </thead>\n",
       "  <tbody>\n",
       "    <tr>\n",
       "      <th>147331</th>\n",
       "      <td>291814000000</td>\n",
       "      <td>2918</td>\n",
       "      <td>8418</td>\n",
       "      <td>0.027856</td>\n",
       "      <td>8536</td>\n",
       "      <td>0.025212</td>\n",
       "      <td>8443</td>\n",
       "      <td>0.022682</td>\n",
       "      <td>8482</td>\n",
       "      <td>0.020678</td>\n",
       "      <td>6907</td>\n",
       "      <td>0.018522</td>\n",
       "    </tr>\n",
       "    <tr>\n",
       "      <th>99724</th>\n",
       "      <td>GOWS</td>\n",
       "      <td>6208</td>\n",
       "      <td>8714</td>\n",
       "      <td>0.026654</td>\n",
       "      <td>8414</td>\n",
       "      <td>0.025095</td>\n",
       "      <td>7007</td>\n",
       "      <td>0.023666</td>\n",
       "      <td>9004</td>\n",
       "      <td>0.021332</td>\n",
       "      <td>7308</td>\n",
       "      <td>0.020599</td>\n",
       "    </tr>\n",
       "    <tr>\n",
       "      <th>218345</th>\n",
       "      <td>MAX STOCK</td>\n",
       "      <td>6110</td>\n",
       "      <td>9404</td>\n",
       "      <td>0.026351</td>\n",
       "      <td>8544</td>\n",
       "      <td>0.022810</td>\n",
       "      <td>3920</td>\n",
       "      <td>0.019492</td>\n",
       "      <td>3002</td>\n",
       "      <td>0.015571</td>\n",
       "      <td>6304</td>\n",
       "      <td>0.011402</td>\n",
       "    </tr>\n",
       "    <tr>\n",
       "      <th>208128</th>\n",
       "      <td>VIOO</td>\n",
       "      <td>7013</td>\n",
       "      <td>2710</td>\n",
       "      <td>0.025299</td>\n",
       "      <td>4911</td>\n",
       "      <td>0.018514</td>\n",
       "      <td>8518</td>\n",
       "      <td>0.016207</td>\n",
       "      <td>6114</td>\n",
       "      <td>0.013517</td>\n",
       "      <td>6204</td>\n",
       "      <td>0.012473</td>\n",
       "    </tr>\n",
       "    <tr>\n",
       "      <th>196472</th>\n",
       "      <td>CUELLO REJILLA</td>\n",
       "      <td>6210</td>\n",
       "      <td>9503</td>\n",
       "      <td>0.022528</td>\n",
       "      <td>9506</td>\n",
       "      <td>0.020151</td>\n",
       "      <td>8714</td>\n",
       "      <td>0.018453</td>\n",
       "      <td>8708</td>\n",
       "      <td>0.017257</td>\n",
       "      <td>8205</td>\n",
       "      <td>0.017050</td>\n",
       "    </tr>\n",
       "  </tbody>\n",
       "</table>\n",
       "</div>"
      ],
      "text/plain": [
       "           Description True Label  Top1  Proba Top1  Top2  Proba Top2  Top3  \\\n",
       "147331    291814000000       2918  8418    0.027856  8536    0.025212  8443   \n",
       "99724             GOWS       6208  8714    0.026654  8414    0.025095  7007   \n",
       "218345       MAX STOCK       6110  9404    0.026351  8544    0.022810  3920   \n",
       "208128            VIOO       7013  2710    0.025299  4911    0.018514  8518   \n",
       "196472  CUELLO REJILLA       6210  9503    0.022528  9506    0.020151  8714   \n",
       "\n",
       "        Proba Top3  Top4  Proba Top4  Top5  Proba Top5  \n",
       "147331    0.022682  8482    0.020678  6907    0.018522  \n",
       "99724     0.023666  9004    0.021332  7308    0.020599  \n",
       "218345    0.019492  3002    0.015571  6304    0.011402  \n",
       "208128    0.016207  6114    0.013517  6204    0.012473  \n",
       "196472    0.018453  8708    0.017257  8205    0.017050  "
      ]
     },
     "execution_count": 42,
     "metadata": {},
     "output_type": "execute_result"
    }
   ],
   "source": [
    "results_finetuned.sort_values(by='Proba Top1', ascending=False).tail(5)"
   ]
  },
  {
   "cell_type": "markdown",
   "metadata": {},
   "source": [
    "Saving results"
   ]
  },
  {
   "cell_type": "code",
   "execution_count": 43,
   "metadata": {},
   "outputs": [],
   "source": [
    "results_finetuned.to_csv('results/hs04_distiltbert_finetuned_results.csv', index=True)"
   ]
  },
  {
   "cell_type": "markdown",
   "metadata": {},
   "source": [
    "### Partial fine-tuned\n",
    "\n",
    "Re-defining the architecture"
   ]
  },
  {
   "cell_type": "code",
   "execution_count": 44,
   "metadata": {},
   "outputs": [],
   "source": [
    "\n",
    "class HSClassifier(nn.Module):\n",
    "    def __init__(self,\n",
    "                 n_classes: int,\n",
    "                 fine_tune: bool = False,\n",
    "                 n_finetune_layers: int = 0):\n",
    "        \"\"\"\n",
    "        Args:\n",
    "          n_classes:      number of target classes\n",
    "          fine_tune:      if True, you’ll unfreeze either all or the last layers\n",
    "          n_finetune_layers:\n",
    "                          • =0 (default) → if fine_tune=True, unfreeze *all* DistilBERT layers  \n",
    "                          • >0             → unfreeze only that many of the *last* transformer blocks  \n",
    "                          • ignored if fine_tune=False (encoder stays fully frozen)\n",
    "        \"\"\"\n",
    "        super().__init__()\n",
    "        self.distilbert = DistilBertModel.from_pretrained(\"distilbert-base-uncased\")\n",
    "\n",
    "        # Freeze everything by default\n",
    "        for param in self.distilbert.parameters():\n",
    "            param.requires_grad = False\n",
    "\n",
    "        # If fine_tune, decide what to unfreeze\n",
    "        if fine_tune:\n",
    "            if n_finetune_layers > 0:\n",
    "                # Unfreeze only the last `n_finetune_layers` transformer blocks\n",
    "                for block in self.distilbert.transformer.layer[-n_finetune_layers:]:\n",
    "                    for param in block.parameters():\n",
    "                        param.requires_grad = True\n",
    "            else:\n",
    "                # n_finetune_layers == 0 → unfreeze *all* DistilBERT params\n",
    "                for param in self.distilbert.parameters():\n",
    "                    param.requires_grad = True\n",
    "\n",
    "        # Classification head\n",
    "        self.classifier = nn.Sequential(\n",
    "            nn.Linear(self.distilbert.config.hidden_size, 1024),\n",
    "            nn.ReLU(),\n",
    "            nn.BatchNorm1d(1024),\n",
    "            nn.Dropout(0.3),\n",
    "            nn.Linear(1024, n_classes),\n",
    "        )\n",
    "\n",
    "    def forward(self, input_ids, attention_mask):\n",
    "        outputs = self.distilbert(input_ids=input_ids, attention_mask=attention_mask)\n",
    "        hidden_state = outputs.last_hidden_state[:, 0, :]  # Take <CLS> token representation\n",
    "        logits = self.classifier(hidden_state)\n",
    "        return logits"
   ]
  },
  {
   "cell_type": "markdown",
   "metadata": {},
   "source": [
    "Fine-tuning last 2 layers"
   ]
  },
  {
   "cell_type": "code",
   "execution_count": 49,
   "metadata": {},
   "outputs": [
    {
     "name": "stdout",
     "output_type": "stream",
     "text": [
      "Training on cuda\n",
      "Epoch 1/6\n",
      "----------\n",
      "Model is training on: cuda:0\n"
     ]
    },
    {
     "data": {
      "application/vnd.jupyter.widget-view+json": {
       "model_id": "4989c83855e341a6bdf032cc574e7a49",
       "version_major": 2,
       "version_minor": 0
      },
      "text/plain": [
       "Training:   0%|          | 0/7572 [00:00<?, ?it/s]"
      ]
     },
     "metadata": {},
     "output_type": "display_data"
    },
    {
     "name": "stdout",
     "output_type": "stream",
     "text": [
      "\n",
      "Train loss 3.6152708338513553 accuracy 0.36978171417722877 top5_accuracy 0.5588595814227993\n",
      "Validation loss 2.5356028380502225 accuracy 0.4969751288371051 top5_accuracy 0.7022929270296512\n",
      "Epoch 1 completed in 37.90 minutes.\n",
      "\n",
      "Epoch 2/6\n",
      "----------\n",
      "Model is training on: cuda:0\n"
     ]
    },
    {
     "data": {
      "application/vnd.jupyter.widget-view+json": {
       "model_id": "0af92959f9954e21b02306205cc071ba",
       "version_major": 2,
       "version_minor": 0
      },
      "text/plain": [
       "Training:   0%|          | 0/7572 [00:00<?, ?it/s]"
      ]
     },
     "metadata": {},
     "output_type": "display_data"
    },
    {
     "name": "stdout",
     "output_type": "stream",
     "text": [
      "\n",
      "Train loss 2.45361675973834 accuracy 0.5096307424359361 top5_accuracy 0.7185809151578435\n",
      "Validation loss 2.160418312680622 accuracy 0.5555680035850324 top5_accuracy 0.7573007692882217\n",
      "Epoch 2 completed in 38.16 minutes.\n",
      "\n",
      "Epoch 3/6\n",
      "----------\n",
      "Model is training on: cuda:0\n"
     ]
    },
    {
     "data": {
      "application/vnd.jupyter.widget-view+json": {
       "model_id": "f6e22f9310604d1aa1360c6e87154bae",
       "version_major": 2,
       "version_minor": 0
      },
      "text/plain": [
       "Training:   0%|          | 0/7572 [00:00<?, ?it/s]"
      ]
     },
     "metadata": {},
     "output_type": "display_data"
    },
    {
     "name": "stdout",
     "output_type": "stream",
     "text": [
      "\n",
      "Train loss 2.119994519228225 accuracy 0.5610098350371652 top5_accuracy 0.766843997243053\n",
      "Validation loss 1.9862927765259464 accuracy 0.5902233176488162 top5_accuracy 0.7842632011352603\n",
      "Epoch 3 completed in 38.37 minutes.\n",
      "\n",
      "Epoch 4/6\n",
      "----------\n",
      "Model is training on: cuda:0\n"
     ]
    },
    {
     "data": {
      "application/vnd.jupyter.widget-view+json": {
       "model_id": "c64277c62bf64cd89c340736e7529dd6",
       "version_major": 2,
       "version_minor": 0
      },
      "text/plain": [
       "Training:   0%|          | 0/7572 [00:00<?, ?it/s]"
      ]
     },
     "metadata": {},
     "output_type": "display_data"
    },
    {
     "name": "stdout",
     "output_type": "stream",
     "text": [
      "\n",
      "Train loss 1.9089757641880714 accuracy 0.5951786443909747 top5_accuracy 0.7960024267737529\n",
      "Validation loss 1.8729266305693304 accuracy 0.6088206736873553 top5_accuracy 0.8000224064530584\n",
      "Epoch 4 completed in 38.06 minutes.\n",
      "\n",
      "Epoch 5/6\n",
      "----------\n",
      "Model is training on: cuda:0\n"
     ]
    },
    {
     "data": {
      "application/vnd.jupyter.widget-view+json": {
       "model_id": "46c0de71a74b46cf86968bd06527948d",
       "version_major": 2,
       "version_minor": 0
      },
      "text/plain": [
       "Training:   0%|          | 0/7572 [00:00<?, ?it/s]"
      ]
     },
     "metadata": {},
     "output_type": "display_data"
    },
    {
     "name": "stdout",
     "output_type": "stream",
     "text": [
      "\n",
      "Train loss 1.7424403396285026 accuracy 0.6227150975868458 top5_accuracy 0.8198244303478789\n",
      "Validation loss 1.8150733143910143 accuracy 0.6237209649712451 top5_accuracy 0.8079766972888192\n",
      "Epoch 5 completed in 38.28 minutes.\n",
      "\n",
      "Epoch 6/6\n",
      "----------\n",
      "Model is training on: cuda:0\n"
     ]
    },
    {
     "data": {
      "application/vnd.jupyter.widget-view+json": {
       "model_id": "ef05277f57b94223b75b2fdc05fa2251",
       "version_major": 2,
       "version_minor": 0
      },
      "text/plain": [
       "Training:   0%|          | 0/7572 [00:00<?, ?it/s]"
      ]
     },
     "metadata": {},
     "output_type": "display_data"
    },
    {
     "name": "stdout",
     "output_type": "stream",
     "text": [
      "\n",
      "Train loss 1.606438384546342 accuracy 0.6462564538562178 top5_accuracy 0.8385246206102428\n",
      "Validation loss 1.7653115626731655 accuracy 0.6328329225483605 top5_accuracy 0.8170139666890731\n",
      "Epoch 6 completed in 38.08 minutes.\n",
      "\n",
      "Training complete.\n"
     ]
    }
   ],
   "source": [
    "import time\n",
    "\n",
    "# Initialize the model, loss function, and optimizer\n",
    "model = HSClassifier(n_classes=len(label2id), fine_tune=True, n_finetune_layers=2)\n",
    "model_name = 'distiltbert_hs04_simple_classifier_finetuned_2layers'\n",
    "\n",
    "device = torch.device(\"cuda\" if torch.cuda.is_available() else \"cpu\")\n",
    "print(f'Training on {device}')\n",
    "model = model.to(device)\n",
    "\n",
    "criterion = nn.CrossEntropyLoss()\n",
    "optimizer = torch.optim.Adam(model.parameters(), lr=2e-5)\n",
    "\n",
    "# Initialize history dictionary\n",
    "history = {\n",
    "    'train_loss': [],\n",
    "    'train_acc': [],\n",
    "    'train_top5_acc': [],\n",
    "    'val_loss': [],\n",
    "    'val_acc': [],\n",
    "    'val_top5_acc': []\n",
    "}\n",
    "\n",
    "# Training the model\n",
    "num_epochs = 6\n",
    "for epoch in range(num_epochs):\n",
    "    print(f'Epoch {epoch + 1}/{num_epochs}')\n",
    "    print('-' * 10)\n",
    "\n",
    "    start_time = time.time()\n",
    "    \n",
    "    train_acc, train_top5_acc, train_loss = train_epoch(model, train_loader, criterion, optimizer, device)\n",
    "    print(f'Train loss {train_loss} accuracy {train_acc} top5_accuracy {train_top5_acc}')\n",
    "    \n",
    "    val_acc, val_top5_acc, val_loss = eval_model(model, val_loader, criterion, device)\n",
    "    print(f'Validation loss {val_loss} accuracy {val_acc} top5_accuracy {val_top5_acc}')\n",
    "\n",
    "    end_time = time.time()\n",
    "    epoch_time = end_time - start_time\n",
    "    print(f\"Epoch {epoch + 1} completed in {epoch_time/60:.2f} minutes.\\n\")    \n",
    "    \n",
    "    # Update history\n",
    "    history['train_loss'].append(train_loss)\n",
    "    history['train_acc'].append(train_acc)\n",
    "    history['train_top5_acc'].append(train_top5_acc)\n",
    "    history['val_loss'].append(val_loss)\n",
    "    history['val_acc'].append(val_acc)\n",
    "    history['val_top5_acc'].append(val_top5_acc)\n",
    "\n",
    "print(\"Training complete.\")"
   ]
  },
  {
   "cell_type": "code",
   "execution_count": 50,
   "metadata": {},
   "outputs": [],
   "source": [
    "history_with_finetuned_2layers = history"
   ]
  },
  {
   "cell_type": "code",
   "execution_count": 51,
   "metadata": {},
   "outputs": [
    {
     "data": {
      "image/png": "[encoded data removed]",
      "text/plain": [
       "<Figure size 640x480 with 1 Axes>"
      ]
     },
     "metadata": {},
     "output_type": "display_data"
    },
    {
     "data": {
      "image/png": "[encoded data removed]",
      "text/plain": [
       "<Figure size 640x480 with 1 Axes>"
      ]
     },
     "metadata": {},
     "output_type": "display_data"
    },
    {
     "data": {
      "image/png": "[encoded data removed]",
      "text/plain": [
       "<Figure size 640x480 with 1 Axes>"
      ]
     },
     "metadata": {},
     "output_type": "display_data"
    }
   ],
   "source": [
    "plot_metric(history_with_finetuned_2layers, 'loss')\n",
    "plot_metric(history_with_finetuned_2layers, 'acc')\n",
    "plot_metric(history_with_finetuned_2layers, 'top5_acc')"
   ]
  },
  {
   "cell_type": "markdown",
   "metadata": {},
   "source": [
    "NOTE: took 38 min/epoch (230 min total) and it is already overfitting"
   ]
  },
  {
   "cell_type": "code",
   "execution_count": 52,
   "metadata": {},
   "outputs": [
    {
     "name": "stdout",
     "output_type": "stream",
     "text": [
      "Model saved to distiltbert_hs04_simple_classifier_finetuned_2layers_6epochs_14062025_003324.pth\n"
     ]
    }
   ],
   "source": [
    "from datetime import datetime\n",
    "\n",
    "time_now = datetime.now().strftime('%d%m%Y_%H%M%S')\n",
    "\n",
    "# Save the trained model\n",
    "model_save_path = f'{model_name}_{num_epochs}epochs_{time_now}.pth'\n",
    "torch.save(model.state_dict(), model_save_path)\n",
    "print(f\"Model saved to {model_save_path}\")"
   ]
  },
  {
   "cell_type": "markdown",
   "metadata": {},
   "source": [
    "Loading model for analysis"
   ]
  },
  {
   "cell_type": "code",
   "execution_count": 53,
   "metadata": {},
   "outputs": [
    {
     "name": "stderr",
     "output_type": "stream",
     "text": [
      "C:\\Users\\santt\\AppData\\Local\\Temp\\ipykernel_21620\\1492191101.py:7: FutureWarning: You are using `torch.load` with `weights_only=False` (the current default value), which uses the default pickle module implicitly. It is possible to construct malicious pickle data which will execute arbitrary code during unpickling (See https://github.com/pytorch/pytorch/blob/main/SECURITY.md#untrusted-models for more details). In a future release, the default value for `weights_only` will be flipped to `True`. This limits the functions that could be executed during unpickling. Arbitrary objects will no longer be allowed to be loaded via this mode unless they are explicitly allowlisted by the user via `torch.serialization.add_safe_globals`. We recommend you start setting `weights_only=True` for any use case where you don't have full control of the loaded file. Please open an issue on GitHub for any issues related to this experimental feature.\n",
      "  model_finetuned_2.load_state_dict(torch.load(model_save_path))\n"
     ]
    },
    {
     "data": {
      "text/plain": [
       "HSClassifier(\n",
       "  (distilbert): DistilBertModel(\n",
       "    (embeddings): Embeddings(\n",
       "      (word_embeddings): Embedding(30522, 768, padding_idx=0)\n",
       "      (position_embeddings): Embedding(512, 768)\n",
       "      (LayerNorm): LayerNorm((768,), eps=1e-12, elementwise_affine=True)\n",
       "      (dropout): Dropout(p=0.1, inplace=False)\n",
       "    )\n",
       "    (transformer): Transformer(\n",
       "      (layer): ModuleList(\n",
       "        (0-5): 6 x TransformerBlock(\n",
       "          (attention): DistilBertSdpaAttention(\n",
       "            (dropout): Dropout(p=0.1, inplace=False)\n",
       "            (q_lin): Linear(in_features=768, out_features=768, bias=True)\n",
       "            (k_lin): Linear(in_features=768, out_features=768, bias=True)\n",
       "            (v_lin): Linear(in_features=768, out_features=768, bias=True)\n",
       "            (out_lin): Linear(in_features=768, out_features=768, bias=True)\n",
       "          )\n",
       "          (sa_layer_norm): LayerNorm((768,), eps=1e-12, elementwise_affine=True)\n",
       "          (ffn): FFN(\n",
       "            (dropout): Dropout(p=0.1, inplace=False)\n",
       "            (lin1): Linear(in_features=768, out_features=3072, bias=True)\n",
       "            (lin2): Linear(in_features=3072, out_features=768, bias=True)\n",
       "            (activation): GELUActivation()\n",
       "          )\n",
       "          (output_layer_norm): LayerNorm((768,), eps=1e-12, elementwise_affine=True)\n",
       "        )\n",
       "      )\n",
       "    )\n",
       "  )\n",
       "  (classifier): Sequential(\n",
       "    (0): Linear(in_features=768, out_features=1024, bias=True)\n",
       "    (1): ReLU()\n",
       "    (2): BatchNorm1d(1024, eps=1e-05, momentum=0.1, affine=True, track_running_stats=True)\n",
       "    (3): Dropout(p=0.3, inplace=False)\n",
       "    (4): Linear(in_features=1024, out_features=1133, bias=True)\n",
       "  )\n",
       ")"
      ]
     },
     "execution_count": 53,
     "metadata": {},
     "output_type": "execute_result"
    }
   ],
   "source": [
    "model_name = 'distiltbert_hs04_simple_classifier_finetuned_2layers_6epochs_14062025_003324.pth'\n",
    "\n",
    "model_save_path = os.path.join('models', model_name)\n",
    "\n",
    "model_finetuned_2 = HSClassifier(n_classes=len(label2id), fine_tune=True, n_finetune_layers=2)\n",
    "\n",
    "model_finetuned_2.load_state_dict(torch.load(model_save_path))\n",
    "\n",
    "model_finetuned_2.eval() # to set the model for inference"
   ]
  },
  {
   "cell_type": "code",
   "execution_count": 48,
   "metadata": {},
   "outputs": [],
   "source": [
    "torch.cuda.empty_cache()"
   ]
  },
  {
   "cell_type": "code",
   "execution_count": 54,
   "metadata": {},
   "outputs": [
    {
     "name": "stdout",
     "output_type": "stream",
     "text": [
      "Testing on cuda\n",
      "Accuracy Top-1: 63.28 %\n",
      "Accuracy Top-2: 72.97 %\n",
      "Accuracy Top-3: 77.15 %\n",
      "Accuracy Top-4: 79.85 %\n",
      "Accuracy Top-5: 81.70 %\n"
     ]
    }
   ],
   "source": [
    "device = torch.device(\"cuda\" if torch.cuda.is_available() else \"cpu\")\n",
    "print(f'Testing on {device}')\n",
    "\n",
    "results_finetuned_2 = predict_and_evaluate(model_finetuned_2, tokenizer, val_df, id2label, max_length=max_length, device=device)"
   ]
  },
  {
   "cell_type": "code",
   "execution_count": 55,
   "metadata": {},
   "outputs": [
    {
     "data": {
      "text/html": [
       "<div>\n",
       "<style scoped>\n",
       "    .dataframe tbody tr th:only-of-type {\n",
       "        vertical-align: middle;\n",
       "    }\n",
       "\n",
       "    .dataframe tbody tr th {\n",
       "        vertical-align: top;\n",
       "    }\n",
       "\n",
       "    .dataframe thead th {\n",
       "        text-align: right;\n",
       "    }\n",
       "</style>\n",
       "<table border=\"1\" class=\"dataframe\">\n",
       "  <thead>\n",
       "    <tr style=\"text-align: right;\">\n",
       "      <th></th>\n",
       "      <th>Description</th>\n",
       "      <th>True Label</th>\n",
       "      <th>Top1</th>\n",
       "      <th>Proba Top1</th>\n",
       "      <th>Top2</th>\n",
       "      <th>Proba Top2</th>\n",
       "      <th>Top3</th>\n",
       "      <th>Proba Top3</th>\n",
       "      <th>Top4</th>\n",
       "      <th>Proba Top4</th>\n",
       "      <th>Top5</th>\n",
       "      <th>Proba Top5</th>\n",
       "    </tr>\n",
       "  </thead>\n",
       "  <tbody>\n",
       "    <tr>\n",
       "      <th>3914</th>\n",
       "      <td>BEVEL GEAR (43A0002)</td>\n",
       "      <td>8483</td>\n",
       "      <td>8483</td>\n",
       "      <td>0.867107</td>\n",
       "      <td>8708</td>\n",
       "      <td>0.046992</td>\n",
       "      <td>8448</td>\n",
       "      <td>0.036971</td>\n",
       "      <td>8422</td>\n",
       "      <td>0.008359</td>\n",
       "      <td>8714</td>\n",
       "      <td>0.006879</td>\n",
       "    </tr>\n",
       "    <tr>\n",
       "      <th>143735</th>\n",
       "      <td>NANO FACIAL STEAMER</td>\n",
       "      <td>8516</td>\n",
       "      <td>8516</td>\n",
       "      <td>0.969369</td>\n",
       "      <td>9503</td>\n",
       "      <td>0.007005</td>\n",
       "      <td>7323</td>\n",
       "      <td>0.002286</td>\n",
       "      <td>3924</td>\n",
       "      <td>0.001876</td>\n",
       "      <td>8510</td>\n",
       "      <td>0.001727</td>\n",
       "    </tr>\n",
       "    <tr>\n",
       "      <th>257095</th>\n",
       "      <td>DISINFECTION CABINET (KITCHEN UTENSIL)</td>\n",
       "      <td>9403</td>\n",
       "      <td>9403</td>\n",
       "      <td>0.251126</td>\n",
       "      <td>3924</td>\n",
       "      <td>0.134935</td>\n",
       "      <td>7323</td>\n",
       "      <td>0.119689</td>\n",
       "      <td>8418</td>\n",
       "      <td>0.077727</td>\n",
       "      <td>7324</td>\n",
       "      <td>0.031028</td>\n",
       "    </tr>\n",
       "    <tr>\n",
       "      <th>238825</th>\n",
       "      <td>USED TOYOTA WISH 2010</td>\n",
       "      <td>8703</td>\n",
       "      <td>8703</td>\n",
       "      <td>0.995775</td>\n",
       "      <td>8702</td>\n",
       "      <td>0.002103</td>\n",
       "      <td>8704</td>\n",
       "      <td>0.001041</td>\n",
       "      <td>8711</td>\n",
       "      <td>0.000131</td>\n",
       "      <td>7007</td>\n",
       "      <td>0.000016</td>\n",
       "    </tr>\n",
       "    <tr>\n",
       "      <th>91527</th>\n",
       "      <td>RECORDER</td>\n",
       "      <td>8519</td>\n",
       "      <td>8519</td>\n",
       "      <td>0.556769</td>\n",
       "      <td>8521</td>\n",
       "      <td>0.234013</td>\n",
       "      <td>9207</td>\n",
       "      <td>0.053891</td>\n",
       "      <td>9202</td>\n",
       "      <td>0.035333</td>\n",
       "      <td>9209</td>\n",
       "      <td>0.015599</td>\n",
       "    </tr>\n",
       "    <tr>\n",
       "      <th>...</th>\n",
       "      <td>...</td>\n",
       "      <td>...</td>\n",
       "      <td>...</td>\n",
       "      <td>...</td>\n",
       "      <td>...</td>\n",
       "      <td>...</td>\n",
       "      <td>...</td>\n",
       "      <td>...</td>\n",
       "      <td>...</td>\n",
       "      <td>...</td>\n",
       "      <td>...</td>\n",
       "      <td>...</td>\n",
       "    </tr>\n",
       "    <tr>\n",
       "      <th>52434</th>\n",
       "      <td>USED 2006 TOYOTA ALPHARD CHASSIS NO: ANH10-015...</td>\n",
       "      <td>8703</td>\n",
       "      <td>8703</td>\n",
       "      <td>0.999284</td>\n",
       "      <td>8704</td>\n",
       "      <td>0.000149</td>\n",
       "      <td>8711</td>\n",
       "      <td>0.000122</td>\n",
       "      <td>8702</td>\n",
       "      <td>0.000076</td>\n",
       "      <td>8701</td>\n",
       "      <td>0.000011</td>\n",
       "    </tr>\n",
       "    <tr>\n",
       "      <th>108622</th>\n",
       "      <td>CUTTING DISC,SIZE:230 X 3.2 X 22.23MM (For Met...</td>\n",
       "      <td>6804</td>\n",
       "      <td>6804</td>\n",
       "      <td>0.937857</td>\n",
       "      <td>8202</td>\n",
       "      <td>0.031720</td>\n",
       "      <td>8208</td>\n",
       "      <td>0.018099</td>\n",
       "      <td>8207</td>\n",
       "      <td>0.002442</td>\n",
       "      <td>8441</td>\n",
       "      <td>0.002157</td>\n",
       "    </tr>\n",
       "    <tr>\n",
       "      <th>243579</th>\n",
       "      <td>FACEBODY CREAM</td>\n",
       "      <td>3304</td>\n",
       "      <td>3304</td>\n",
       "      <td>0.979628</td>\n",
       "      <td>3306</td>\n",
       "      <td>0.003408</td>\n",
       "      <td>3405</td>\n",
       "      <td>0.003144</td>\n",
       "      <td>3402</td>\n",
       "      <td>0.002940</td>\n",
       "      <td>3305</td>\n",
       "      <td>0.002720</td>\n",
       "    </tr>\n",
       "    <tr>\n",
       "      <th>258750</th>\n",
       "      <td>FUEL COCK CG</td>\n",
       "      <td>8714</td>\n",
       "      <td>8481</td>\n",
       "      <td>0.823296</td>\n",
       "      <td>8207</td>\n",
       "      <td>0.035668</td>\n",
       "      <td>8431</td>\n",
       "      <td>0.028165</td>\n",
       "      <td>8714</td>\n",
       "      <td>0.021190</td>\n",
       "      <td>8467</td>\n",
       "      <td>0.008955</td>\n",
       "    </tr>\n",
       "    <tr>\n",
       "      <th>248718</th>\n",
       "      <td>EZ630 ENERGIZER</td>\n",
       "      <td>8506</td>\n",
       "      <td>8543</td>\n",
       "      <td>0.386907</td>\n",
       "      <td>9031</td>\n",
       "      <td>0.082183</td>\n",
       "      <td>8504</td>\n",
       "      <td>0.039309</td>\n",
       "      <td>9032</td>\n",
       "      <td>0.030486</td>\n",
       "      <td>8419</td>\n",
       "      <td>0.026523</td>\n",
       "    </tr>\n",
       "  </tbody>\n",
       "</table>\n",
       "<p>26778 rows × 12 columns</p>\n",
       "</div>"
      ],
      "text/plain": [
       "                                              Description True Label  Top1  \\\n",
       "3914                                 BEVEL GEAR (43A0002)       8483  8483   \n",
       "143735                                NANO FACIAL STEAMER       8516  8516   \n",
       "257095             DISINFECTION CABINET (KITCHEN UTENSIL)       9403  9403   \n",
       "238825                              USED TOYOTA WISH 2010       8703  8703   \n",
       "91527                                            RECORDER       8519  8519   \n",
       "...                                                   ...        ...   ...   \n",
       "52434   USED 2006 TOYOTA ALPHARD CHASSIS NO: ANH10-015...       8703  8703   \n",
       "108622  CUTTING DISC,SIZE:230 X 3.2 X 22.23MM (For Met...       6804  6804   \n",
       "243579                                     FACEBODY CREAM       3304  3304   \n",
       "258750                                       FUEL COCK CG       8714  8481   \n",
       "248718                                    EZ630 ENERGIZER       8506  8543   \n",
       "\n",
       "        Proba Top1  Top2  Proba Top2  Top3  Proba Top3  Top4  Proba Top4  \\\n",
       "3914      0.867107  8708    0.046992  8448    0.036971  8422    0.008359   \n",
       "143735    0.969369  9503    0.007005  7323    0.002286  3924    0.001876   \n",
       "257095    0.251126  3924    0.134935  7323    0.119689  8418    0.077727   \n",
       "238825    0.995775  8702    0.002103  8704    0.001041  8711    0.000131   \n",
       "91527     0.556769  8521    0.234013  9207    0.053891  9202    0.035333   \n",
       "...            ...   ...         ...   ...         ...   ...         ...   \n",
       "52434     0.999284  8704    0.000149  8711    0.000122  8702    0.000076   \n",
       "108622    0.937857  8202    0.031720  8208    0.018099  8207    0.002442   \n",
       "243579    0.979628  3306    0.003408  3405    0.003144  3402    0.002940   \n",
       "258750    0.823296  8207    0.035668  8431    0.028165  8714    0.021190   \n",
       "248718    0.386907  9031    0.082183  8504    0.039309  9032    0.030486   \n",
       "\n",
       "        Top5  Proba Top5  \n",
       "3914    8714    0.006879  \n",
       "143735  8510    0.001727  \n",
       "257095  7324    0.031028  \n",
       "238825  7007    0.000016  \n",
       "91527   9209    0.015599  \n",
       "...      ...         ...  \n",
       "52434   8701    0.000011  \n",
       "108622  8441    0.002157  \n",
       "243579  3305    0.002720  \n",
       "258750  8467    0.008955  \n",
       "248718  8419    0.026523  \n",
       "\n",
       "[26778 rows x 12 columns]"
      ]
     },
     "execution_count": 55,
     "metadata": {},
     "output_type": "execute_result"
    }
   ],
   "source": [
    "results_finetuned_2"
   ]
  },
  {
   "cell_type": "code",
   "execution_count": 56,
   "metadata": {},
   "outputs": [
    {
     "data": {
      "text/html": [
       "<div>\n",
       "<style scoped>\n",
       "    .dataframe tbody tr th:only-of-type {\n",
       "        vertical-align: middle;\n",
       "    }\n",
       "\n",
       "    .dataframe tbody tr th {\n",
       "        vertical-align: top;\n",
       "    }\n",
       "\n",
       "    .dataframe thead th {\n",
       "        text-align: right;\n",
       "    }\n",
       "</style>\n",
       "<table border=\"1\" class=\"dataframe\">\n",
       "  <thead>\n",
       "    <tr style=\"text-align: right;\">\n",
       "      <th></th>\n",
       "      <th>Description</th>\n",
       "      <th>True Label</th>\n",
       "      <th>Top1</th>\n",
       "      <th>Proba Top1</th>\n",
       "      <th>Top2</th>\n",
       "      <th>Proba Top2</th>\n",
       "      <th>Top3</th>\n",
       "      <th>Proba Top3</th>\n",
       "      <th>Top4</th>\n",
       "      <th>Proba Top4</th>\n",
       "      <th>Top5</th>\n",
       "      <th>Proba Top5</th>\n",
       "    </tr>\n",
       "  </thead>\n",
       "  <tbody>\n",
       "    <tr>\n",
       "      <th>215281</th>\n",
       "      <td>FLATBED SEMI TRAILER WITH CHASSIS# BIL 31106</td>\n",
       "      <td>8716</td>\n",
       "      <td>8716</td>\n",
       "      <td>0.999988</td>\n",
       "      <td>9503</td>\n",
       "      <td>0.000007</td>\n",
       "      <td>8704</td>\n",
       "      <td>1.445964e-06</td>\n",
       "      <td>9403</td>\n",
       "      <td>8.973758e-07</td>\n",
       "      <td>3922</td>\n",
       "      <td>2.626336e-07</td>\n",
       "    </tr>\n",
       "    <tr>\n",
       "      <th>126649</th>\n",
       "      <td>NEW 3 AXLE TANKER SEMI-TRAILER</td>\n",
       "      <td>8716</td>\n",
       "      <td>8716</td>\n",
       "      <td>0.999988</td>\n",
       "      <td>8704</td>\n",
       "      <td>0.000007</td>\n",
       "      <td>8701</td>\n",
       "      <td>8.543503e-07</td>\n",
       "      <td>8708</td>\n",
       "      <td>5.828219e-07</td>\n",
       "      <td>9503</td>\n",
       "      <td>3.471298e-07</td>\n",
       "    </tr>\n",
       "    <tr>\n",
       "      <th>234187</th>\n",
       "      <td>FLATBED SEMI TRAILER CHSS: LZ99FRB37M0YHC098</td>\n",
       "      <td>8716</td>\n",
       "      <td>8716</td>\n",
       "      <td>0.999985</td>\n",
       "      <td>8704</td>\n",
       "      <td>0.000004</td>\n",
       "      <td>8432</td>\n",
       "      <td>1.597238e-06</td>\n",
       "      <td>9503</td>\n",
       "      <td>9.581191e-07</td>\n",
       "      <td>9403</td>\n",
       "      <td>7.806648e-07</td>\n",
       "    </tr>\n",
       "    <tr>\n",
       "      <th>19168</th>\n",
       "      <td>32.5M3 BULK TANKER SEMI TRAILER</td>\n",
       "      <td>8716</td>\n",
       "      <td>8716</td>\n",
       "      <td>0.999981</td>\n",
       "      <td>8704</td>\n",
       "      <td>0.000004</td>\n",
       "      <td>9503</td>\n",
       "      <td>2.163359e-06</td>\n",
       "      <td>7326</td>\n",
       "      <td>2.005798e-06</td>\n",
       "      <td>4011</td>\n",
       "      <td>1.237607e-06</td>\n",
       "    </tr>\n",
       "    <tr>\n",
       "      <th>170097</th>\n",
       "      <td>SL ALBERO GREY (PRC) 22.5 X 90 STD</td>\n",
       "      <td>6907</td>\n",
       "      <td>6907</td>\n",
       "      <td>0.999979</td>\n",
       "      <td>6802</td>\n",
       "      <td>0.000002</td>\n",
       "      <td>6910</td>\n",
       "      <td>1.158853e-06</td>\n",
       "      <td>6902</td>\n",
       "      <td>1.102464e-06</td>\n",
       "      <td>5702</td>\n",
       "      <td>8.960888e-07</td>\n",
       "    </tr>\n",
       "  </tbody>\n",
       "</table>\n",
       "</div>"
      ],
      "text/plain": [
       "                                         Description True Label  Top1  \\\n",
       "215281  FLATBED SEMI TRAILER WITH CHASSIS# BIL 31106       8716  8716   \n",
       "126649                NEW 3 AXLE TANKER SEMI-TRAILER       8716  8716   \n",
       "234187  FLATBED SEMI TRAILER CHSS: LZ99FRB37M0YHC098       8716  8716   \n",
       "19168                32.5M3 BULK TANKER SEMI TRAILER       8716  8716   \n",
       "170097            SL ALBERO GREY (PRC) 22.5 X 90 STD       6907  6907   \n",
       "\n",
       "        Proba Top1  Top2  Proba Top2  Top3    Proba Top3  Top4    Proba Top4  \\\n",
       "215281    0.999988  9503    0.000007  8704  1.445964e-06  9403  8.973758e-07   \n",
       "126649    0.999988  8704    0.000007  8701  8.543503e-07  8708  5.828219e-07   \n",
       "234187    0.999985  8704    0.000004  8432  1.597238e-06  9503  9.581191e-07   \n",
       "19168     0.999981  8704    0.000004  9503  2.163359e-06  7326  2.005798e-06   \n",
       "170097    0.999979  6802    0.000002  6910  1.158853e-06  6902  1.102464e-06   \n",
       "\n",
       "        Top5    Proba Top5  \n",
       "215281  3922  2.626336e-07  \n",
       "126649  9503  3.471298e-07  \n",
       "234187  9403  7.806648e-07  \n",
       "19168   4011  1.237607e-06  \n",
       "170097  5702  8.960888e-07  "
      ]
     },
     "execution_count": 56,
     "metadata": {},
     "output_type": "execute_result"
    }
   ],
   "source": [
    "results_finetuned_2.sort_values(by='Proba Top1', ascending=False).head(5)"
   ]
  },
  {
   "cell_type": "code",
   "execution_count": 57,
   "metadata": {},
   "outputs": [
    {
     "data": {
      "text/html": [
       "<div>\n",
       "<style scoped>\n",
       "    .dataframe tbody tr th:only-of-type {\n",
       "        vertical-align: middle;\n",
       "    }\n",
       "\n",
       "    .dataframe tbody tr th {\n",
       "        vertical-align: top;\n",
       "    }\n",
       "\n",
       "    .dataframe thead th {\n",
       "        text-align: right;\n",
       "    }\n",
       "</style>\n",
       "<table border=\"1\" class=\"dataframe\">\n",
       "  <thead>\n",
       "    <tr style=\"text-align: right;\">\n",
       "      <th></th>\n",
       "      <th>Description</th>\n",
       "      <th>True Label</th>\n",
       "      <th>Top1</th>\n",
       "      <th>Proba Top1</th>\n",
       "      <th>Top2</th>\n",
       "      <th>Proba Top2</th>\n",
       "      <th>Top3</th>\n",
       "      <th>Proba Top3</th>\n",
       "      <th>Top4</th>\n",
       "      <th>Proba Top4</th>\n",
       "      <th>Top5</th>\n",
       "      <th>Proba Top5</th>\n",
       "    </tr>\n",
       "  </thead>\n",
       "  <tbody>\n",
       "    <tr>\n",
       "      <th>115686</th>\n",
       "      <td>GAOIL</td>\n",
       "      <td>2710</td>\n",
       "      <td>7323</td>\n",
       "      <td>0.029667</td>\n",
       "      <td>9403</td>\n",
       "      <td>0.023529</td>\n",
       "      <td>3004</td>\n",
       "      <td>0.022999</td>\n",
       "      <td>6304</td>\n",
       "      <td>0.020490</td>\n",
       "      <td>8714</td>\n",
       "      <td>0.019535</td>\n",
       "    </tr>\n",
       "    <tr>\n",
       "      <th>181250</th>\n",
       "      <td>BODY SHELLS (SEGMENTS) &amp; HARDAWARE</td>\n",
       "      <td>8438</td>\n",
       "      <td>8207</td>\n",
       "      <td>0.028932</td>\n",
       "      <td>7318</td>\n",
       "      <td>0.027450</td>\n",
       "      <td>9503</td>\n",
       "      <td>0.023589</td>\n",
       "      <td>3304</td>\n",
       "      <td>0.021584</td>\n",
       "      <td>3824</td>\n",
       "      <td>0.018017</td>\n",
       "    </tr>\n",
       "    <tr>\n",
       "      <th>13742</th>\n",
       "      <td>BALBU</td>\n",
       "      <td>7011</td>\n",
       "      <td>9603</td>\n",
       "      <td>0.027533</td>\n",
       "      <td>1904</td>\n",
       "      <td>0.025077</td>\n",
       "      <td>1704</td>\n",
       "      <td>0.023428</td>\n",
       "      <td>3305</td>\n",
       "      <td>0.017740</td>\n",
       "      <td>3808</td>\n",
       "      <td>0.015904</td>\n",
       "    </tr>\n",
       "    <tr>\n",
       "      <th>54766</th>\n",
       "      <td>Shell materials</td>\n",
       "      <td>3407</td>\n",
       "      <td>3824</td>\n",
       "      <td>0.025525</td>\n",
       "      <td>0801</td>\n",
       "      <td>0.024976</td>\n",
       "      <td>4412</td>\n",
       "      <td>0.020854</td>\n",
       "      <td>3214</td>\n",
       "      <td>0.015480</td>\n",
       "      <td>1513</td>\n",
       "      <td>0.014277</td>\n",
       "    </tr>\n",
       "    <tr>\n",
       "      <th>188298</th>\n",
       "      <td>THYAME</td>\n",
       "      <td>0910</td>\n",
       "      <td>3105</td>\n",
       "      <td>0.020822</td>\n",
       "      <td>3808</td>\n",
       "      <td>0.020262</td>\n",
       "      <td>8516</td>\n",
       "      <td>0.020016</td>\n",
       "      <td>2710</td>\n",
       "      <td>0.018653</td>\n",
       "      <td>6506</td>\n",
       "      <td>0.016524</td>\n",
       "    </tr>\n",
       "  </tbody>\n",
       "</table>\n",
       "</div>"
      ],
      "text/plain": [
       "                               Description True Label  Top1  Proba Top1  Top2  \\\n",
       "115686                               GAOIL       2710  7323    0.029667  9403   \n",
       "181250  BODY SHELLS (SEGMENTS) & HARDAWARE       8438  8207    0.028932  7318   \n",
       "13742                                BALBU       7011  9603    0.027533  1904   \n",
       "54766                      Shell materials       3407  3824    0.025525  0801   \n",
       "188298                              THYAME       0910  3105    0.020822  3808   \n",
       "\n",
       "        Proba Top2  Top3  Proba Top3  Top4  Proba Top4  Top5  Proba Top5  \n",
       "115686    0.023529  3004    0.022999  6304    0.020490  8714    0.019535  \n",
       "181250    0.027450  9503    0.023589  3304    0.021584  3824    0.018017  \n",
       "13742     0.025077  1704    0.023428  3305    0.017740  3808    0.015904  \n",
       "54766     0.024976  4412    0.020854  3214    0.015480  1513    0.014277  \n",
       "188298    0.020262  8516    0.020016  2710    0.018653  6506    0.016524  "
      ]
     },
     "execution_count": 57,
     "metadata": {},
     "output_type": "execute_result"
    }
   ],
   "source": [
    "results_finetuned_2.sort_values(by='Proba Top1', ascending=False).tail(5)"
   ]
  },
  {
   "cell_type": "markdown",
   "metadata": {},
   "source": [
    "Saving results"
   ]
  },
  {
   "cell_type": "code",
   "execution_count": 58,
   "metadata": {},
   "outputs": [],
   "source": [
    "results_finetuned_2.to_csv('results/hs04_distiltbert_finetuned_2layers_results.csv', index=True)"
   ]
  },
  {
   "cell_type": "markdown",
   "metadata": {},
   "source": [
    "## Conclusions\n",
    "\n",
    "DistilBertTokenizerFast.from_pretrained(\"distilbert-base-uncased\") was used to train a HSClassifier , using 3 approaches:\n",
    "\n",
    "- Transfer learning (fixed encoder):\n",
    "    - 10 epochs (25 min/epoch - 250 min)\n",
    "    - Not enough training (estimated 15 epochs)\n",
    "    - Top1 51 % | Top3 66 % | Top5 72 %\n",
    "\n",
    "- Partial fine-tuning (last 2 layers):\n",
    "    - 6 epochs (38 min/epoch - 229 min)\n",
    "    - Top1 63 % | Top3 77 % | Top5 82 % \n",
    "\n",
    "- Fine-tuning (all layers):\n",
    "    - 3 epochs (65 min/epoch - 196 min)\n",
    "    - Top1 64 % | Top3 78 % | Top5 82 % \n",
    "\n",
    "Using a RTX 3060 Laptop GPU, training time was reduced x5 comparing with CPU.\n"
   ]
  }
 ],
 "metadata": {
  "kernelspec": {
   "display_name": "venv",
   "language": "python",
   "name": "python3"
  },
  "language_info": {
   "codemirror_mode": {
    "name": "ipython",
    "version": 3
   },
   "file_extension": ".py",
   "mimetype": "text/x-python",
   "name": "python",
   "nbconvert_exporter": "python",
   "pygments_lexer": "ipython3",
   "version": "3.12.6"
  }
 },
 "nbformat": 4,
 "nbformat_minor": 2
}
