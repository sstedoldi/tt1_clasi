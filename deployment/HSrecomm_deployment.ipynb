{
 "cells": [
  {
   "cell_type": "code",
   "execution_count": 1,
   "metadata": {},
   "outputs": [],
   "source": [
    "#HS code predict module\n",
    "from HscodePredict import InfoHscode, HscodePredict"
   ]
  },
  {
   "cell_type": "code",
   "execution_count": 2,
   "metadata": {},
   "outputs": [
    {
     "data": {
      "text/plain": [
       "['Live horses, asses, mules and hinnies.',\n",
       " '- Horses :',\n",
       " '-- Pure-bred breeding animals']"
      ]
     },
     "execution_count": 2,
     "metadata": {},
     "output_type": "execute_result"
    }
   ],
   "source": [
    "# testing InfoHscode, to add information\n",
    "ins_ih = InfoHscode()\n",
    "ins_ih.hscode_info('010121')"
   ]
  },
  {
   "cell_type": "code",
   "execution_count": 3,
   "metadata": {},
   "outputs": [
    {
     "data": {
      "text/plain": [
       "[('851712', 0.5888), ('200979', 0.363), ('200929', 0.3546)]"
      ]
     },
     "execution_count": 3,
     "metadata": {},
     "output_type": "execute_result"
    }
   ],
   "source": [
    "# prediction model testing\n",
    "model_path = './data/model_save/trained_model_vec400.d2v'\n",
    "\n",
    "ins_hp = HscodePredict(model_path)\n",
    "\n",
    "ins_hp.predict('apple iphone')"
   ]
  },
  {
   "cell_type": "code",
   "execution_count": 4,
   "metadata": {},
   "outputs": [
    {
     "data": {
      "text/plain": [
       "[{'predict': '851712',\n",
       "  'score': 0.585,\n",
       "  'hs_info': ['Telephone sets, including telephones for cellular networks or for other wireless networks; other apparatus for the transmission or reception of voice, images or other data, including apparatus for communication in a wired or wireless network (such as a local or wide area network), other than transmission or reception apparatus of heading 84.43, 85.25, 85.27 or 85.28.',\n",
       "   '- Telephone sets, including telephones for cellular networks or for other wireless networks :',\n",
       "   '-- Telephones for cellular networks or for other wireless networks']},\n",
       " {'predict': '200979',\n",
       "  'score': 0.371,\n",
       "  'hs_info': ['Fruit juices (including grape must) and vegetable juices, unfermented and not containing added spirit, whether or not containing added sugar or other sweetening matter.',\n",
       "   '- Apple juice :',\n",
       "   '-- Other']},\n",
       " {'predict': '200989',\n",
       "  'score': 0.3591,\n",
       "  'hs_info': ['Fruit juices (including grape must) and vegetable juices, unfermented and not containing added spirit, whether or not containing added sugar or other sweetening matter.',\n",
       "   '- Juice of any other single fruit or vegetable :',\n",
       "   '-- Other']}]"
      ]
     },
     "execution_count": 4,
     "metadata": {},
     "output_type": "execute_result"
    }
   ],
   "source": [
    "ins_hp.predict_add_info('apple iphone')"
   ]
  },
  {
   "cell_type": "code",
   "execution_count": 6,
   "metadata": {},
   "outputs": [
    {
     "data": {
      "text/plain": [
       "[{'predict': '020629',\n",
       "  'score': 0.5745,\n",
       "  'hs_info': ['Edible offal of bovine animals, swine, sheep, goats, horses, asses, mules or hinnies, fresh, chilled or frozen.',\n",
       "   '- Of bovine animals, frozen :',\n",
       "   '-- Other']},\n",
       " {'predict': '020690',\n",
       "  'score': 0.4978,\n",
       "  'hs_info': ['Edible offal of bovine animals, swine, sheep, goats, horses, asses, mules or hinnies, fresh, chilled or frozen.',\n",
       "   '- Other, frozen',\n",
       "   '']},\n",
       " {'predict': '020210',\n",
       "  'score': 0.4732,\n",
       "  'hs_info': ['Meat of bovine animals, frozen.',\n",
       "   '- Carcasses and half-carcasses',\n",
       "   '']}]"
      ]
     },
     "execution_count": 6,
     "metadata": {},
     "output_type": "execute_result"
    }
   ],
   "source": [
    "ins_hp.predict_add_info('frozen cow beef')"
   ]
  }
 ],
 "metadata": {
  "kernelspec": {
   "display_name": "hsai",
   "language": "python",
   "name": "python3"
  },
  "language_info": {
   "codemirror_mode": {
    "name": "ipython",
    "version": 3
   },
   "file_extension": ".py",
   "mimetype": "text/x-python",
   "name": "python",
   "nbconvert_exporter": "python",
   "pygments_lexer": "ipython3",
   "version": "3.8.18"
  }
 },
 "nbformat": 4,
 "nbformat_minor": 2
}
